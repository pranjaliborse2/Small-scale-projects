{
 "cells": [
  {
   "cell_type": "code",
   "execution_count": 2,
   "metadata": {},
   "outputs": [],
   "source": [
    "from rpy2.robjects.packages import importr\n",
    "utils = importr(\"utils\")\n",
    "extremes = importr(\"extRemes\")\n",
    "ismev = importr(\"ismev\")\n",
    "eva = importr(\"eva\")\n",
    "gnFit = importr(\"gnFit\")\n",
    "from netCDF4 import Dataset\n",
    "import xarray as xr\n",
    "import matplotlib.pyplot as plt\n",
    "import time\n",
    "import numpy as np\n",
    "import pandas as pd\n",
    "from datetime import datetime\n",
    "from matplotlib.offsetbox import AnchoredText\n",
    "from netCDF4 import num2date, date2num\n",
    "statis = importr('stats')\n",
    "import rpy2.robjects.numpy2ri\n",
    "rpy2.robjects.numpy2ri.activate()\n",
    "import os\n",
    "os.chdir(r'C:\\Users\\Pranjali\\Downloads')\n",
    "mask = xr.open_dataset(\"future.nc\")\n"
   ]
  },
  {
   "cell_type": "code",
   "execution_count": 3,
   "metadata": {},
   "outputs": [],
   "source": [
    "masked = mask['__xarray_dataarray_variable__']\n"
   ]
  },
  {
   "cell_type": "code",
   "execution_count": 4,
   "metadata": {},
   "outputs": [],
   "source": [
    "ppt2 = masked.rolling(time=2).sum()\n",
    "maxima2 = ppt2.groupby('time.year').max('time')"
   ]
  },
  {
   "cell_type": "code",
   "execution_count": 5,
   "metadata": {},
   "outputs": [],
   "source": [
    "lon1=[]\n",
    "lat1=[]\n",
    "rlv2=[]\n",
    "paramlist2=[]\n",
    "for i in range(129):\n",
    "    for j in range(135):\n",
    "\n",
    "        maxima21 = maxima2.sel(lat=mask.lat[i],lon=mask.lon[j])\n",
    "        params2 = {}    \n",
    "        if(maxima21.values[1]>0):\n",
    "            #RL2 = []\n",
    "            block_maxima=maxima21.values[~np.isnan(maxima21.values)]\n",
    "            try:\n",
    "                gev_fit =  eva.gevrFit(block_maxima)\n",
    "            except:\n",
    "                pass\n",
    "            MLE_est = list(gev_fit.rx2('par.ests'))\n",
    "\n",
    "            #print(block_maxima)\n",
    "\n",
    "\n",
    "            params2['location'] = MLE_est[0]\n",
    "\n",
    "            params2['scale'] =  MLE_est[1] \n",
    "\n",
    "            params2['shape'] = MLE_est[2]\n",
    "\n",
    "            if MLE_est[1]<0:\n",
    "                MLE_est[1] = 0.01\n",
    "\n",
    "            y = eva.rgevr(10000, 1, loc = MLE_est[0], scale = MLE_est[1], shape = MLE_est[2])\n",
    "\n",
    "            sig_test = statis.ks_test(block_maxima, y)\n",
    "\n",
    "            params2['p_val'] = sig_test.rx2('p.value')[0]\n",
    "            paramlist2.append(params2)\n",
    "\n",
    "    #print(params)\n",
    "  \n",
    "\n",
    "\n",
    "            if params2['p_val']>0.05:\n",
    "\n",
    "                temp = eva.gevrRl(gev_fit, 100, method = \"delta\")\n",
    "\n",
    "                RL2 = temp.rx2('Estimate')[0]\n",
    "#n['RLV2'][i][j] = RL2\n",
    "\n",
    "            else:\n",
    "                params2['p_val'] = np.nan\n",
    "                params2['location'] = np.nan\n",
    "                params2['scale'] = np.nan\n",
    "                params2['shape'] = np.nan\n",
    "            #print(RL2,climate.lat.values[i],climate.lon.values[j])\n",
    "            rlv2.append(RL2)\n",
    "            lat1.append(mask.lat.values[i])\n",
    "            lon1.append(mask.lon.values[j])\n",
    "#n['RLV2'][i][j] = np.nan\n",
    "#print(RL2)\n",
    "        else:\n",
    "            params2['p_val'] = np.nan\n",
    "            params2['location'] = np.nan\n",
    "            params2['scale'] = np.nan\n",
    "            params2['shape'] = np.nan"
   ]
  },
  {
   "cell_type": "code",
   "execution_count": 6,
   "metadata": {},
   "outputs": [
    {
     "name": "stdout",
     "output_type": "stream",
     "text": [
      "<xarray.Dataset>\n",
      "Dimensions:  (lat1: 117, lon1: 118)\n",
      "Coordinates:\n",
      "  * lat1     (lat1) float64 8.25 8.5 8.75 9.0 9.25 ... 36.5 36.75 37.0 37.25\n",
      "  * lon1     (lon1) float64 68.0 68.25 68.5 68.75 69.0 ... 96.5 96.75 97.0 97.25\n",
      "Data variables:\n",
      "    rlv2     (lat1, lon1) float64 nan nan nan nan nan ... nan nan nan nan nan\n"
     ]
    },
    {
     "data": {
      "image/png": "[encoded data removed]",
      "text/plain": [
       "<Figure size 432x288 with 2 Axes>"
      ]
     },
     "metadata": {
      "needs_background": "light"
     },
     "output_type": "display_data"
    }
   ],
   "source": [
    "df1 = pd.DataFrame({'rlv2':rlv2,'lat1':lat1,'lon1':lon1})\n",
    "ds1= df1.set_index(['lat1','lon1']).to_xarray()\n",
    "print(ds1)\n",
    "ds1['rlv2'].plot(robust=True)\n",
    "plt.show()"
   ]
  },
  {
   "cell_type": "code",
   "execution_count": 7,
   "metadata": {},
   "outputs": [],
   "source": [
    "ds1.to_netcdf(path=r'C:\\Users\\Pranjali\\Downloads\\ds1f.nc')"
   ]
  },
  {
   "cell_type": "code",
   "execution_count": 8,
   "metadata": {},
   "outputs": [
    {
     "data": {
      "text/plain": [
       "<xarray.Dataset>\n",
       "Dimensions:  (lat1: 117, lon1: 118)\n",
       "Coordinates:\n",
       "  * lat1     (lat1) float64 8.25 8.5 8.75 9.0 9.25 ... 36.5 36.75 37.0 37.25\n",
       "  * lon1     (lon1) float64 68.0 68.25 68.5 68.75 69.0 ... 96.5 96.75 97.0 97.25\n",
       "Data variables:\n",
       "    rlv2     (lat1, lon1) float64 ..."
      ]
     },
     "execution_count": 8,
     "metadata": {},
     "output_type": "execute_result"
    }
   ],
   "source": [
    "d = xr.open_dataset(\"ds1f.nc\")\n",
    "d"
   ]
  }
 ],
 "metadata": {
  "kernelspec": {
   "display_name": "Python 3",
   "language": "python",
   "name": "python3"
  },
  "language_info": {
   "codemirror_mode": {
    "name": "ipython",
    "version": 3
   },
   "file_extension": ".py",
   "mimetype": "text/x-python",
   "name": "python",
   "nbconvert_exporter": "python",
   "pygments_lexer": "ipython3",
   "version": "3.6.5"
  }
 },
 "nbformat": 4,
 "nbformat_minor": 2
}
