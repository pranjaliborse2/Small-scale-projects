{
 "cells": [
  {
   "cell_type": "code",
   "execution_count": 1,
   "metadata": {},
   "outputs": [],
   "source": [
    "from rpy2.robjects.packages import importr\n",
    "utils = importr(\"utils\")\n",
    "extremes = importr(\"extRemes\")\n",
    "ismev = importr(\"ismev\")\n",
    "eva = importr(\"eva\")\n",
    "gnFit = importr(\"gnFit\")\n",
    "from netCDF4 import Dataset\n",
    "import xarray as xr\n",
    "import matplotlib.pyplot as plt\n",
    "import time\n",
    "import numpy as np\n",
    "import pandas as pd\n",
    "from datetime import datetime\n",
    "from matplotlib.offsetbox import AnchoredText\n",
    "from netCDF4 import num2date, date2num\n",
    "statis = importr('stats')\n",
    "import rpy2.robjects.numpy2ri\n",
    "rpy2.robjects.numpy2ri.activate()\n",
    "import os\n",
    "os.chdir(r\"C:\\Users\\Pranjali\\Downloads\")"
   ]
  },
  {
   "cell_type": "code",
   "execution_count": 2,
   "metadata": {},
   "outputs": [],
   "source": [
    "climate = xr.open_dataset(\"Climate.nc\")\n",
    "climate1 = climate['precipitation1'].sel(time = slice('1951-01-01','1980-12-31'))\n",
    "climate2 = climate['precipitation1'].sel(time = slice('1981-01-01','2015-12-31'))"
   ]
  },
  {
   "cell_type": "code",
   "execution_count": 5,
   "metadata": {},
   "outputs": [],
   "source": [
    "l=[climate1,climate2]\n",
    "l1=[]"
   ]
  },
  {
   "cell_type": "code",
   "execution_count": 7,
   "metadata": {},
   "outputs": [],
   "source": [
    "for j in l:\n",
    "    ppt = j.where(j>=0)\n",
    "    ppt2 = j.rolling(time=2).sum()\n",
    "    maxima1 = ppt2.groupby('time.year').max('time')\n",
    "    rlv2=[]\n",
    "    rlv302=[]\n",
    "    paramlist2=[]\n",
    "    lon1=[]\n",
    "    lat1=[]\n",
    "    for i in range(129):\n",
    "        for j in range(135):\n",
    "\n",
    "            maxima11 = maxima1.sel(lat=climate.lat[i],lon=climate.lon[j])\n",
    "            params1 = {}    \n",
    "            if(maxima11.values[1]>0):\n",
    "            #RL2 = []\n",
    "                block_maxima=maxima11.values[~np.isnan(maxima11.values)]\n",
    "                try:\n",
    "                    gev_fit =  eva.gevrFit(block_maxima)\n",
    "                except:\n",
    "                    pass\n",
    "                MLE_est = list(gev_fit.rx2('par.ests'))\n",
    "\n",
    "            #print(block_maxima)\n",
    "\n",
    "\n",
    "                params1['location'] = MLE_est[0]\n",
    "\n",
    "                params1['scale'] =  MLE_est[1] \n",
    "\n",
    "                params1['shape'] = MLE_est[2]\n",
    "\n",
    "                if MLE_est[1]<0:\n",
    "                    MLE_est[1] = 0.01\n",
    "\n",
    "                y = eva.rgevr(10000, 1, loc = MLE_est[0], scale = MLE_est[1], shape = MLE_est[2])\n",
    "\n",
    "                sig_test = statis.ks_test(block_maxima, y)\n",
    "\n",
    "                params1['p_val'] = sig_test.rx2('p.value')[0]\n",
    "                paramlist2.append(params1)\n",
    "\n",
    "    #print(params)\n",
    "  \n",
    "\n",
    "\n",
    "                if params1['p_val']>0.05:\n",
    "\n",
    "                    temp = eva.gevrRl(gev_fit, 100, method = \"delta\")\n",
    "                    temp1 = eva.gevrRl(gev_fit, 30, method = \"delta\")\n",
    "                    RL1 = temp.rx2('Estimate')[0]\n",
    "                    RL301 = temp1.rx2('Estimate')[0]\n",
    "#n['RLV2'][i][j] = RL2\n",
    "\n",
    "                else:\n",
    "                    params1['p_val'] = np.nan\n",
    "                    params1['location'] = np.nan\n",
    "                    params1['scale'] = np.nan\n",
    "                    params1['shape'] = np.nan\n",
    "            #print(RL2,climate.lat.values[i],climate.lon.values[j])\n",
    "                rlv2.append(RL1)\n",
    "                rlv302.append(RL301)\n",
    "                lat1.append(climate.lat.values[i])\n",
    "                lon1.append(climate.lon.values[j])\n",
    "#n['RLV2'][i][j] = np.nan\n",
    "#print(RL2)\n",
    "            else:\n",
    "                params1['p_val'] = np.nan\n",
    "                params1['location'] = np.nan\n",
    "                params1['scale'] = np.nan\n",
    "                params1['shape'] = np.nan\n",
    "    df1 = pd.DataFrame({'rlv2':rlv2,'rlv302':rlv302,'lat1':lat1,'lon1':lon1})\n",
    "    l1.append(df1)"
   ]
  },
  {
   "cell_type": "code",
   "execution_count": 9,
   "metadata": {},
   "outputs": [],
   "source": [
    "df0=l1[0]\n",
    "df1=l1[1]\n",
    "ds0= df0.set_index(['lat1','lon1']).to_xarray()\n",
    "ds0.to_netcdf(path=r'D:\\ds2p1951-1880-30100.nc')\n",
    "ds1= df1.set_index(['lat1','lon1']).to_xarray()\n",
    "ds1.to_netcdf(path=r'D:\\ds2p1981-2015-30100.nc')"
   ]
  }
 ],
 "metadata": {
  "kernelspec": {
   "display_name": "Python 3",
   "language": "python",
   "name": "python3"
  },
  "language_info": {
   "codemirror_mode": {
    "name": "ipython",
    "version": 3
   },
   "file_extension": ".py",
   "mimetype": "text/x-python",
   "name": "python",
   "nbconvert_exporter": "python",
   "pygments_lexer": "ipython3",
   "version": "3.6.5"
  }
 },
 "nbformat": 4,
 "nbformat_minor": 2
}
