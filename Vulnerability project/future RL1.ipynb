{
 "cells": [
  {
   "cell_type": "code",
   "execution_count": 1,
   "metadata": {},
   "outputs": [],
   "source": [
    "from netCDF4 import Dataset\n",
    "import xarray as xr\n",
    "import os\n",
    "import matplotlib.pyplot as plt\n",
    "import numpy as np\n",
    "os.chdir(r\"C:\\Users\\Pranjali\\Downloads\")\n",
    "climate = xr.open_dataset(\"Climate.nc\")\n",
    "ppt = xr.open_dataset(\"b.e11.BRCP85C5CNBDRD.f09_g16.002.cam.h1.PRECT.20060101-20801231_India.nc\")\n",
    "c = climate['precipitation1'].sel(time= slice('1930-01-01','2005-12-31'))\n",
    "p = ppt['PRECT'].sel( time =slice(\"2006-01-01\",\"2050-12-31\") )"
   ]
  },
  {
   "cell_type": "code",
   "execution_count": 2,
   "metadata": {},
   "outputs": [
    {
     "data": {
      "text/plain": [
       "<xarray.DataArray 'PRECT' (time: 16425, lat: 38, lon: 49)>\n",
       "[30583350 values with dtype=float32]\n",
       "Coordinates:\n",
       "  * lat      (lat) float64 4.241 5.183 6.126 7.068 ... 36.28 37.23 38.17 39.11\n",
       "  * lon      (lon) float64 60.0 61.25 62.5 63.75 ... 116.2 117.5 118.8 120.0\n",
       "  * time     (time) object 2006-01-01 00:00:00 ... 2050-12-31 00:00:00\n",
       "Attributes:\n",
       "    units:         m/s\n",
       "    long_name:     Total (convective and large-scale) precipitation rate (liq...\n",
       "    cell_methods:  time: mean"
      ]
     },
     "execution_count": 2,
     "metadata": {},
     "output_type": "execute_result"
    }
   ],
   "source": [
    "p"
   ]
  },
  {
   "cell_type": "code",
   "execution_count": 3,
   "metadata": {},
   "outputs": [],
   "source": [
    "p1=p*1000*(60*60*24)\n",
    "\n",
    "masker=climate['precipitation1'][1,:,:]\n",
    "mask=xr.where(masker>=0,1,np.nan)\n"
   ]
  },
  {
   "cell_type": "code",
   "execution_count": 4,
   "metadata": {},
   "outputs": [
    {
     "data": {
      "text/plain": [
       "<xarray.DataArray 'PRECT' (time: 16425, lat: 38, lon: 49)>\n",
       "array([[[2.772728e+01, 2.108367e+01, ..., 1.922956e-01, 1.406259e-09],\n",
       "        [1.342822e+01, 1.128502e+01, ..., 3.665024e+00, 4.936366e+00],\n",
       "        ...,\n",
       "        [5.211242e-01, 4.266553e-06, ..., 1.125966e-03, 3.780856e-04],\n",
       "        [4.863378e-02, 6.124325e-07, ..., 9.449244e-07, 2.432303e-07]],\n",
       "\n",
       "       [[2.458305e+01, 1.885774e+01, ..., 3.069202e+00, 2.931118e+00],\n",
       "        [2.395143e+01, 1.777354e+01, ..., 4.779208e+00, 4.348074e+00],\n",
       "        ...,\n",
       "        [4.429573e-01, 9.487839e-02, ..., 7.794487e-01, 4.281945e-01],\n",
       "        [7.297182e-03, 1.265350e-02, ..., 3.491239e-01, 2.622085e-01]],\n",
       "\n",
       "       ...,\n",
       "\n",
       "       [[5.635103e+00, 2.533266e+00, ..., 1.486029e+01, 9.703533e+00],\n",
       "        [7.816138e+00, 5.381279e+00, ..., 1.341534e+01, 7.721362e+00],\n",
       "        ...,\n",
       "        [4.286782e-03, 7.194333e-03, ..., 5.479092e-06, 2.254068e-01],\n",
       "        [9.096276e-03, 1.836833e-02, ..., 5.872263e-08, 8.682380e-02]],\n",
       "\n",
       "       [[2.947856e+00, 2.118974e+00, ..., 7.814604e+00, 1.032141e+01],\n",
       "        [6.752364e+00, 6.388012e+00, ..., 7.004937e+00, 8.283387e+00],\n",
       "        ...,\n",
       "        [0.000000e+00, 3.363741e-04, ..., 9.806298e-06, 1.582949e-01],\n",
       "        [1.224781e-03, 0.000000e+00, ..., 7.764951e-07, 2.053906e-01]]])\n",
       "Coordinates:\n",
       "  * lat      (lat) float64 4.241 5.183 6.126 7.068 ... 36.28 37.23 38.17 39.11\n",
       "  * lon      (lon) float64 60.0 61.25 62.5 63.75 ... 116.2 117.5 118.8 120.0\n",
       "  * time     (time) object 2006-01-01 00:00:00 ... 2050-12-31 00:00:00"
      ]
     },
     "execution_count": 4,
     "metadata": {},
     "output_type": "execute_result"
    }
   ],
   "source": [
    "p1"
   ]
  },
  {
   "cell_type": "code",
   "execution_count": 33,
   "metadata": {},
   "outputs": [],
   "source": [
    "fut = (ppt.sel( time = \"2020-10-04\"))"
   ]
  },
  {
   "cell_type": "code",
   "execution_count": 40,
   "metadata": {},
   "outputs": [
    {
     "data": {
      "text/plain": [
       "<xarray.DataArray (time: 1, lat: 0, lon: 27)>\n",
       "array([], shape=(1, 0, 27), dtype=float64)\n",
       "Coordinates:\n",
       "  * lat      (lat) float64 \n",
       "  * lon      (lon) float64 67.5 68.75 70.0 71.25 72.5 ... 96.25 97.5 98.75 100.0\n",
       "  * time     (time) object 2020-10-04 00:00:00"
      ]
     },
     "execution_count": 40,
     "metadata": {},
     "output_type": "execute_result"
    }
   ],
   "source": [
    "fut['PRECT']*mask"
   ]
  },
  {
   "cell_type": "code",
   "execution_count": 46,
   "metadata": {},
   "outputs": [
    {
     "data": {
      "text/plain": [
       "<xarray.DataArray 'PRECT' (time: 1, lat: 38, lon: 49)>\n",
       "array([[[5.635367e-08, 8.342244e-08, ..., 5.440901e-08, 4.524137e-08],\n",
       "        [3.505551e-08, 7.346716e-08, ..., 4.694381e-08, 5.825242e-08],\n",
       "        ...,\n",
       "        [1.549612e-15, 4.690777e-16, ..., 7.228522e-10, 1.200618e-09],\n",
       "        [1.319747e-13, 9.831140e-17, ..., 3.018916e-10, 4.286690e-10]]],\n",
       "      dtype=float32)\n",
       "Coordinates:\n",
       "  * lat      (lat) float64 4.241 5.183 6.126 7.068 ... 36.28 37.23 38.17 39.11\n",
       "  * lon      (lon) float64 60.0 61.25 62.5 63.75 ... 116.2 117.5 118.8 120.0\n",
       "  * time     (time) object 2020-10-04 00:00:00\n",
       "Attributes:\n",
       "    units:         m/s\n",
       "    long_name:     Total (convective and large-scale) precipitation rate (liq...\n",
       "    cell_methods:  time: mean"
      ]
     },
     "execution_count": 46,
     "metadata": {},
     "output_type": "execute_result"
    }
   ],
   "source": [
    "fut['PRECT']"
   ]
  },
  {
   "cell_type": "code",
   "execution_count": 3,
   "metadata": {},
   "outputs": [
    {
     "data": {
      "text/plain": [
       "<xarray.DataArray {'precipitation1', 'PRECT'} (lat: 129, lon: 135)>\n",
       "array([[nan, nan, nan, ..., nan, nan, nan],\n",
       "       [nan, nan, nan, ..., nan, nan, nan],\n",
       "       [nan, nan, nan, ..., nan, nan, nan],\n",
       "       ...,\n",
       "       [nan, nan, nan, ..., nan, nan, nan],\n",
       "       [nan, nan, nan, ..., nan, nan, nan],\n",
       "       [nan, nan, nan, ..., nan, nan, nan]])\n",
       "Coordinates:\n",
       "    time     datetime64[ns] 1901-01-02\n",
       "  * lat      (lat) float32 6.5 6.75 7.0 7.25 7.5 ... 37.5 37.75 38.0 38.25 38.5\n",
       "  * lon      (lon) float32 66.5 66.75 67.0 67.25 67.5 ... 99.25 99.5 99.75 100.0"
      ]
     },
     "execution_count": 3,
     "metadata": {},
     "output_type": "execute_result"
    }
   ],
   "source": [
    "mask=mask.rename({'precipitation1','PRECT'})\n",
    "ma=mask\n",
    "ma"
   ]
  },
  {
   "cell_type": "code",
   "execution_count": 4,
   "metadata": {},
   "outputs": [
    {
     "data": {
      "text/plain": [
       "<xarray.DataArray 'PRECT' (time: 16425, lat: 129, lon: 135)>\n",
       "array([[[5.096770e+00, 6.119820e+00, ..., 5.797085e-03, 2.937485e-03],\n",
       "        [3.049556e+00, 3.816644e+00, ..., 9.668531e-03, 4.899190e-03],\n",
       "        ...,\n",
       "        [6.305124e-07, 6.834887e-07, ..., 1.045001e+00, 8.461111e-01],\n",
       "        [4.502081e-07, 4.906333e-07, ..., 2.071499e+00, 2.089430e+00]],\n",
       "\n",
       "       [[2.096828e+01, 2.041785e+01, ..., 9.175071e-01, 1.086418e+00],\n",
       "        [1.647135e+01, 1.608498e+01, ..., 1.027649e+00, 1.235724e+00],\n",
       "        ...,\n",
       "        [2.470842e-02, 2.747400e-02, ..., 1.532345e+00, 1.727852e+00],\n",
       "        [2.023173e-02, 2.368097e-02, ..., 1.561752e+00, 1.757310e+00]],\n",
       "\n",
       "       ...,\n",
       "\n",
       "       [[5.716877e+00, 5.659090e+00, ..., 3.031749e+01, 2.877602e+01],\n",
       "        [6.709281e+00, 6.591805e+00, ..., 2.585123e+01, 2.412832e+01],\n",
       "        ...,\n",
       "        [1.356328e-02, 1.404985e-02, ..., 2.084151e-01, 1.921150e-01],\n",
       "        [1.862873e-02, 2.514363e-02, ..., 4.422744e-01, 4.625368e-01]],\n",
       "\n",
       "       [[3.442347e+00, 3.089801e+00, ..., 1.776072e+01, 1.829855e+01],\n",
       "        [4.824840e+00, 4.356835e+00, ..., 1.853271e+01, 1.915464e+01],\n",
       "        ...,\n",
       "        [2.469567e-03, 2.449735e-03, ..., 1.341846e+00, 1.611451e+00],\n",
       "        [1.786918e-03, 1.808143e-03, ..., 1.489121e+00, 1.742276e+00]]])\n",
       "Coordinates:\n",
       "  * time     (time) object 2006-01-01 00:00:00 ... 2050-12-31 00:00:00\n",
       "  * lat      (lat) float64 6.5 6.75 7.0 7.25 7.5 ... 37.5 37.75 38.0 38.25 38.5\n",
       "  * lon      (lon) float64 66.5 66.75 67.0 67.25 67.5 ... 99.25 99.5 99.75 100.0"
      ]
     },
     "execution_count": 4,
     "metadata": {},
     "output_type": "execute_result"
    }
   ],
   "source": [
    "interpolated = p1.interp_like(mask)\n",
    "interpolated"
   ]
  },
  {
   "cell_type": "code",
   "execution_count": 5,
   "metadata": {},
   "outputs": [],
   "source": [
    "masked = interpolated*mask\n",
    "m=c.sel(time=~((c.time.dt.month == 2) & (c.time.dt.day == 29)))"
   ]
  },
  {
   "cell_type": "code",
   "execution_count": 9,
   "metadata": {},
   "outputs": [],
   "source": [
    "from rpy2.robjects.packages import importr\n",
    "utils = importr(\"utils\")\n",
    "extremes = importr(\"extRemes\")\n",
    "ismev = importr(\"ismev\")\n",
    "eva = importr(\"eva\")\n",
    "gnFit = importr(\"gnFit\")\n",
    "import time\n",
    "from datetime import datetime\n",
    "from matplotlib.offsetbox import AnchoredText\n",
    "from netCDF4 import num2date, date2num\n",
    "statis = importr('stats')\n",
    "import rpy2.robjects.numpy2ri\n",
    "rpy2.robjects.numpy2ri.activate()"
   ]
  },
  {
   "cell_type": "code",
   "execution_count": 14,
   "metadata": {},
   "outputs": [],
   "source": [
    "maxima1 = masked.groupby('time.year').max('time')\n",
    "import pandas as pd"
   ]
  },
  {
   "cell_type": "code",
   "execution_count": 13,
   "metadata": {},
   "outputs": [
    {
     "ename": "NameError",
     "evalue": "name 'pd' is not defined",
     "output_type": "error",
     "traceback": [
      "\u001b[1;31m---------------------------------------------------------------------------\u001b[0m",
      "\u001b[1;31mNameError\u001b[0m                                 Traceback (most recent call last)",
      "\u001b[1;32m<ipython-input-13-de450e6c263d>\u001b[0m in \u001b[0;36m<module>\u001b[1;34m()\u001b[0m\n\u001b[0;32m     63\u001b[0m             \u001b[0mparams1\u001b[0m\u001b[1;33m[\u001b[0m\u001b[1;34m'scale'\u001b[0m\u001b[1;33m]\u001b[0m \u001b[1;33m=\u001b[0m \u001b[0mnp\u001b[0m\u001b[1;33m.\u001b[0m\u001b[0mnan\u001b[0m\u001b[1;33m\u001b[0m\u001b[0m\n\u001b[0;32m     64\u001b[0m             \u001b[0mparams1\u001b[0m\u001b[1;33m[\u001b[0m\u001b[1;34m'shape'\u001b[0m\u001b[1;33m]\u001b[0m \u001b[1;33m=\u001b[0m \u001b[0mnp\u001b[0m\u001b[1;33m.\u001b[0m\u001b[0mnan\u001b[0m\u001b[1;33m\u001b[0m\u001b[0m\n\u001b[1;32m---> 65\u001b[1;33m \u001b[0mdf3\u001b[0m \u001b[1;33m=\u001b[0m \u001b[0mpd\u001b[0m\u001b[1;33m.\u001b[0m\u001b[0mDataFrame\u001b[0m\u001b[1;33m(\u001b[0m\u001b[1;33m{\u001b[0m\u001b[1;34m'rlv1'\u001b[0m\u001b[1;33m:\u001b[0m\u001b[0mrlv1\u001b[0m\u001b[1;33m,\u001b[0m\u001b[1;34m'lat1'\u001b[0m\u001b[1;33m:\u001b[0m\u001b[0mlat1\u001b[0m\u001b[1;33m,\u001b[0m\u001b[1;34m'lon1'\u001b[0m\u001b[1;33m:\u001b[0m\u001b[0mlon1\u001b[0m\u001b[1;33m}\u001b[0m\u001b[1;33m)\u001b[0m\u001b[1;33m\u001b[0m\u001b[0m\n\u001b[0m",
      "\u001b[1;31mNameError\u001b[0m: name 'pd' is not defined"
     ]
    }
   ],
   "source": [
    "lon1=[]\n",
    "lat1=[]\n",
    "rlv1=[]\n",
    "paramlist1=[]\n",
    "for i in range(129):\n",
    "    for j in range(135):\n",
    "\n",
    "        maxima11 = maxima1.sel(lat=climate.lat[i],lon=climate.lon[j])\n",
    "        params1 = {}    \n",
    "        if(maxima11.values[1]>0):\n",
    "            #RL2 = []\n",
    "            block_maxima=maxima11.values[~np.isnan(maxima11.values)]\n",
    "            try:\n",
    "                gev_fit =  eva.gevrFit(block_maxima)\n",
    "            except:\n",
    "                pass\n",
    "            MLE_est = list(gev_fit.rx2('par.ests'))\n",
    "\n",
    "            #print(block_maxima)\n",
    "\n",
    "\n",
    "            params1['location'] = MLE_est[0]\n",
    "\n",
    "            params1['scale'] =  MLE_est[1] \n",
    "\n",
    "            params1['shape'] = MLE_est[2]\n",
    "\n",
    "            if MLE_est[1]<0:\n",
    "                MLE_est[1] = 0.01\n",
    "\n",
    "            y = eva.rgevr(10000, 1, loc = MLE_est[0], scale = MLE_est[1], shape = MLE_est[2])\n",
    "\n",
    "            sig_test = statis.ks_test(block_maxima, y)\n",
    "\n",
    "            params1['p_val'] = sig_test.rx2('p.value')[0]\n",
    "            paramlist1.append(params1)\n",
    "\n",
    "    #print(params)\n",
    "  \n",
    "\n",
    "\n",
    "            if params1['p_val']>0.05:\n",
    "\n",
    "                temp = eva.gevrRl(gev_fit, 100, method = \"delta\")\n",
    "\n",
    "                RL1 = temp.rx2('Estimate')[0]\n",
    "#n['RLV2'][i][j] = RL2\n",
    "\n",
    "            else:\n",
    "                params1['p_val'] = np.nan\n",
    "                params1['location'] = np.nan\n",
    "                params1['scale'] = np.nan\n",
    "                params1['shape'] = np.nan\n",
    "            #print(RL2,climate.lat.values[i],climate.lon.values[j])\n",
    "            rlv1.append(RL1)\n",
    "            lat1.append(climate.lat.values[i])\n",
    "            lon1.append(climate.lon.values[j])\n",
    "#n['RLV2'][i][j] = np.nan\n",
    "#print(RL2)\n",
    "        else:\n",
    "            params1['p_val'] = np.nan\n",
    "            params1['location'] = np.nan\n",
    "            params1['scale'] = np.nan\n",
    "            params1['shape'] = np.nan\n"
   ]
  },
  {
   "cell_type": "code",
   "execution_count": 16,
   "metadata": {},
   "outputs": [
    {
     "name": "stdout",
     "output_type": "stream",
     "text": [
      "<xarray.Dataset>\n",
      "Dimensions:  (lat1: 117, lon1: 118)\n",
      "Coordinates:\n",
      "  * lat1     (lat1) float64 8.25 8.5 8.75 9.0 9.25 ... 36.5 36.75 37.0 37.25\n",
      "  * lon1     (lon1) float64 68.0 68.25 68.5 68.75 69.0 ... 96.5 96.75 97.0 97.25\n",
      "Data variables:\n",
      "    rlv1     (lat1, lon1) float64 nan nan nan nan nan ... nan nan nan nan nan\n"
     ]
    },
    {
     "data": {
      "image/png": "[encoded data removed]",
      "text/plain": [
       "<Figure size 432x288 with 2 Axes>"
      ]
     },
     "metadata": {
      "needs_background": "light"
     },
     "output_type": "display_data"
    }
   ],
   "source": [
    "df = pd.DataFrame({'rlv1':rlv1,'lat1':lat1,'lon1':lon1})\n",
    "ds= df.set_index(['lat1','lon1']).to_xarray()\n",
    "print(ds)\n",
    "ds['rlv1'].plot(robust=True)\n",
    "plt.show()"
   ]
  },
  {
   "cell_type": "code",
   "execution_count": 18,
   "metadata": {},
   "outputs": [],
   "source": [
    "masked.to_netcdf(path=r'C:\\Users\\Pranjali\\Downloads\\future.nc')"
   ]
  },
  {
   "cell_type": "code",
   "execution_count": 20,
   "metadata": {},
   "outputs": [
    {
     "data": {
      "text/plain": [
       "<xarray.DataArray (time: 16425, lat: 129, lon: 135)>\n",
       "array([[[nan, nan, ..., nan, nan],\n",
       "        [nan, nan, ..., nan, nan],\n",
       "        ...,\n",
       "        [nan, nan, ..., nan, nan],\n",
       "        [nan, nan, ..., nan, nan]],\n",
       "\n",
       "       [[nan, nan, ..., nan, nan],\n",
       "        [nan, nan, ..., nan, nan],\n",
       "        ...,\n",
       "        [nan, nan, ..., nan, nan],\n",
       "        [nan, nan, ..., nan, nan]],\n",
       "\n",
       "       ...,\n",
       "\n",
       "       [[nan, nan, ..., nan, nan],\n",
       "        [nan, nan, ..., nan, nan],\n",
       "        ...,\n",
       "        [nan, nan, ..., nan, nan],\n",
       "        [nan, nan, ..., nan, nan]],\n",
       "\n",
       "       [[nan, nan, ..., nan, nan],\n",
       "        [nan, nan, ..., nan, nan],\n",
       "        ...,\n",
       "        [nan, nan, ..., nan, nan],\n",
       "        [nan, nan, ..., nan, nan]]])\n",
       "Coordinates:\n",
       "  * time     (time) object 2006-01-01 00:00:00 ... 2050-12-31 00:00:00\n",
       "  * lat      (lat) float64 6.5 6.75 7.0 7.25 7.5 ... 37.5 37.75 38.0 38.25 38.5\n",
       "  * lon      (lon) float64 66.5 66.75 67.0 67.25 67.5 ... 99.25 99.5 99.75 100.0"
      ]
     },
     "execution_count": 20,
     "metadata": {},
     "output_type": "execute_result"
    }
   ],
   "source": []
  }
 ],
 "metadata": {
  "kernelspec": {
   "display_name": "Python 3",
   "language": "python",
   "name": "python3"
  },
  "language_info": {
   "codemirror_mode": {
    "name": "ipython",
    "version": 3
   },
   "file_extension": ".py",
   "mimetype": "text/x-python",
   "name": "python",
   "nbconvert_exporter": "python",
   "pygments_lexer": "ipython3",
   "version": "3.6.5"
  }
 },
 "nbformat": 4,
 "nbformat_minor": 2
}
