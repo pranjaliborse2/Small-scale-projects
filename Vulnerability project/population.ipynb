{
 "cells": [
  {
   "cell_type": "code",
   "execution_count": null,
   "metadata": {},
   "outputs": [],
   "source": [
    "import random\n",
    "import numpy as np\n",
    "import statistics\n",
    "import matplotlib.pyplot as plt\n",
    "from netCDF4 import Dataset\n",
    "import xarray as xr\n",
    "import pandas as pd\n",
    "import os\n",
    "os.chdir(r\"C:\\Users\\Pranjali\\Downloads\")\n",
    "climate = xr.open_dataset(\"Climate.nc\")\n",
    "pde = np.random.uniform(77,440.29, size=(41975,129,135))\n",
    "#print(coordinates)\n",
    "pd1 = np.sort(pde, axis=0)\n",
    "print(pde)\n",
    "l=[]\n",
    "l1=[]\n",
    "t=[]\n",
    "#x = pd1.sum()/len(pd1)\n",
    "#for i in range(41975):\n",
    "#    l.append(pd1[i][0][0])\n",
    "    \n",
    "#sd = statistics.stdev(l)\n",
    "#for i in range(41975):\n",
    "#    index = (l[i]-x)/sd\n",
    "#    l1.append(index)\n",
    "#    t.append(climate.time.values[i])\n",
    "#df = pd.DataFrame({'index':l1,'time':t})\n",
    "#df.set_index(['time'])\n",
    "\n",
    "\n",
    "\n",
    "\n",
    "\n",
    "    \n",
    "\n",
    "\n",
    "    \n",
    "\n",
    "\n"
   ]
  }
 ],
 "metadata": {
  "kernelspec": {
   "display_name": "Python 3",
   "language": "python",
   "name": "python3"
  },
  "language_info": {
   "codemirror_mode": {
    "name": "ipython",
    "version": 3
   },
   "file_extension": ".py",
   "mimetype": "text/x-python",
   "name": "python",
   "nbconvert_exporter": "python",
   "pygments_lexer": "ipython3",
   "version": "3.6.5"
  }
 },
 "nbformat": 4,
 "nbformat_minor": 2
}
