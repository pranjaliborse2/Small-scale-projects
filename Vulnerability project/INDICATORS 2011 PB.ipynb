{
 "cells": [
  {
   "cell_type": "code",
   "execution_count": 1,
   "metadata": {},
   "outputs": [],
   "source": [
    "import geopandas as gpd\n",
    "import matplotlib.pyplot as plt\n",
    "import os\n",
    "import pandas as pd\n",
    "os.chdir(r\"C:\\Users\\Pranjali\\Downloads\")"
   ]
  },
  {
   "cell_type": "code",
   "execution_count": 2,
   "metadata": {},
   "outputs": [],
   "source": [
    "rural = gpd.read_file(r\"D:\\All project data\\PB-CENSUS2011\\rural-PB_2011.shp\")"
   ]
  },
  {
   "cell_type": "code",
   "execution_count": 4,
   "metadata": {},
   "outputs": [
    {
     "data": {
      "text/plain": [
       "['Unnamed_ 0',\n",
       " 'DISTRICT',\n",
       " 'Tothhold',\n",
       " 'saljob',\n",
       " 'pcsaljob',\n",
       " 'govtsal',\n",
       " 'pcgovtsal',\n",
       " 'publicsal',\n",
       " 'pcpublicsa',\n",
       " 'salaryjob',\n",
       " 'pcsalaryjo',\n",
       " 'hholdgov',\n",
       " 'incl5k',\n",
       " 'pcincl5k',\n",
       " 'incg10k',\n",
       " 'pcincg10k',\n",
       " 'unirr_area',\n",
       " 'irr_area',\n",
       " 'TP',\n",
       " 'noworker',\n",
       " 'noworkerm',\n",
       " 'agriworker',\n",
       " 'infants',\n",
       " 'tribal',\n",
       " 'literate',\n",
       " 'illiterate',\n",
       " 'margworker',\n",
       " 'mworker',\n",
       " 'geometry']"
      ]
     },
     "execution_count": 4,
     "metadata": {},
     "output_type": "execute_result"
    }
   ],
   "source": [
    "list(rural.columns.values)"
   ]
  },
  {
   "cell_type": "code",
   "execution_count": 3,
   "metadata": {},
   "outputs": [],
   "source": [
    "#SENSITIVITY INDICATORS\n",
    "#1.Total population\n",
    "popln = []\n",
    "pindex = []\n",
    "for i in range(17):\n",
    "    popln.append(rural['TP'][i])\n",
    "for i in range(17):\n",
    "    index = (popln[i]-min(popln))/(max(popln)-min(popln))\n",
    "    pindex.append(index)"
   ]
  },
  {
   "cell_type": "code",
   "execution_count": 4,
   "metadata": {},
   "outputs": [],
   "source": [
    "#2.tribal population\n",
    "scst = []\n",
    "scstindex = []\n",
    "for i in range(17):\n",
    "    scst.append((rural['tribal'][i]))\n",
    "for i in range(17):\n",
    "    index = (scst[i]-min(scst))/(max(scst)-min(scst))\n",
    "    scstindex.append(index)"
   ]
  },
  {
   "cell_type": "code",
   "execution_count": 5,
   "metadata": {},
   "outputs": [],
   "source": [
    "#3.infants population\n",
    "infants = []\n",
    "infindex = []\n",
    "for i in range(17):\n",
    "    infants.append((rural['infants'][i]))\n",
    "for i in range(17):\n",
    "    index = (infants[i]-min(infants))/(max(infants)-min(infants))\n",
    "    infindex.append(index)"
   ]
  },
  {
   "cell_type": "code",
   "execution_count": 6,
   "metadata": {},
   "outputs": [],
   "source": [
    "TPindex =[]\n",
    "for i in range(17):\n",
    "    TPindex.append(((scst[i]+infants[i])/popln[i])*pindex[i] + (0.5-(scst[i]/popln[i]))*scstindex[i]+ (0.5-(infants[i]/popln[i]))*infindex[i])   "
   ]
  },
  {
   "cell_type": "code",
   "execution_count": 7,
   "metadata": {},
   "outputs": [],
   "source": [
    "for i in range(len(TPindex)):\n",
    "    if(TPindex[i]<0):\n",
    "        TPindex[i]=1"
   ]
  },
  {
   "cell_type": "code",
   "execution_count": 8,
   "metadata": {},
   "outputs": [],
   "source": [
    "#4.Unirrigated area\n",
    "unirra = []\n",
    "unirrindex = []\n",
    "for i in range(17):\n",
    "    unirra.append((rural['unirr_area'][i]))\n",
    "for i in range(17):\n",
    "    index = (unirra[i]-min(unirra))/(max(unirra)-min(unirra))\n",
    "    unirrindex.append(index)"
   ]
  },
  {
   "cell_type": "code",
   "execution_count": 9,
   "metadata": {},
   "outputs": [],
   "source": [
    "#5.Non-workers\n",
    "nwork = []\n",
    "nworkindex = []\n",
    "for i in range(17):\n",
    "    nwork.append((rural['noworker'][i]))\n",
    "for i in range(17):\n",
    "    index = (nwork[i]-min(nwork))/(max(nwork)-min(nwork))\n",
    "    nworkindex.append(index)"
   ]
  },
  {
   "cell_type": "code",
   "execution_count": 10,
   "metadata": {},
   "outputs": [],
   "source": [
    "#6.pop.with income<5000\n",
    "incl5 = []\n",
    "incl5index = []\n",
    "for i in range(17):\n",
    "    incl5.append((rural['incl5k'][i]))\n",
    "for i in range(17):\n",
    "    index = (incl5[i]-min(incl5))/(max(incl5)-min(incl5))\n",
    "    incl5index.append(index)"
   ]
  },
  {
   "cell_type": "code",
   "execution_count": 11,
   "metadata": {},
   "outputs": [],
   "source": [
    "#7.illiterate\n",
    "illit = []\n",
    "illitindex = []\n",
    "for i in range(17):\n",
    "    illit.append((rural['illiterate'][i]))\n",
    "for i in range(17):\n",
    "    index = (illit[i]-min(illit))/(max(illit)-min(illit))\n",
    "    illitindex.append(index)"
   ]
  },
  {
   "cell_type": "code",
   "execution_count": 12,
   "metadata": {},
   "outputs": [],
   "source": [
    "#Sensitivity index\n",
    "S=[]\n",
    "for i in range(17):\n",
    "    S.append(0.2*(TPindex[i]+unirrindex[i]+nworkindex[i]+incl5index[i]+illitindex[i]))"
   ]
  },
  {
   "cell_type": "code",
   "execution_count": 13,
   "metadata": {},
   "outputs": [],
   "source": [
    "#Adaptive capacity indicators\n",
    "#1.households registered with govt.\n",
    "hholdg = []\n",
    "hholdgindex = []\n",
    "for i in range(17):\n",
    "    hholdg.append((rural['hholdgov'][i]))\n",
    "for i in range(17):\n",
    "    index = (hholdg[i]-min(hholdg))/(max(hholdg)-min(hholdg))\n",
    "    hholdgindex.append(index)"
   ]
  },
  {
   "cell_type": "code",
   "execution_count": 14,
   "metadata": {},
   "outputs": [],
   "source": [
    "#3.Irrigated area\n",
    "irra = []\n",
    "irrindex = []\n",
    "for i in range(17):\n",
    "    irra.append((rural['irr_area'][i]))\n",
    "for i in range(17):\n",
    "    index = (irra[i]-min(irra))/(max(irra)-min(irra))\n",
    "    irrindex.append(index)"
   ]
  },
  {
   "cell_type": "code",
   "execution_count": 15,
   "metadata": {},
   "outputs": [],
   "source": [
    "# Agriculture workers\n",
    "agworker =[]\n",
    "agworkindex=[]\n",
    "for i in range(17):\n",
    "    agworker.append((rural['agriworker'][i]))\n",
    "for i in range(17):\n",
    "    index = (agworker[i]-min(agworker))/(max(agworker)-min(agworker))\n",
    "    agworkindex.append(index)"
   ]
  },
  {
   "cell_type": "code",
   "execution_count": 16,
   "metadata": {},
   "outputs": [],
   "source": [
    "agriindex=[]\n",
    "for i in range(17):\n",
    "    agriindex.append(0.5*(irrindex[i]+agworkindex[i]))"
   ]
  },
  {
   "cell_type": "code",
   "execution_count": 17,
   "metadata": {},
   "outputs": [],
   "source": [
    "#4.pop.with income>10000\n",
    "incg10 = []\n",
    "incg10index = []\n",
    "for i in range(17):\n",
    "    incg10.append((rural['incg10k'][i]))\n",
    "for i in range(17):\n",
    "    index = (incg10[i]-min(incg10))/(max(incg10)-min(incg10))\n",
    "    incg10index.append(index)"
   ]
  },
  {
   "cell_type": "code",
   "execution_count": 18,
   "metadata": {},
   "outputs": [],
   "source": [
    "#5.main workers\n",
    "aworker =[]\n",
    "aworkindex=[]\n",
    "for i in range(17):\n",
    "    aworker.append((rural['mworker'][i]))\n",
    "for i in range(17):\n",
    "    index = (aworker[i]-min(aworker))/(max(aworker)-min(aworker))\n",
    "    aworkindex.append(index)"
   ]
  },
  {
   "cell_type": "code",
   "execution_count": 19,
   "metadata": {},
   "outputs": [],
   "source": [
    "#6.marginal workers\n",
    "mworker =[]\n",
    "mworkindex=[]\n",
    "for i in range(17):\n",
    "    mworker.append((rural['margworker'][i]))\n",
    "for i in range(17):\n",
    "    index = (mworker[i]-min(mworker))/(max(mworker)-min(mworker))\n",
    "    mworkindex.append(index)"
   ]
  },
  {
   "cell_type": "code",
   "execution_count": 20,
   "metadata": {},
   "outputs": [],
   "source": [
    "workindex=[]\n",
    "for i in range(17):\n",
    "    if(aworker[i]>=mworker[i]):\n",
    "        workindex.append(0.33*0.25*((aworker[i]/(aworker[i]+mworker[i]))*aworkindex[i]+(mworker[i]/(aworker[i]+mworker[i]))*mworkindex[i]))\n",
    "    else:\n",
    "        workindex.append(0.33*0.25*((mworker[i]/(aworker[i]+mworker[i]))*aworkindex[i]+(aworker[i]/(aworker[i]+mworker[i]))*mworkindex[i]))"
   ]
  },
  {
   "cell_type": "code",
   "execution_count": 21,
   "metadata": {},
   "outputs": [],
   "source": [
    "#7.literate\n",
    "lit = []\n",
    "litindex = []\n",
    "for i in range(17):\n",
    "    lit.append((rural['literate'][i]))\n",
    "for i in range(17):\n",
    "    index = (lit[i]-min(lit))/(max(lit)-min(lit))\n",
    "    litindex.append(index)"
   ]
  },
  {
   "cell_type": "code",
   "execution_count": 22,
   "metadata": {},
   "outputs": [],
   "source": [
    "A=[]\n",
    "for i in range(17):\n",
    "    A.append(0.2*(hholdgindex[i]+agriindex[i]+incg10index[i]+workindex[i]+litindex[i]))"
   ]
  },
  {
   "cell_type": "code",
   "execution_count": 23,
   "metadata": {},
   "outputs": [],
   "source": [
    "import pandas as pd\n",
    "exposure = pd.read_excel( r\"D:\\All project data\\2011-rlindex(100to30)-PB.xlsx\")\n",
    "E = 0.25*(exposure['r1index'][:17]+exposure['r2index'][:17]+exposure['r3index'][:17]+exposure['r5index'][:17])"
   ]
  },
  {
   "cell_type": "code",
   "execution_count": 24,
   "metadata": {},
   "outputs": [],
   "source": [
    "E1=[]\n",
    "for i in range(len(E)):\n",
    "    E1.append(E[i])"
   ]
  },
  {
   "cell_type": "code",
   "execution_count": 32,
   "metadata": {},
   "outputs": [],
   "source": [
    "import pandas as pd\n",
    "ex = pd.read_excel(r\"D:\\All project data\\models-2006-2036(100to30)-rlindex-PB.xlsx\")\n",
    "Efut = 0.25*(ex['r1index'][:17]+ex['r2index'][:17]+ex['r3index'][:17]+ex['r5index'][:17])"
   ]
  },
  {
   "cell_type": "code",
   "execution_count": 26,
   "metadata": {},
   "outputs": [],
   "source": [
    "Efut1=[]\n",
    "for i in range(len(Efut)):\n",
    "    Efut1.append(Efut[i])"
   ]
  },
  {
   "cell_type": "code",
   "execution_count": 27,
   "metadata": {},
   "outputs": [],
   "source": [
    "Vfut1=[]\n",
    "for i in range(len(A)):\n",
    "    Vfut1.append(0.33*(Efut1[i]+S[i]-A[i]))"
   ]
  },
  {
   "cell_type": "code",
   "execution_count": 28,
   "metadata": {},
   "outputs": [
    {
     "data": {
      "text/plain": [
       "0.9936325406844895"
      ]
     },
     "execution_count": 28,
     "metadata": {},
     "output_type": "execute_result"
    }
   ],
   "source": [
    "max(Efut1)"
   ]
  },
  {
   "cell_type": "code",
   "execution_count": 29,
   "metadata": {},
   "outputs": [
    {
     "data": {
      "text/plain": [
       "18"
      ]
     },
     "execution_count": 29,
     "metadata": {},
     "output_type": "execute_result"
    }
   ],
   "source": [
    "len(A)"
   ]
  },
  {
   "cell_type": "code",
   "execution_count": 29,
   "metadata": {},
   "outputs": [],
   "source": [
    "V=[]\n",
    "for i in range(len(A)):\n",
    "    V.append(0.33*(E1[i]+S[i]-A[i]))"
   ]
  },
  {
   "cell_type": "code",
   "execution_count": 30,
   "metadata": {},
   "outputs": [],
   "source": [
    "rural['RL100']=exposure['rl100']\n",
    "rural['RL30']=exposure['r30']\n",
    "rural['return1index']=exposure['r1index']\n",
    "rural['return2index']=exposure['r2index']\n",
    "rural['return3index']=exposure['r3index']\n",
    "rural['return5index']=exposure['r5index']\n",
    "rural['Sindex']= S\n",
    "rural['Aindex']= A\n",
    "rural['Eindex']=E1\n",
    "rural['Vindex']=V"
   ]
  },
  {
   "cell_type": "code",
   "execution_count": 33,
   "metadata": {},
   "outputs": [],
   "source": [
    "rural['Vfut1']=Vfut1\n",
    "rural['Efut1']=Efut1"
   ]
  },
  {
   "cell_type": "code",
   "execution_count": 59,
   "metadata": {},
   "outputs": [
    {
     "data": {
      "text/plain": [
       "0.33694327216203196"
      ]
     },
     "execution_count": 59,
     "metadata": {},
     "output_type": "execute_result"
    }
   ],
   "source": [
    "max(V)"
   ]
  },
  {
   "cell_type": "code",
   "execution_count": 67,
   "metadata": {},
   "outputs": [],
   "source": [
    "rural1 = rural[['DISTRICT','Vfut2']]\n",
    "data_for_map = rural1.rename(index=str, columns={'DISTRICT':'dist','Vfut2':'e'})\n",
    "merged = rural.set_index('DISTRICT').join(data_for_map.set_index('dist'))"
   ]
  },
  {
   "cell_type": "code",
   "execution_count": 68,
   "metadata": {},
   "outputs": [
    {
     "data": {
      "text/plain": [
       "<matplotlib.axes._subplots.AxesSubplot at 0x1da75727748>"
      ]
     },
     "execution_count": 68,
     "metadata": {},
     "output_type": "execute_result"
    },
    {
     "data": {
      "image/png": "[encoded data removed]",
      "text/plain": [
       "<Figure size 720x432 with 1 Axes>"
      ]
     },
     "metadata": {
      "needs_background": "light"
     },
     "output_type": "display_data"
    }
   ],
   "source": [
    "variable = 'Vfut2'\n",
    "# set the range for the choropleth\n",
    "\n",
    "# create figure and axes for Matplotlib\n",
    "fig, ax = plt.subplots(1, figsize=(10, 6))\n",
    "merged.plot(column=variable, cmap='Oranges', linewidth=0.8, ax=ax, edgecolor='0.8')"
   ]
  },
  {
   "cell_type": "code",
   "execution_count": 69,
   "metadata": {},
   "outputs": [],
   "source": [
    "ax.axis('off')\n",
    "# add a title\n",
    "ax.set_title('Vulnerability in period 2037-2076', fontdict={'fontsize': '18', 'fontweight' : '3'})\n",
    "# create an annotation for the data source\n",
    "cax = fig.add_axes([0.14, 0.1, 0.7, 0.01])\n",
    "sm4 = plt.cm.ScalarMappable(cmap='Oranges', norm=plt.Normalize(vmin=0, vmax=0.40))\n",
    "# empty array for the data range\n",
    "sm4._A = []\n",
    "# add the colorbar to the figur\n",
    "cbar = fig.colorbar(sm4,cax= cax,orientation ='horizontal')\n",
    "#saving our map as .png file.\n",
    "fig.savefig(r'C:\\Users\\Pranjali\\Downloads\\PB-V(100t030)-2037-76.png', dpi=300)"
   ]
  },
  {
   "cell_type": "code",
   "execution_count": null,
   "metadata": {},
   "outputs": [],
   "source": []
  }
 ],
 "metadata": {
  "kernelspec": {
   "display_name": "Python 3",
   "language": "python",
   "name": "python3"
  },
  "language_info": {
   "codemirror_mode": {
    "name": "ipython",
    "version": 3
   },
   "file_extension": ".py",
   "mimetype": "text/x-python",
   "name": "python",
   "nbconvert_exporter": "python",
   "pygments_lexer": "ipython3",
   "version": "3.6.5"
  }
 },
 "nbformat": 4,
 "nbformat_minor": 2
}
