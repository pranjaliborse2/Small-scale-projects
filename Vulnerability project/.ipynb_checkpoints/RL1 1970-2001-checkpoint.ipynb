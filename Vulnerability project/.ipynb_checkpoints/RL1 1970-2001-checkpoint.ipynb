{
 "cells": [
  {
   "cell_type": "code",
   "execution_count": 1,
   "metadata": {},
   "outputs": [],
   "source": [
    "from rpy2.robjects.packages import importr\n",
    "utils = importr(\"utils\")\n",
    "extremes = importr(\"extRemes\")\n",
    "ismev = importr(\"ismev\")\n",
    "eva = importr(\"eva\")\n",
    "gnFit = importr(\"gnFit\")\n",
    "from netCDF4 import Dataset\n",
    "import xarray as xr\n",
    "import matplotlib.pyplot as plt\n",
    "import time\n",
    "import numpy as np\n",
    "import pandas as pd\n",
    "from datetime import datetime\n",
    "from matplotlib.offsetbox import AnchoredText\n",
    "from netCDF4 import num2date, date2num\n",
    "statis = importr('stats')\n",
    "import rpy2.robjects.numpy2ri\n",
    "rpy2.robjects.numpy2ri.activate()\n",
    "import os\n",
    "os.chdir(r\"C:\\Users\\Pranjali\\Downloads\")"
   ]
  },
  {
   "cell_type": "code",
   "execution_count": 2,
   "metadata": {},
   "outputs": [],
   "source": [
    "climate = xr.open_dataset(\"Climate.nc\")\n",
    "climate1 = climate['precipitation1'].sel(time = slice('1970-01-01','2001-12-31'))\n",
    "#climate2 = climate['precipitation1'].sel(time = slice('1981-01-01','2015-12-31'))"
   ]
  },
  {
   "cell_type": "code",
   "execution_count": 3,
   "metadata": {},
   "outputs": [
    {
     "data": {
      "text/plain": [
       "<xarray.Dataset>\n",
       "Dimensions:         (lat: 129, lon: 135, time: 41975)\n",
       "Coordinates:\n",
       "  * time            (time) datetime64[ns] 1901-01-01 1901-01-02 ... 2015-12-31\n",
       "  * lat             (lat) float32 6.5 6.75 7.0 7.25 ... 37.75 38.0 38.25 38.5\n",
       "  * lon             (lon) float32 66.5 66.75 67.0 67.25 ... 99.5 99.75 100.0\n",
       "Data variables:\n",
       "    precipitation1  (time, lat, lon) float32 ...\n",
       "    RLv             (lat, lon) float32 ...\n",
       "    RLV2            (lat, lon) float32 ...\n",
       "    loc             (lat, lon) float32 ...\n",
       "    sc              (lat, lon) float32 ...\n",
       "    sh              (lat, lon) float32 ...\n",
       "    pv              (lat, lon) float32 ..."
      ]
     },
     "execution_count": 3,
     "metadata": {},
     "output_type": "execute_result"
    }
   ],
   "source": [
    "climate"
   ]
  },
  {
   "cell_type": "code",
   "execution_count": 6,
   "metadata": {},
   "outputs": [],
   "source": [
    "#ppt2 = climate1.rolling(time=2).sum()\n",
    "#ppt3 =climate1.rolling(time=3).sum()\n",
    "#ppt= ppt3.where(ppt3>=0)\n",
    "\n",
    "ppt5 =climate1.rolling(time=5).sum()\n",
    "ppt= ppt5.where(ppt5>=0)"
   ]
  },
  {
   "cell_type": "code",
   "execution_count": 7,
   "metadata": {},
   "outputs": [
    {
     "name": "stderr",
     "output_type": "stream",
     "text": [
      "C:\\Users\\Pranjali\\Anaconda3\\lib\\site-packages\\ipykernel_launcher.py:12: RuntimeWarning: invalid value encountered in greater\n",
      "  if sys.path[0] == '':\n"
     ]
    }
   ],
   "source": [
    "maxima1 = ppt.groupby('time.year').max('time')\n",
    "rlv1=[]\n",
    "rlv301=[]\n",
    "paramlist1=[]\n",
    "lon1=[]\n",
    "lat1=[]\n",
    "for i in range(129):\n",
    "    for j in range(135):\n",
    "\n",
    "        maxima11 = maxima1.sel(lat=climate.lat[i],lon=climate.lon[j])\n",
    "        params1 = {}    \n",
    "        if(maxima11.values[1]>0):\n",
    "            #RL2 = []\n",
    "            block_maxima=maxima11.values[~np.isnan(maxima11.values)]\n",
    "            try:\n",
    "                gev_fit =  eva.gevrFit(block_maxima)\n",
    "            except:\n",
    "                pass\n",
    "            MLE_est = list(gev_fit.rx2('par.ests'))\n",
    "\n",
    "            #print(block_maxima)\n",
    "\n",
    "\n",
    "            params1['location'] = MLE_est[0]\n",
    "\n",
    "            params1['scale'] =  MLE_est[1] \n",
    "\n",
    "            params1['shape'] = MLE_est[2]\n",
    "\n",
    "            if MLE_est[1]<0:\n",
    "                MLE_est[1] = 0.01\n",
    "\n",
    "            y = eva.rgevr(10000, 1, loc = MLE_est[0], scale = MLE_est[1], shape = MLE_est[2])\n",
    "\n",
    "            sig_test = statis.ks_test(block_maxima, y)\n",
    "\n",
    "            params1['p_val'] = sig_test.rx2('p.value')[0]\n",
    "            paramlist1.append(params1)\n",
    "\n",
    "    #print(params)\n",
    "  \n",
    "\n",
    "\n",
    "            if params1['p_val']>0.05:\n",
    "\n",
    "                temp = eva.gevrRl(gev_fit, 100, method = \"delta\")\n",
    "                temp1 = eva.gevrRl(gev_fit, 30, method = \"delta\")\n",
    "                RL1 = temp.rx2('Estimate')[0]\n",
    "                RL301 = temp1.rx2('Estimate')[0]\n",
    "#n['RLV2'][i][j] = RL2\n",
    "\n",
    "            else:\n",
    "                params1['p_val'] = np.nan\n",
    "                params1['location'] = np.nan\n",
    "                params1['scale'] = np.nan\n",
    "                params1['shape'] = np.nan\n",
    "            #print(RL2,climate.lat.values[i],climate.lon.values[j])\n",
    "            rlv1.append(RL1)\n",
    "            rlv301.append(RL301)\n",
    "            lat1.append(climate.lat.values[i])\n",
    "            lon1.append(climate.lon.values[j])\n",
    "#n['RLV2'][i][j] = np.nan\n",
    "#print(RL2)\n",
    "        else:\n",
    "            params1['p_val'] = np.nan\n",
    "            params1['location'] = np.nan\n",
    "            params1['scale'] = np.nan\n",
    "            params1['shape'] = np.nan\n",
    "df1 = pd.DataFrame({'rlv1':rlv1,'rlv301':rlv301,'lat1':lat1,'lon1':lon1})"
   ]
  },
  {
   "cell_type": "code",
   "execution_count": 8,
   "metadata": {},
   "outputs": [],
   "source": [
    "#df0=l1[0]\n",
    "#df1=l1[1]\n",
    "#ds0= df0.set_index(['lat1','lon1']).to_xarray()\n",
    "#ds0.to_netcdf(path=r'D:\\ds1p1951-1880-30100.nc')\n",
    "ds1= df1.set_index(['lat1','lon1']).to_xarray()\n",
    "ds1.to_netcdf(path=r'D:\\All project data\\ds5p1970-2001-30100.nc')"
   ]
  },
  {
   "cell_type": "code",
   "execution_count": 1,
   "metadata": {},
   "outputs": [
    {
     "ename": "NameError",
     "evalue": "name 'ds1' is not defined",
     "output_type": "error",
     "traceback": [
      "\u001b[1;31m---------------------------------------------------------------------------\u001b[0m",
      "\u001b[1;31mNameError\u001b[0m                                 Traceback (most recent call last)",
      "\u001b[1;32m<ipython-input-1-05d7855d23d7>\u001b[0m in \u001b[0;36m<module>\u001b[1;34m\u001b[0m\n\u001b[1;32m----> 1\u001b[1;33m \u001b[0mds1\u001b[0m\u001b[1;33m[\u001b[0m\u001b[1;34m'rlv1'\u001b[0m\u001b[1;33m]\u001b[0m\u001b[1;33m.\u001b[0m\u001b[0mplot\u001b[0m\u001b[1;33m(\u001b[0m\u001b[1;33m)\u001b[0m\u001b[1;33m\u001b[0m\u001b[0m\n\u001b[0m\u001b[0;32m      2\u001b[0m \u001b[0mplt\u001b[0m\u001b[1;33m.\u001b[0m\u001b[0mshow\u001b[0m\u001b[1;33m(\u001b[0m\u001b[1;33m)\u001b[0m\u001b[1;33m\u001b[0m\u001b[0m\n",
      "\u001b[1;31mNameError\u001b[0m: name 'ds1' is not defined"
     ]
    }
   ],
   "source": [
    "ds1['rlv1'].plot()\n",
    "plt.show()"
   ]
  }
 ],
 "metadata": {
  "kernelspec": {
   "display_name": "Python 3",
   "language": "python",
   "name": "python3"
  },
  "language_info": {
   "codemirror_mode": {
    "name": "ipython",
    "version": 3
   },
   "file_extension": ".py",
   "mimetype": "text/x-python",
   "name": "python",
   "nbconvert_exporter": "python",
   "pygments_lexer": "ipython3",
   "version": "3.6.5"
  }
 },
 "nbformat": 4,
 "nbformat_minor": 2
}
