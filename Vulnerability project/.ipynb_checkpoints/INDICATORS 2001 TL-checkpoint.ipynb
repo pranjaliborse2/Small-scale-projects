{
 "cells": [
  {
   "cell_type": "code",
   "execution_count": 5,
   "metadata": {},
   "outputs": [],
   "source": [
    "import geopandas as gpd\n",
    "import matplotlib.pyplot as plt\n",
    "from zipfile import ZipFile\n",
    "import os\n",
    "os.chdir(r\"C:\\Users\\Pranjali\\Downloads\")\n",
    "gdf = gpd.read_file('india-village-census-2001-AP.shp')"
   ]
  },
  {
   "cell_type": "code",
   "execution_count": 6,
   "metadata": {},
   "outputs": [],
   "source": [
    "district = gdf[['DISTRICT', 'geometry']]\n",
    "districts = gdf.dissolve(by='DISTRICT', aggfunc = 'mean')"
   ]
  },
  {
   "cell_type": "code",
   "execution_count": 10,
   "metadata": {},
   "outputs": [
    {
     "data": {
      "text/plain": [
       "array(['geometry', 'UID', 'CENSUS_COD', 'STATE', 'SUB_DIST', 'TOWN_VILL',\n",
       "       'WARD', 'EB', 'No_HH', 'TOT_P', 'TOT_M', 'TOT_F', 'P_06', 'M_06',\n",
       "       'F_06', 'P_SC', 'M_SC', 'F_SC', 'P_ST', 'M_ST', 'F_ST', 'P_LIT',\n",
       "       'M_LIT', 'F_LIT', 'P_ILL', 'M_ILL', 'F_ILL', 'TOT_WORK_P',\n",
       "       'TOT_WORK_M', 'TOT_WORK_F', 'MAINWORK_P', 'MAINWORK_M',\n",
       "       'MAINWORK_F', 'MAIN_CL_P', 'MAIN_CL_M', 'MAIN_CL_F', 'MAIN_AL_P',\n",
       "       'MAIN_AL_M', 'MAIN_AL_F', 'MAIN_HH_P', 'MAIN_HH_M', 'MAIN_HH_F',\n",
       "       'MAIN_OT_P', 'MAIN_OT_M', 'MAIN_OT_F', 'MARGWORK_P', 'MARGWORK_M',\n",
       "       'MARGWORK_F', 'MARG_CL_P', 'MARG_CL_M', 'MARG_CL_F', 'MARG_AL_P',\n",
       "       'MARG_AL_M', 'MARG_AL_F', 'MARG_HH_P', 'MARG_HH_M', 'MARG_HH_F',\n",
       "       'MARG_OT_P', 'MARG_OT_M', 'MARG_OT_F', 'NON_WORK_P', 'NON_WORK_M',\n",
       "       'NON_WORK_F', 'ST_CODE', 'DIST_CODE', 'THSIL_CODE', 'BLOCK_CODE',\n",
       "       'V_CT_CODE', 'AREA', 'T_HH', 'T_P', 'T_M', 'T_F', 'SC_P', 'SC_M',\n",
       "       'SC_F', 'ST_P', 'ST_M', 'ST_F', 'EDU_FAC', 'P_SCH', 'RANG_P_SCH',\n",
       "       'M_SCH', 'RANG_M_SCH', 'S_SCH', 'S_S_SCH', 'COLLEGE', 'RANG_COLL',\n",
       "       'IND_SCH', 'TR_SCH', 'ADLT_LT_CT', 'OTH_SCH', 'MEDI_FAC',\n",
       "       'ALL_HOSP', 'RANG_ALL', 'AYU_HOSP', 'UN_HOSP', 'HOM_HOSP',\n",
       "       'ALL_DISP', 'AYU_DISP', 'UN_DISP', 'HOM_DISP', 'MCW_CNTR',\n",
       "       'RANG_MCW', 'M_HOME', 'CWC', 'H_CNTR', 'PH_CNTR', 'RANG_PHC',\n",
       "       'PHS_CNT', 'FWC_CNTR', 'TB_CLN', 'N_HOME', 'RMP', 'SMP', 'CHW',\n",
       "       'OTH_CNTR', 'DRNK_WAT_F', 'RANG_WAT_F', 'TAP', 'WELL', 'TANK',\n",
       "       'TUBEWELL', 'HANDPUMP', 'RIVER', 'CANAL', 'LAKE', 'SPRING',\n",
       "       'OTHER', 'RANG_SS', 'P_T_FAC', 'POST_OFF', 'RANG_PO', 'TELE_OFF',\n",
       "       'POST_TELE', 'PHONE', 'RANG_PHONE', 'COMM_FAC', 'BS_FAC',\n",
       "       'RANG_BS', 'RS_FAC', 'RANG_RS', 'NW_FAC', 'RANG_NW', 'BANK_FAC',\n",
       "       'COMM_BANK', 'RANG_COMM', 'COOP_BANK', 'RANG_COOP', 'CRSOC_FAC',\n",
       "       'AC_SOC', 'RANG_ACS', 'NAC_SOC', 'RANG_NAC', 'OTHER_SOC',\n",
       "       'RANG_OTH', 'RC_FAC', 'C_V_HALL', 'RANG_CV', 'SP_CL_FAC',\n",
       "       'RANG_SPCL', 'ST_AU_FAC', 'RANG_STAU', 'APP_PR', 'APP_MR',\n",
       "       'APP_FP', 'APP_NAVRIV', 'APP_NAVCAN', 'APP_NW', 'DIST_TOWN',\n",
       "       'POWER_SUPL', 'POWER_DOM', 'POWER_AGR', 'POWER_OTH', 'POWER_ALL',\n",
       "       'PAP_MAG', 'A_INCEXP', 'TOT_INC', 'TOT_EXP', 'LAND_FORES',\n",
       "       'CANAL_GOVT', 'CANAL_PVT', 'WELL_WO_EL', 'WELL_W_EL', 'TW_WO_EL',\n",
       "       'TW_W_EL', 'TANK_IRR', 'RIVER_IRR', 'LAKE_IRR', 'W_FALL',\n",
       "       'OTH_IRR', 'TOT_IRR', 'UN_IRR', 'CULT_WASTE', 'AREA_NA_CU'],\n",
       "      dtype=object)"
      ]
     },
     "execution_count": 10,
     "metadata": {},
     "output_type": "execute_result"
    }
   ],
   "source": [
    "(districts.columns.values)"
   ]
  },
  {
   "cell_type": "code",
   "execution_count": 102,
   "metadata": {},
   "outputs": [],
   "source": [
    "#Sensitivity indicators\n",
    "#Total population\n",
    "popln = [0]\n",
    "pindex = [0]\n",
    "for i in range(1,24):\n",
    "    try:\n",
    "        popln.append(districts['TOT_P'][i])\n",
    "    except:\n",
    "        pass\n",
    "for i in range(1,24):\n",
    "    index = (popln[i]-min(popln))/(max(popln)-min(popln))\n",
    "    pindex.append(index)"
   ]
  },
  {
   "cell_type": "code",
   "execution_count": 121,
   "metadata": {},
   "outputs": [],
   "source": [
    "#tribal population\n",
    "scst = [0]\n",
    "scstindex = [0]\n",
    "for i in range(1,24):\n",
    "    try:\n",
    "        scst.append((districts['SC_P'][i]+districts['ST_P'][i]))\n",
    "    except:\n",
    "        pass\n",
    "for i in range(1,24):\n",
    "    index = (scst[i]-min(scst))/(max(scst)-min(scst))\n",
    "    scstindex.append(index)"
   ]
  },
  {
   "cell_type": "code",
   "execution_count": 122,
   "metadata": {},
   "outputs": [],
   "source": [
    "#tribal female\n",
    "scstf = [0]\n",
    "scstfindex = [0]\n",
    "for i in range(1,24):\n",
    "    try:\n",
    "        scstf.append((districts['SC_F'][i]+districts['ST_F'][i]))\n",
    "    except:\n",
    "        pass\n",
    "for i in range(1,24):\n",
    "    index = (scstf[i]-min(scstf))/(max(scstf)-min(scstf))\n",
    "    scstfindex.append(index)"
   ]
  },
  {
   "cell_type": "code",
   "execution_count": 105,
   "metadata": {},
   "outputs": [],
   "source": [
    "#infants population\n",
    "infants = [0]\n",
    "infindex = [0]\n",
    "for i in range(1,24):\n",
    "    try:\n",
    "        infants.append((districts['P_06'][i]))\n",
    "    except:\n",
    "        pass\n",
    "for i in range(1,24):\n",
    "    index = (infants[i]-min(infants))/(max(infants)-min(infants))\n",
    "    infindex.append(index)"
   ]
  },
  {
   "cell_type": "code",
   "execution_count": 106,
   "metadata": {},
   "outputs": [],
   "source": [
    "#Total Illiterate \n",
    "illit = [0]\n",
    "illitindex = [0]\n",
    "for i in range(1,24):\n",
    "    try:\n",
    "        illit.append((districts['P_ILL'][i]))\n",
    "    except:\n",
    "        pass\n",
    "for i in range(1,24):\n",
    "    index = (illit[i]-min(illit))/(max(illit)-min(illit))\n",
    "    illitindex.append(index)"
   ]
  },
  {
   "cell_type": "code",
   "execution_count": 107,
   "metadata": {},
   "outputs": [],
   "source": [
    "# male Illiterate \n",
    "millit = [0]\n",
    "millitindex = [0]\n",
    "for i in range(1,24):\n",
    "    try:\n",
    "        millit.append((districts['M_ILL'][i]))\n",
    "    except:\n",
    "        pass\n",
    "for i in range(1,24):\n",
    "    index = (millit[i]-min(millit))/(max(millit)-min(millit))\n",
    "    millitindex.append(index)"
   ]
  },
  {
   "cell_type": "code",
   "execution_count": 108,
   "metadata": {},
   "outputs": [],
   "source": [
    "#Unirrigated area\n",
    "unirra = [0]\n",
    "unirrindex = [0]\n",
    "for i in range(1,24):\n",
    "    try:\n",
    "        unirra.append((districts['UN_IRR'][i]))\n",
    "    except:\n",
    "        pass\n",
    "for i in range(1,24):\n",
    "    index = (unirra[i]-min(unirra))/(max(unirra)-min(unirra))\n",
    "    unirrindex.append(index)"
   ]
  },
  {
   "cell_type": "code",
   "execution_count": 109,
   "metadata": {},
   "outputs": [],
   "source": [
    "#Adaptive capacity indicators\n",
    "#Irrigated area\n",
    "irra = [0]\n",
    "irrindex = [0]\n",
    "for i in range(1,24):\n",
    "    try:\n",
    "        irra.append((districts['TOT_IRR'][i]))\n",
    "    except:\n",
    "        pass\n",
    "for i in range(1,24):\n",
    "    index = (irra[i]-min(irra))/(max(irra)-min(irra))\n",
    "    irrindex.append(index)"
   ]
  },
  {
   "cell_type": "code",
   "execution_count": 110,
   "metadata": {},
   "outputs": [],
   "source": [
    "#agriculture workers\n",
    "alwork = [0]\n",
    "alworkindex = [0]\n",
    "for i in range(1,24):\n",
    "    try:\n",
    "        alwork.append((districts['MAIN_AL_P'][i]))\n",
    "    except:\n",
    "        pass\n",
    "for i in range(1,24):\n",
    "    index = (alwork[i]-min(alwork))/(max(alwork)-min(alwork))\n",
    "    alworkindex.append(index)"
   ]
  },
  {
   "cell_type": "code",
   "execution_count": 111,
   "metadata": {},
   "outputs": [],
   "source": [
    "#income\n",
    "inc =[0]\n",
    "incindex=[0]\n",
    "for i in range(1,24):\n",
    "    try:\n",
    "        inc.append((districts['TOT_INC'][i]))\n",
    "    except:\n",
    "        pass\n",
    "for i in range(1,24):\n",
    "    index = (inc[i]-min(inc))/(max(inc)-min(inc))\n",
    "    incindex.append(index)"
   ]
  },
  {
   "cell_type": "code",
   "execution_count": 112,
   "metadata": {},
   "outputs": [],
   "source": [
    "#total literate \n",
    "lit = [0]\n",
    "litindex = [0]\n",
    "for i in range(1,24):\n",
    "    try:\n",
    "        lit.append((districts['P_LIT'][i]))\n",
    "    except:\n",
    "        pass\n",
    "for i in range(1,24):\n",
    "    index = (lit[i]-min(lit))/(max(lit)-min(lit))\n",
    "    litindex.append(index)"
   ]
  },
  {
   "cell_type": "code",
   "execution_count": 113,
   "metadata": {},
   "outputs": [],
   "source": [
    "#medical facilities(no.of hospitals and dispensaries)\n",
    "hosp =[0]\n",
    "hospindex=[0]\n",
    "for i in range(1,24):\n",
    "    try:\n",
    "        hosp.append((districts['ALL_HOSP'][i]+districts['AYU_HOSP'][i]+districts['UN_HOSP'][i]+districts['HOM_HOSP'][i]+districts['ALL_DISP'][i]+districts['AYU_DISP'][i]+districts['UN_DISP'][i]+districts['HOM_DISP'][i]))\n",
    "    except:\n",
    "        pass\n",
    "for i in range(1,24):\n",
    "    index = (hosp[i]-min(hosp))/(max(hosp)-min(hosp))\n",
    "    hospindex.append(index)"
   ]
  },
  {
   "cell_type": "code",
   "execution_count": 114,
   "metadata": {},
   "outputs": [],
   "source": [
    "#no. of private doctors\n",
    "pdr =[0]\n",
    "pdrindex=[0]\n",
    "for i in range(1,24):\n",
    "    try:\n",
    "        pdr.append((districts['RMP'][i]))\n",
    "    except:\n",
    "        pass\n",
    "for i in range(1,24):\n",
    "    index = (pdr[i]-min(pdr))/(max(pdr)-min(pdr))\n",
    "    pdrindex.append(index)"
   ]
  },
  {
   "cell_type": "code",
   "execution_count": 115,
   "metadata": {},
   "outputs": [],
   "source": [
    "#no. of subsided doctors\n",
    "sdr =[0]\n",
    "sdrindex=[0]\n",
    "for i in range(1,24):\n",
    "    try:\n",
    "        sdr.append((districts['RMP'][i]))\n",
    "    except:\n",
    "        pass\n",
    "for i in range(1,24):\n",
    "    index = (sdr[i]-min(sdr))/(max(sdr)-min(sdr))\n",
    "    sdrindex.append(index)"
   ]
  },
  {
   "cell_type": "code",
   "execution_count": 116,
   "metadata": {},
   "outputs": [],
   "source": [
    "#main workers\n",
    "aworker =[0]\n",
    "aworkindex=[0]\n",
    "for i in range(1,24):\n",
    "    try:\n",
    "        aworker.append((districts['MAINWORK_P'][i]))\n",
    "    except:\n",
    "        pass\n",
    "for i in range(1,24):\n",
    "    index = (aworker[i]-min(aworker))/(max(aworker)-min(aworker))\n",
    "    aworkindex.append(index)"
   ]
  },
  {
   "cell_type": "code",
   "execution_count": 117,
   "metadata": {},
   "outputs": [],
   "source": [
    "#marginal workers\n",
    "mworker =[0]\n",
    "mworkindex=[0]\n",
    "for i in range(1,24):\n",
    "    try:\n",
    "        mworker.append((districts['MARGWORK_P'][i]))\n",
    "    except:\n",
    "        pass\n",
    "for i in range(1,24):\n",
    "    index = (mworker[i]-min(mworker))/(max(mworker)-min(mworker))\n",
    "    mworkindex.append(index)"
   ]
  },
  {
   "cell_type": "code",
   "execution_count": 123,
   "metadata": {},
   "outputs": [],
   "source": [
    "pw=[0]\n",
    "tw=[0]\n",
    "t1w=[0]\n",
    "fw=[0]\n",
    "iw=[0]\n",
    "pin=[0]\n",
    "t=[0]\n",
    "inf=[0]\n",
    "unirr=[0]\n",
    "illite=[0]\n",
    "for i in range(1,len(popln)):\n",
    "    pw.append(((scst[i]+infants[i])/popln[i]))\n",
    "    tw.append((0.5-(scst[i]/popln[i])))\n",
    "    if(scst[i]!=0):\n",
    "        t1w.append(scstf[i]/scst[i])\n",
    "        fw.append((1-(scstf[i]/scst[i])))\n",
    "    else:\n",
    "        t1w.append(0)\n",
    "        fw.append(0)\n",
    "    iw.append((0.5-(infants[i]/popln[i])))\n",
    "    pin.append(0.33*0.33*(pw[i]*pindex[i]))\n",
    "    t.append(0.33*0.33*(tw[i]*(t1w[i]*scstindex[i]+fw[i]*scstfindex[i])))\n",
    "    inf.append(0.33*0.33*(iw[i]*infindex[i]))\n",
    "    unirr.append(0.33*0.33*unirrindex[i])\n",
    "    illite.append(0.33*0.33*((millit[i]/illit[i])*illitindex[i]+(1-(millit[i]/illit[i]))*millitindex[i]))"
   ]
  },
  {
   "cell_type": "code",
   "execution_count": 120,
   "metadata": {},
   "outputs": [
    {
     "data": {
      "text/plain": [
       "12"
      ]
     },
     "execution_count": 120,
     "metadata": {},
     "output_type": "execute_result"
    }
   ],
   "source": [
    "len(tw)"
   ]
  },
  {
   "cell_type": "code",
   "execution_count": 139,
   "metadata": {},
   "outputs": [],
   "source": [
    "S=[]\n",
    "for i in range(24):\n",
    "    S.append(pin[i]+t[i]+inf[i]+unirr[i]+illite[i])"
   ]
  },
  {
   "cell_type": "code",
   "execution_count": 125,
   "metadata": {},
   "outputs": [],
   "source": [
    "#adaptive capacity\n",
    "a=[0]\n",
    "income=[0]\n",
    "m=[0]\n",
    "w=[0]\n",
    "lite=[0]\n",
    "for i in range(1,24):\n",
    "    a.append(0.33*0.2*0.5*(irrindex[i]+alworkindex[i]))\n",
    "    income.append(0.33*0.2*incindex[i])\n",
    "    if(sdr[i]+pdr[i]!=0):\n",
    "        if(sdr[i]>=pdr[i]):\n",
    "            m.append(0.33*0.2*(0.5*hospindex[i]+0.5*(sdr[i]/(sdr[i]+pdr[i]))*sdrindex[i]+0.5*(pdr[i]/(sdr[i]+pdr[i]))*pdrindex[i]))\n",
    "        else:\n",
    "            m.append(0.33*0.2*(0.5*hospindex[i]+0.5*(pdr[i]/(sdr[i]+pdr[i]))*sdrindex[i]+0.5*(sdr[i]/(sdr[i]+pdr[i]))*pdrindex[i]))\n",
    "    else:\n",
    "        m.append(0)\n",
    "    if(aworker[i]>=mworker[i]):\n",
    "        w.append(0.33*0.2*((aworker[i]/(aworker[i]+mworker[i]))*aworkindex[i]+(mworker[i]/(aworker[i]+mworker[i]))*mworkindex[i]))\n",
    "    else:\n",
    "        w.append(0.33*0.2*((mworker[i]/(aworker[i]+mworker[i]))*aworkindex[i]+(aworker[i]/(aworker[i]+mworker[i]))*mworkindex[i]))\n",
    "    lite.append(0.33*0.2*litindex[i])"
   ]
  },
  {
   "cell_type": "code",
   "execution_count": 126,
   "metadata": {},
   "outputs": [],
   "source": [
    "A=[]\n",
    "for i in range(24):\n",
    "    A.append(a[i]+income[i]+m[i]+w[i]+lite[i])"
   ]
  },
  {
   "cell_type": "code",
   "execution_count": 131,
   "metadata": {},
   "outputs": [],
   "source": [
    "import pandas as pd\n",
    "exp = pd.read_excel(r\"D:\\rlindex-1951-1980-tl.xlsx\")\n",
    "exp1 =pd.read_excel(r\"D:\\rlindex-1951-1980-ap.xlsx\")"
   ]
  },
  {
   "cell_type": "code",
   "execution_count": 128,
   "metadata": {},
   "outputs": [],
   "source": [
    "E1 = 0.33*0.25*(exp['r1index'][:10]+exp['r2index'][:10]+exp['r3index'][:10]+exp['r5index'][:10])\n",
    "E=[0]\n",
    "for i in range(10):\n",
    "    E.append(E1[i])"
   ]
  },
  {
   "cell_type": "code",
   "execution_count": 132,
   "metadata": {},
   "outputs": [],
   "source": [
    "E2 = 0.33*0.25*(exp1['r1index']+exp1['r2index']+exp1['r3index']+exp1['r5index'])"
   ]
  },
  {
   "cell_type": "code",
   "execution_count": 133,
   "metadata": {},
   "outputs": [],
   "source": [
    "for i in range(13):\n",
    "    E.append(E2[i])"
   ]
  },
  {
   "cell_type": "code",
   "execution_count": 140,
   "metadata": {},
   "outputs": [
    {
     "data": {
      "text/plain": [
       "24"
      ]
     },
     "execution_count": 140,
     "metadata": {},
     "output_type": "execute_result"
    }
   ],
   "source": [
    "len(A)"
   ]
  },
  {
   "cell_type": "code",
   "execution_count": 144,
   "metadata": {},
   "outputs": [],
   "source": [
    "V = []\n",
    "for i in range(24):\n",
    "    V.append(S[i]+E[i]-A[i])"
   ]
  },
  {
   "cell_type": "code",
   "execution_count": 56,
   "metadata": {},
   "outputs": [],
   "source": [
    "districts['code']=[i for i in range(24)]"
   ]
  },
  {
   "cell_type": "code",
   "execution_count": 163,
   "metadata": {},
   "outputs": [
    {
     "data": {
      "text/plain": [
       "6"
      ]
     },
     "execution_count": 163,
     "metadata": {},
     "output_type": "execute_result"
    }
   ],
   "source": [
    "E[11:24].index(min(E[11:24]))"
   ]
  },
  {
   "cell_type": "code",
   "execution_count": 146,
   "metadata": {},
   "outputs": [],
   "source": [
    "districts['vindex1']=V\n",
    "dist = districts[['code','vindex1']][:11]\n",
    "dist1 = districts[['code','vindex1']][11:24]\n",
    "data_for_map = dist.rename(index=str, columns={'code':'C','vindex1':'vulnerability'})\n",
    "data_for_map1 = dist1.rename(index=str, columns={'code':'C','vindex1':'vulnerability'})\n",
    "merged = districts.set_index('code').join(data_for_map.set_index('C'))\n",
    "merged1 = districts.set_index('code').join(data_for_map1.set_index('C'))"
   ]
  },
  {
   "cell_type": "code",
   "execution_count": 148,
   "metadata": {},
   "outputs": [
    {
     "data": {
      "text/plain": [
       "<matplotlib.axes._subplots.AxesSubplot at 0x1ea5c200358>"
      ]
     },
     "execution_count": 148,
     "metadata": {},
     "output_type": "execute_result"
    },
    {
     "data": {
      "image/png": "[encoded data removed]",
      "text/plain": [
       "<Figure size 720x432 with 1 Axes>"
      ]
     },
     "metadata": {
      "needs_background": "light"
     },
     "output_type": "display_data"
    }
   ],
   "source": [
    "variable = 'vindex1'\n",
    "# set the range for the choropleth\n",
    "# create figure and axes for Matplotlib\n",
    "fig, ax = plt.subplots(1, figsize=(10, 6))                                                                                 \n",
    "merged[1:11].plot(column=variable, cmap='Oranges', linewidth=0.8, ax=ax, edgecolor='0.8')"
   ]
  },
  {
   "cell_type": "code",
   "execution_count": 149,
   "metadata": {},
   "outputs": [
    {
     "data": {
      "text/plain": [
       "<matplotlib.axes._subplots.AxesSubplot at 0x1ea5c20b0b8>"
      ]
     },
     "execution_count": 149,
     "metadata": {},
     "output_type": "execute_result"
    },
    {
     "data": {
      "image/png": "[encoded data removed]",
      "text/plain": [
       "<Figure size 720x432 with 1 Axes>"
      ]
     },
     "metadata": {
      "needs_background": "light"
     },
     "output_type": "display_data"
    }
   ],
   "source": [
    "variable = 'vindex1'\n",
    "# set the range for the choropleth\n",
    "# create figure and axes for Matplotlib\n",
    "fig, ax = plt.subplots(1, figsize=(10, 6))                                                                                 \n",
    "merged[11:24].plot(column=variable, cmap='Oranges', linewidth=0.8, ax=ax, edgecolor='0.8')"
   ]
  }
 ],
 "metadata": {
  "kernelspec": {
   "display_name": "Python 3",
   "language": "python",
   "name": "python3"
  },
  "language_info": {
   "codemirror_mode": {
    "name": "ipython",
    "version": 3
   },
   "file_extension": ".py",
   "mimetype": "text/x-python",
   "name": "python",
   "nbconvert_exporter": "python",
   "pygments_lexer": "ipython3",
   "version": "3.6.5"
  }
 },
 "nbformat": 4,
 "nbformat_minor": 2
}
