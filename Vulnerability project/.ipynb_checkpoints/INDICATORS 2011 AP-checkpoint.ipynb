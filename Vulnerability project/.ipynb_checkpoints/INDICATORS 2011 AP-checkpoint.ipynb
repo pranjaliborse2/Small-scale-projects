{
 "cells": [
  {
   "cell_type": "code",
   "execution_count": 1,
   "metadata": {},
   "outputs": [],
   "source": [
    "import geopandas as gpd\n",
    "import matplotlib.pyplot as plt\n",
    "import os\n",
    "import pandas as pd\n",
    "os.chdir(r\"C:\\Users\\Pranjali\\Downloads\")"
   ]
  },
  {
   "cell_type": "code",
   "execution_count": 2,
   "metadata": {},
   "outputs": [],
   "source": [
    "rural = gpd.read_file(r\"D:\\All project data\\AP-CENSUS2011\\rural-AP_2011.shp\")"
   ]
  },
  {
   "cell_type": "code",
   "execution_count": 10,
   "metadata": {},
   "outputs": [
    {
     "data": {
      "text/plain": [
       "['Unnamed_ 0',\n",
       " 'DISTRICT',\n",
       " 'Tothhold',\n",
       " 'saljob',\n",
       " 'psaljob',\n",
       " 'govtsal',\n",
       " 'pcgovtsal',\n",
       " 'publicsal',\n",
       " 'pcpublicsa',\n",
       " 'salaryjob',\n",
       " 'pcsalaryjo',\n",
       " 'Unnamed_ 1',\n",
       " 'hholdgov',\n",
       " 'incl5k',\n",
       " 'pcincl5k',\n",
       " 'Unnamed__1',\n",
       " 'Unnamed__2',\n",
       " 'incg10k',\n",
       " 'pcincg10k',\n",
       " 'unirr_area',\n",
       " 'irr_area',\n",
       " 'TP',\n",
       " 'noworker',\n",
       " 'noworkerm',\n",
       " 'agriworker',\n",
       " 'infants',\n",
       " 'tribal',\n",
       " 'literate',\n",
       " 'illiterate',\n",
       " 'margworker',\n",
       " 'mworker',\n",
       " 'geometry']"
      ]
     },
     "execution_count": 10,
     "metadata": {},
     "output_type": "execute_result"
    }
   ],
   "source": [
    "list(rural.columns.values)"
   ]
  },
  {
   "cell_type": "code",
   "execution_count": 37,
   "metadata": {},
   "outputs": [],
   "source": [
    "#SENSITIVITY INDICATORS\n",
    "#1.Total population\n",
    "popln = []\n",
    "pindex = []\n",
    "for i in range(11,23):\n",
    "    popln.append(rural['TP'][i])\n",
    "for i in range(12):\n",
    "    index = (popln[i]-min(popln))/(max(popln)-min(popln))\n",
    "    pindex.append(index)"
   ]
  },
  {
   "cell_type": "code",
   "execution_count": 41,
   "metadata": {},
   "outputs": [],
   "source": [
    "#2.tribal population\n",
    "scst = []\n",
    "scstindex = []\n",
    "for i in range(11,23):\n",
    "    scst.append((rural['tribal'][i]))\n",
    "for i in range(12):\n",
    "    index = (scst[i]-min(scst))/(max(scst)-min(scst))\n",
    "    scstindex.append(index)"
   ]
  },
  {
   "cell_type": "code",
   "execution_count": 39,
   "metadata": {},
   "outputs": [],
   "source": [
    "#3.infants population\n",
    "infants = []\n",
    "infindex = []\n",
    "for i in range(11,23):\n",
    "    infants.append((rural['infants'][i]))\n",
    "for i in range(12):\n",
    "    index = (infants[i]-min(infants))/(max(infants)-min(infants))\n",
    "    infindex.append(index)"
   ]
  },
  {
   "cell_type": "code",
   "execution_count": 42,
   "metadata": {},
   "outputs": [],
   "source": [
    "TPindex =[]\n",
    "for i in range(12):\n",
    "    TPindex.append(((scst[i]+infants[i])/popln[i])*pindex[i] + (0.5-(scst[i]/popln[i]))*scstindex[i]+ (0.5-(infants[i]/popln[i]))*infindex[i])   "
   ]
  },
  {
   "cell_type": "code",
   "execution_count": 45,
   "metadata": {},
   "outputs": [],
   "source": [
    "for i in range(len(TPindex)):\n",
    "    if(TPindex[i]<0):\n",
    "        TPindex[i]=1"
   ]
  },
  {
   "cell_type": "code",
   "execution_count": 44,
   "metadata": {},
   "outputs": [],
   "source": [
    "#4.Unirrigated area\n",
    "unirra = []\n",
    "unirrindex = []\n",
    "for i in range(11,23):\n",
    "    unirra.append((rural['unirr_area'][i]))\n",
    "for i in range(12):\n",
    "    index = (unirra[i]-min(unirra))/(max(unirra)-min(unirra))\n",
    "    unirrindex.append(index)"
   ]
  },
  {
   "cell_type": "code",
   "execution_count": 46,
   "metadata": {},
   "outputs": [],
   "source": [
    "#5.Non-workers\n",
    "nwork = []\n",
    "nworkindex = []\n",
    "for i in range(11,23):\n",
    "    nwork.append((rural['noworker'][i]))\n",
    "for i in range(12):\n",
    "    index = (nwork[i]-min(nwork))/(max(nwork)-min(nwork))\n",
    "    nworkindex.append(index)"
   ]
  },
  {
   "cell_type": "code",
   "execution_count": 47,
   "metadata": {},
   "outputs": [],
   "source": [
    "#6.pop.with income<5000\n",
    "incl5 = []\n",
    "incl5index = []\n",
    "for i in range(11,23):\n",
    "    incl5.append((rural['incl5k'][i]))\n",
    "for i in range(12):\n",
    "    index = (incl5[i]-min(incl5))/(max(incl5)-min(incl5))\n",
    "    incl5index.append(index)"
   ]
  },
  {
   "cell_type": "code",
   "execution_count": 48,
   "metadata": {},
   "outputs": [],
   "source": [
    "#7.illiterate\n",
    "illit = []\n",
    "illitindex = []\n",
    "for i in range(11,23):\n",
    "    illit.append((rural['illiterate'][i]))\n",
    "for i in range(12):\n",
    "    index = (illit[i]-min(illit))/(max(illit)-min(illit))\n",
    "    illitindex.append(index)"
   ]
  },
  {
   "cell_type": "code",
   "execution_count": 52,
   "metadata": {},
   "outputs": [],
   "source": [
    "#Sensitivity index\n",
    "S=[]\n",
    "for i in range(12):\n",
    "    S.append(0.2*(TPindex[i]+unirrindex[i]+nworkindex[i]+incl5index[i]+illitindex[i]))"
   ]
  },
  {
   "cell_type": "code",
   "execution_count": 50,
   "metadata": {},
   "outputs": [],
   "source": [
    "#Adaptive capacity indicators\n",
    "#1.households registered with govt.\n",
    "hholdg = []\n",
    "hholdgindex = []\n",
    "for i in range(11,23):\n",
    "    hholdg.append((rural['hholdgov'][i]))\n",
    "for i in range(12):\n",
    "    index = (hholdg[i]-min(hholdg))/(max(hholdg)-min(hholdg))\n",
    "    hholdgindex.append(index)"
   ]
  },
  {
   "cell_type": "code",
   "execution_count": 51,
   "metadata": {},
   "outputs": [],
   "source": [
    "#3.Irrigated area\n",
    "irra = []\n",
    "irrindex = []\n",
    "for i in range(11,23):\n",
    "    irra.append((rural['irr_area'][i]))\n",
    "for i in range(12):\n",
    "    index = (irra[i]-min(irra))/(max(irra)-min(irra))\n",
    "    irrindex.append(index)"
   ]
  },
  {
   "cell_type": "code",
   "execution_count": 53,
   "metadata": {},
   "outputs": [],
   "source": [
    "# Agriculture workers\n",
    "agworker =[]\n",
    "agworkindex=[]\n",
    "for i in range(11,23):\n",
    "    agworker.append((rural['agriworker'][i]))\n",
    "for i in range(12):\n",
    "    index = (agworker[i]-min(agworker))/(max(agworker)-min(agworker))\n",
    "    agworkindex.append(index)"
   ]
  },
  {
   "cell_type": "code",
   "execution_count": 54,
   "metadata": {},
   "outputs": [],
   "source": [
    "agriindex=[]\n",
    "for i in range(12):\n",
    "    agriindex.append(0.5*(irrindex[i]+agworkindex[i]))"
   ]
  },
  {
   "cell_type": "code",
   "execution_count": 55,
   "metadata": {},
   "outputs": [],
   "source": [
    "#4.pop.with income>10000\n",
    "incg10 = []\n",
    "incg10index = []\n",
    "for i in range(11,23):\n",
    "    incg10.append((rural['incg10k'][i]))\n",
    "for i in range(12):\n",
    "    index = (incg10[i]-min(incg10))/(max(incg10)-min(incg10))\n",
    "    incg10index.append(index)"
   ]
  },
  {
   "cell_type": "code",
   "execution_count": 56,
   "metadata": {},
   "outputs": [],
   "source": [
    "#5.main workers\n",
    "aworker =[]\n",
    "aworkindex=[]\n",
    "for i in range(11,23):\n",
    "    aworker.append((rural['mworker'][i]))\n",
    "for i in range(12):\n",
    "    index = (aworker[i]-min(aworker))/(max(aworker)-min(aworker))\n",
    "    aworkindex.append(index)"
   ]
  },
  {
   "cell_type": "code",
   "execution_count": 57,
   "metadata": {},
   "outputs": [],
   "source": [
    "#6.marginal workers\n",
    "mworker =[]\n",
    "mworkindex=[]\n",
    "for i in range(11,23):\n",
    "    mworker.append((rural['margworker'][i]))\n",
    "for i in range(12):\n",
    "    index = (mworker[i]-min(mworker))/(max(mworker)-min(mworker))\n",
    "    mworkindex.append(index)"
   ]
  },
  {
   "cell_type": "code",
   "execution_count": 58,
   "metadata": {},
   "outputs": [],
   "source": [
    "workindex=[]\n",
    "for i in range(12):\n",
    "    if(aworker[i]>=mworker[i]):\n",
    "        workindex.append(0.33*0.25*((aworker[i]/(aworker[i]+mworker[i]))*aworkindex[i]+(mworker[i]/(aworker[i]+mworker[i]))*mworkindex[i]))\n",
    "    else:\n",
    "        workindex.append(0.33*0.25*((mworker[i]/(aworker[i]+mworker[i]))*aworkindex[i]+(aworker[i]/(aworker[i]+mworker[i]))*mworkindex[i]))"
   ]
  },
  {
   "cell_type": "code",
   "execution_count": 59,
   "metadata": {},
   "outputs": [],
   "source": [
    "#7.literate\n",
    "lit = []\n",
    "litindex = []\n",
    "for i in range(11,23):\n",
    "    lit.append((rural['literate'][i]))\n",
    "for i in range(12):\n",
    "    index = (lit[i]-min(lit))/(max(lit)-min(lit))\n",
    "    litindex.append(index)"
   ]
  },
  {
   "cell_type": "code",
   "execution_count": 60,
   "metadata": {},
   "outputs": [],
   "source": [
    "A=[]\n",
    "for i in range(12):\n",
    "    A.append(0.2*(hholdgindex[i]+agriindex[i]+incg10index[i]+workindex[i]+litindex[i]))"
   ]
  },
  {
   "cell_type": "code",
   "execution_count": 61,
   "metadata": {},
   "outputs": [],
   "source": [
    "import pandas as pd\n",
    "exposure = pd.read_excel( r\"D:\\All project data\\2011-rlindex(100to30)-AP.xlsx\")\n",
    "E = 0.25*(exposure['r1index']+exposure['r2index']+exposure['r3index']+exposure['r5index'])"
   ]
  },
  {
   "cell_type": "code",
   "execution_count": 64,
   "metadata": {},
   "outputs": [],
   "source": [
    "E1=[]\n",
    "for i in range(len(E)):\n",
    "    E1.append(E[i])"
   ]
  },
  {
   "cell_type": "code",
   "execution_count": 75,
   "metadata": {},
   "outputs": [],
   "source": [
    "import pandas as pd\n",
    "ex = pd.read_excel(r\"D:\\All project data\\models-2006-2036(100to30)-rlindex-AP.xlsx\")\n",
    "Efut = 0.25*(ex['r1index']+ex['r2index']+ex['r3index']+ex['r5index'])"
   ]
  },
  {
   "cell_type": "code",
   "execution_count": 76,
   "metadata": {},
   "outputs": [],
   "source": [
    "Efut1=[]\n",
    "for i in range(len(Efut)):\n",
    "    Efut1.append(Efut[i])"
   ]
  },
  {
   "cell_type": "code",
   "execution_count": 151,
   "metadata": {},
   "outputs": [
    {
     "data": {
      "text/plain": [
       "11"
      ]
     },
     "execution_count": 151,
     "metadata": {},
     "output_type": "execute_result"
    }
   ],
   "source": [
    "len(Efut1)"
   ]
  },
  {
   "cell_type": "code",
   "execution_count": 77,
   "metadata": {},
   "outputs": [],
   "source": [
    "Vfut1=[]\n",
    "for i in range(len(A)):\n",
    "    Vfut1.append(0.33*(Efut1[i]+S[i]-A[i]))"
   ]
  },
  {
   "cell_type": "code",
   "execution_count": 91,
   "metadata": {},
   "outputs": [
    {
     "data": {
      "text/plain": [
       "0.36112814150563405"
      ]
     },
     "execution_count": 91,
     "metadata": {},
     "output_type": "execute_result"
    }
   ],
   "source": [
    "max(rural1['Vfut1'])"
   ]
  },
  {
   "cell_type": "code",
   "execution_count": 68,
   "metadata": {},
   "outputs": [],
   "source": [
    "V=[]\n",
    "for i in range(len(A)):\n",
    "    V.append(0.33*(E1[i]+S[i]-A[i]))"
   ]
  },
  {
   "cell_type": "code",
   "execution_count": 69,
   "metadata": {},
   "outputs": [
    {
     "data": {
      "text/html": [
       "<div>\n",
       "<style scoped>\n",
       "    .dataframe tbody tr th:only-of-type {\n",
       "        vertical-align: middle;\n",
       "    }\n",
       "\n",
       "    .dataframe tbody tr th {\n",
       "        vertical-align: top;\n",
       "    }\n",
       "\n",
       "    .dataframe thead th {\n",
       "        text-align: right;\n",
       "    }\n",
       "</style>\n",
       "<table border=\"1\" class=\"dataframe\">\n",
       "  <thead>\n",
       "    <tr style=\"text-align: right;\">\n",
       "      <th></th>\n",
       "      <th>Unnamed_ 0</th>\n",
       "      <th>DISTRICT</th>\n",
       "      <th>Tothhold</th>\n",
       "      <th>saljob</th>\n",
       "      <th>psaljob</th>\n",
       "      <th>govtsal</th>\n",
       "      <th>pcgovtsal</th>\n",
       "      <th>publicsal</th>\n",
       "      <th>pcpublicsa</th>\n",
       "      <th>salaryjob</th>\n",
       "      <th>...</th>\n",
       "      <th>noworker</th>\n",
       "      <th>noworkerm</th>\n",
       "      <th>agriworker</th>\n",
       "      <th>infants</th>\n",
       "      <th>tribal</th>\n",
       "      <th>literate</th>\n",
       "      <th>illiterate</th>\n",
       "      <th>margworker</th>\n",
       "      <th>mworker</th>\n",
       "      <th>geometry</th>\n",
       "    </tr>\n",
       "  </thead>\n",
       "  <tbody>\n",
       "    <tr>\n",
       "      <th>11</th>\n",
       "      <td>11</td>\n",
       "      <td>Vizianagaram</td>\n",
       "      <td>478978</td>\n",
       "      <td>30597</td>\n",
       "      <td>6.39%</td>\n",
       "      <td>15053</td>\n",
       "      <td>3.14%</td>\n",
       "      <td>3707</td>\n",
       "      <td>0.77%</td>\n",
       "      <td>11788</td>\n",
       "      <td>...</td>\n",
       "      <td>1744214</td>\n",
       "      <td>750702</td>\n",
       "      <td>1083794</td>\n",
       "      <td>389718</td>\n",
       "      <td>833006</td>\n",
       "      <td>1783676</td>\n",
       "      <td>1923450</td>\n",
       "      <td>370892</td>\n",
       "      <td>1592020</td>\n",
       "      <td>(POLYGON ((714820.1051292028 1995427.466512974...</td>\n",
       "    </tr>\n",
       "    <tr>\n",
       "      <th>12</th>\n",
       "      <td>12</td>\n",
       "      <td>Visakhapatnam</td>\n",
       "      <td>602256</td>\n",
       "      <td>24905</td>\n",
       "      <td>4.14%</td>\n",
       "      <td>12553</td>\n",
       "      <td>2.08%</td>\n",
       "      <td>2364</td>\n",
       "      <td>0.39%</td>\n",
       "      <td>9988</td>\n",
       "      <td>...</td>\n",
       "      <td>2180154</td>\n",
       "      <td>893062</td>\n",
       "      <td>1104606</td>\n",
       "      <td>516534</td>\n",
       "      <td>1463896</td>\n",
       "      <td>2144334</td>\n",
       "      <td>2365000</td>\n",
       "      <td>603152</td>\n",
       "      <td>1726028</td>\n",
       "      <td>(POLYGON ((645619.3541264783 1933499.674927857...</td>\n",
       "    </tr>\n",
       "    <tr>\n",
       "      <th>13</th>\n",
       "      <td>13</td>\n",
       "      <td>EastGodavari</td>\n",
       "      <td>1176639</td>\n",
       "      <td>44838</td>\n",
       "      <td>3.81%</td>\n",
       "      <td>22482</td>\n",
       "      <td>1.91%</td>\n",
       "      <td>1755</td>\n",
       "      <td>0.15%</td>\n",
       "      <td>20626</td>\n",
       "      <td>...</td>\n",
       "      <td>4407738</td>\n",
       "      <td>1489304</td>\n",
       "      <td>2132844</td>\n",
       "      <td>790156</td>\n",
       "      <td>1969364</td>\n",
       "      <td>4659522</td>\n",
       "      <td>3021126</td>\n",
       "      <td>589030</td>\n",
       "      <td>2683880</td>\n",
       "      <td>(POLYGON ((601689.1443742218 1912665.822689813...</td>\n",
       "    </tr>\n",
       "    <tr>\n",
       "      <th>14</th>\n",
       "      <td>14</td>\n",
       "      <td>WestGodavari</td>\n",
       "      <td>881322</td>\n",
       "      <td>34838</td>\n",
       "      <td>3.95%</td>\n",
       "      <td>14577</td>\n",
       "      <td>1.65%</td>\n",
       "      <td>2103</td>\n",
       "      <td>0.24%</td>\n",
       "      <td>18180</td>\n",
       "      <td>...</td>\n",
       "      <td>3285656</td>\n",
       "      <td>1184736</td>\n",
       "      <td>2016540</td>\n",
       "      <td>619272</td>\n",
       "      <td>1620724</td>\n",
       "      <td>4071260</td>\n",
       "      <td>2185118</td>\n",
       "      <td>422232</td>\n",
       "      <td>2548490</td>\n",
       "      <td>(POLYGON ((579483.4776737008 1871750.776360074...</td>\n",
       "    </tr>\n",
       "    <tr>\n",
       "      <th>15</th>\n",
       "      <td>15</td>\n",
       "      <td>Krishna</td>\n",
       "      <td>852522</td>\n",
       "      <td>57860</td>\n",
       "      <td>6.79%</td>\n",
       "      <td>18799</td>\n",
       "      <td>2.21%</td>\n",
       "      <td>6179</td>\n",
       "      <td>0.72%</td>\n",
       "      <td>32908</td>\n",
       "      <td>...</td>\n",
       "      <td>2620106</td>\n",
       "      <td>1063868</td>\n",
       "      <td>1867440</td>\n",
       "      <td>517842</td>\n",
       "      <td>1519072</td>\n",
       "      <td>3315184</td>\n",
       "      <td>2032292</td>\n",
       "      <td>443354</td>\n",
       "      <td>2284016</td>\n",
       "      <td>POLYGON ((498091.1140243359 1754583.321876153,...</td>\n",
       "    </tr>\n",
       "    <tr>\n",
       "      <th>16</th>\n",
       "      <td>16</td>\n",
       "      <td>Guntur</td>\n",
       "      <td>862356</td>\n",
       "      <td>22838</td>\n",
       "      <td>2.65%</td>\n",
       "      <td>9662</td>\n",
       "      <td>1.12%</td>\n",
       "      <td>1507</td>\n",
       "      <td>0.17%</td>\n",
       "      <td>11686</td>\n",
       "      <td>...</td>\n",
       "      <td>2981798</td>\n",
       "      <td>1289624</td>\n",
       "      <td>2251228</td>\n",
       "      <td>665522</td>\n",
       "      <td>1862044</td>\n",
       "      <td>3595868</td>\n",
       "      <td>2874282</td>\n",
       "      <td>433090</td>\n",
       "      <td>3055262</td>\n",
       "      <td>(POLYGON ((478422.1628184493 1757039.292262023...</td>\n",
       "    </tr>\n",
       "    <tr>\n",
       "      <th>17</th>\n",
       "      <td>17</td>\n",
       "      <td>Prakasam</td>\n",
       "      <td>701745</td>\n",
       "      <td>23799</td>\n",
       "      <td>3.39%</td>\n",
       "      <td>13089</td>\n",
       "      <td>1.87%</td>\n",
       "      <td>1223</td>\n",
       "      <td>0.17%</td>\n",
       "      <td>9493</td>\n",
       "      <td>...</td>\n",
       "      <td>2556648</td>\n",
       "      <td>1144558</td>\n",
       "      <td>1716588</td>\n",
       "      <td>622148</td>\n",
       "      <td>1644952</td>\n",
       "      <td>2871826</td>\n",
       "      <td>2593906</td>\n",
       "      <td>424322</td>\n",
       "      <td>2484762</td>\n",
       "      <td>(POLYGON ((293424.5227989896 1670025.978954269...</td>\n",
       "    </tr>\n",
       "    <tr>\n",
       "      <th>18</th>\n",
       "      <td>18</td>\n",
       "      <td>SriPottiSriramuluNellore</td>\n",
       "      <td>590457</td>\n",
       "      <td>34283</td>\n",
       "      <td>5.81%</td>\n",
       "      <td>16235</td>\n",
       "      <td>2.75%</td>\n",
       "      <td>2855</td>\n",
       "      <td>0.48%</td>\n",
       "      <td>15956</td>\n",
       "      <td>...</td>\n",
       "      <td>2163218</td>\n",
       "      <td>861648</td>\n",
       "      <td>1204238</td>\n",
       "      <td>448162</td>\n",
       "      <td>1571484</td>\n",
       "      <td>2395238</td>\n",
       "      <td>1816616</td>\n",
       "      <td>416822</td>\n",
       "      <td>1631814</td>\n",
       "      <td>(POLYGON ((403151.0978834472 1494621.695790089...</td>\n",
       "    </tr>\n",
       "    <tr>\n",
       "      <th>19</th>\n",
       "      <td>19</td>\n",
       "      <td>YSR</td>\n",
       "      <td>516185</td>\n",
       "      <td>11665</td>\n",
       "      <td>2.26%</td>\n",
       "      <td>4085</td>\n",
       "      <td>0.79%</td>\n",
       "      <td>1060</td>\n",
       "      <td>0.21%</td>\n",
       "      <td>6520</td>\n",
       "      <td>...</td>\n",
       "      <td>1884584</td>\n",
       "      <td>806784</td>\n",
       "      <td>998928</td>\n",
       "      <td>442278</td>\n",
       "      <td>827062</td>\n",
       "      <td>2124712</td>\n",
       "      <td>1681962</td>\n",
       "      <td>386168</td>\n",
       "      <td>1535922</td>\n",
       "      <td>(POLYGON ((234809.7640384836 1547987.770538609...</td>\n",
       "    </tr>\n",
       "    <tr>\n",
       "      <th>20</th>\n",
       "      <td>20</td>\n",
       "      <td>Kurnool</td>\n",
       "      <td>637178</td>\n",
       "      <td>16385</td>\n",
       "      <td>2.57%</td>\n",
       "      <td>8128</td>\n",
       "      <td>1.28%</td>\n",
       "      <td>1674</td>\n",
       "      <td>0.26%</td>\n",
       "      <td>6583</td>\n",
       "      <td>...</td>\n",
       "      <td>2644098</td>\n",
       "      <td>1222268</td>\n",
       "      <td>1963366</td>\n",
       "      <td>746342</td>\n",
       "      <td>1267560</td>\n",
       "      <td>2780918</td>\n",
       "      <td>3027436</td>\n",
       "      <td>420044</td>\n",
       "      <td>2744212</td>\n",
       "      <td>(POLYGON ((82330.59655892331 1711150.381355926...</td>\n",
       "    </tr>\n",
       "    <tr>\n",
       "      <th>21</th>\n",
       "      <td>21</td>\n",
       "      <td>Anantapur</td>\n",
       "      <td>686743</td>\n",
       "      <td>15136</td>\n",
       "      <td>2.20%</td>\n",
       "      <td>7631</td>\n",
       "      <td>1.11%</td>\n",
       "      <td>1201</td>\n",
       "      <td>0.17%</td>\n",
       "      <td>6305</td>\n",
       "      <td>...</td>\n",
       "      <td>2678992</td>\n",
       "      <td>1201380</td>\n",
       "      <td>1688122</td>\n",
       "      <td>647768</td>\n",
       "      <td>1204582</td>\n",
       "      <td>3092788</td>\n",
       "      <td>2778086</td>\n",
       "      <td>609118</td>\n",
       "      <td>2582764</td>\n",
       "      <td>(POLYGON ((164914.1624783849 1573287.784899931...</td>\n",
       "    </tr>\n",
       "    <tr>\n",
       "      <th>22</th>\n",
       "      <td>22</td>\n",
       "      <td>Chittoor</td>\n",
       "      <td>798870</td>\n",
       "      <td>80477</td>\n",
       "      <td>10.07%</td>\n",
       "      <td>18847</td>\n",
       "      <td>2.36%</td>\n",
       "      <td>5209</td>\n",
       "      <td>0.65%</td>\n",
       "      <td>56517</td>\n",
       "      <td>...</td>\n",
       "      <td>2904318</td>\n",
       "      <td>1208942</td>\n",
       "      <td>1440762</td>\n",
       "      <td>640388</td>\n",
       "      <td>1552354</td>\n",
       "      <td>3514432</td>\n",
       "      <td>2370924</td>\n",
       "      <td>432914</td>\n",
       "      <td>2548124</td>\n",
       "      <td>(POLYGON ((224070.7798280393 1408910.055436597...</td>\n",
       "    </tr>\n",
       "  </tbody>\n",
       "</table>\n",
       "<p>12 rows × 32 columns</p>\n",
       "</div>"
      ],
      "text/plain": [
       "    Unnamed_ 0                  DISTRICT  Tothhold  saljob psaljob  govtsal  \\\n",
       "11          11              Vizianagaram    478978   30597   6.39%    15053   \n",
       "12          12             Visakhapatnam    602256   24905   4.14%    12553   \n",
       "13          13              EastGodavari   1176639   44838   3.81%    22482   \n",
       "14          14              WestGodavari    881322   34838   3.95%    14577   \n",
       "15          15                   Krishna    852522   57860   6.79%    18799   \n",
       "16          16                    Guntur    862356   22838   2.65%     9662   \n",
       "17          17                  Prakasam    701745   23799   3.39%    13089   \n",
       "18          18  SriPottiSriramuluNellore    590457   34283   5.81%    16235   \n",
       "19          19                       YSR    516185   11665   2.26%     4085   \n",
       "20          20                   Kurnool    637178   16385   2.57%     8128   \n",
       "21          21                 Anantapur    686743   15136   2.20%     7631   \n",
       "22          22                  Chittoor    798870   80477  10.07%    18847   \n",
       "\n",
       "   pcgovtsal  publicsal pcpublicsa  salaryjob  ... noworker noworkerm  \\\n",
       "11     3.14%       3707      0.77%      11788  ...  1744214    750702   \n",
       "12     2.08%       2364      0.39%       9988  ...  2180154    893062   \n",
       "13     1.91%       1755      0.15%      20626  ...  4407738   1489304   \n",
       "14     1.65%       2103      0.24%      18180  ...  3285656   1184736   \n",
       "15     2.21%       6179      0.72%      32908  ...  2620106   1063868   \n",
       "16     1.12%       1507      0.17%      11686  ...  2981798   1289624   \n",
       "17     1.87%       1223      0.17%       9493  ...  2556648   1144558   \n",
       "18     2.75%       2855      0.48%      15956  ...  2163218    861648   \n",
       "19     0.79%       1060      0.21%       6520  ...  1884584    806784   \n",
       "20     1.28%       1674      0.26%       6583  ...  2644098   1222268   \n",
       "21     1.11%       1201      0.17%       6305  ...  2678992   1201380   \n",
       "22     2.36%       5209      0.65%      56517  ...  2904318   1208942   \n",
       "\n",
       "    agriworker  infants   tribal literate illiterate  margworker  mworker  \\\n",
       "11     1083794   389718   833006  1783676    1923450      370892  1592020   \n",
       "12     1104606   516534  1463896  2144334    2365000      603152  1726028   \n",
       "13     2132844   790156  1969364  4659522    3021126      589030  2683880   \n",
       "14     2016540   619272  1620724  4071260    2185118      422232  2548490   \n",
       "15     1867440   517842  1519072  3315184    2032292      443354  2284016   \n",
       "16     2251228   665522  1862044  3595868    2874282      433090  3055262   \n",
       "17     1716588   622148  1644952  2871826    2593906      424322  2484762   \n",
       "18     1204238   448162  1571484  2395238    1816616      416822  1631814   \n",
       "19      998928   442278   827062  2124712    1681962      386168  1535922   \n",
       "20     1963366   746342  1267560  2780918    3027436      420044  2744212   \n",
       "21     1688122   647768  1204582  3092788    2778086      609118  2582764   \n",
       "22     1440762   640388  1552354  3514432    2370924      432914  2548124   \n",
       "\n",
       "                                             geometry  \n",
       "11  (POLYGON ((714820.1051292028 1995427.466512974...  \n",
       "12  (POLYGON ((645619.3541264783 1933499.674927857...  \n",
       "13  (POLYGON ((601689.1443742218 1912665.822689813...  \n",
       "14  (POLYGON ((579483.4776737008 1871750.776360074...  \n",
       "15  POLYGON ((498091.1140243359 1754583.321876153,...  \n",
       "16  (POLYGON ((478422.1628184493 1757039.292262023...  \n",
       "17  (POLYGON ((293424.5227989896 1670025.978954269...  \n",
       "18  (POLYGON ((403151.0978834472 1494621.695790089...  \n",
       "19  (POLYGON ((234809.7640384836 1547987.770538609...  \n",
       "20  (POLYGON ((82330.59655892331 1711150.381355926...  \n",
       "21  (POLYGON ((164914.1624783849 1573287.784899931...  \n",
       "22  (POLYGON ((224070.7798280393 1408910.055436597...  \n",
       "\n",
       "[12 rows x 32 columns]"
      ]
     },
     "execution_count": 69,
     "metadata": {},
     "output_type": "execute_result"
    }
   ],
   "source": [
    "rural1 = rural[11:23]\n",
    "rural1"
   ]
  },
  {
   "cell_type": "code",
   "execution_count": 70,
   "metadata": {},
   "outputs": [
    {
     "name": "stderr",
     "output_type": "stream",
     "text": [
      "C:\\Users\\Pranjali\\Anaconda3\\lib\\site-packages\\ipykernel_launcher.py:1: SettingWithCopyWarning: \n",
      "A value is trying to be set on a copy of a slice from a DataFrame.\n",
      "Try using .loc[row_indexer,col_indexer] = value instead\n",
      "\n",
      "See the caveats in the documentation: http://pandas.pydata.org/pandas-docs/stable/indexing.html#indexing-view-versus-copy\n",
      "  \"\"\"Entry point for launching an IPython kernel.\n",
      "C:\\Users\\Pranjali\\Anaconda3\\lib\\site-packages\\ipykernel_launcher.py:2: SettingWithCopyWarning: \n",
      "A value is trying to be set on a copy of a slice from a DataFrame.\n",
      "Try using .loc[row_indexer,col_indexer] = value instead\n",
      "\n",
      "See the caveats in the documentation: http://pandas.pydata.org/pandas-docs/stable/indexing.html#indexing-view-versus-copy\n",
      "  \n",
      "C:\\Users\\Pranjali\\Anaconda3\\lib\\site-packages\\ipykernel_launcher.py:3: SettingWithCopyWarning: \n",
      "A value is trying to be set on a copy of a slice from a DataFrame.\n",
      "Try using .loc[row_indexer,col_indexer] = value instead\n",
      "\n",
      "See the caveats in the documentation: http://pandas.pydata.org/pandas-docs/stable/indexing.html#indexing-view-versus-copy\n",
      "  This is separate from the ipykernel package so we can avoid doing imports until\n",
      "C:\\Users\\Pranjali\\Anaconda3\\lib\\site-packages\\ipykernel_launcher.py:4: SettingWithCopyWarning: \n",
      "A value is trying to be set on a copy of a slice from a DataFrame.\n",
      "Try using .loc[row_indexer,col_indexer] = value instead\n",
      "\n",
      "See the caveats in the documentation: http://pandas.pydata.org/pandas-docs/stable/indexing.html#indexing-view-versus-copy\n",
      "  after removing the cwd from sys.path.\n",
      "C:\\Users\\Pranjali\\Anaconda3\\lib\\site-packages\\ipykernel_launcher.py:5: SettingWithCopyWarning: \n",
      "A value is trying to be set on a copy of a slice from a DataFrame.\n",
      "Try using .loc[row_indexer,col_indexer] = value instead\n",
      "\n",
      "See the caveats in the documentation: http://pandas.pydata.org/pandas-docs/stable/indexing.html#indexing-view-versus-copy\n",
      "  \"\"\"\n",
      "C:\\Users\\Pranjali\\Anaconda3\\lib\\site-packages\\ipykernel_launcher.py:6: SettingWithCopyWarning: \n",
      "A value is trying to be set on a copy of a slice from a DataFrame.\n",
      "Try using .loc[row_indexer,col_indexer] = value instead\n",
      "\n",
      "See the caveats in the documentation: http://pandas.pydata.org/pandas-docs/stable/indexing.html#indexing-view-versus-copy\n",
      "  \n",
      "C:\\Users\\Pranjali\\Anaconda3\\lib\\site-packages\\ipykernel_launcher.py:7: SettingWithCopyWarning: \n",
      "A value is trying to be set on a copy of a slice from a DataFrame.\n",
      "Try using .loc[row_indexer,col_indexer] = value instead\n",
      "\n",
      "See the caveats in the documentation: http://pandas.pydata.org/pandas-docs/stable/indexing.html#indexing-view-versus-copy\n",
      "  import sys\n",
      "C:\\Users\\Pranjali\\Anaconda3\\lib\\site-packages\\ipykernel_launcher.py:8: SettingWithCopyWarning: \n",
      "A value is trying to be set on a copy of a slice from a DataFrame.\n",
      "Try using .loc[row_indexer,col_indexer] = value instead\n",
      "\n",
      "See the caveats in the documentation: http://pandas.pydata.org/pandas-docs/stable/indexing.html#indexing-view-versus-copy\n",
      "  \n",
      "C:\\Users\\Pranjali\\Anaconda3\\lib\\site-packages\\ipykernel_launcher.py:9: SettingWithCopyWarning: \n",
      "A value is trying to be set on a copy of a slice from a DataFrame.\n",
      "Try using .loc[row_indexer,col_indexer] = value instead\n",
      "\n",
      "See the caveats in the documentation: http://pandas.pydata.org/pandas-docs/stable/indexing.html#indexing-view-versus-copy\n",
      "  if __name__ == '__main__':\n",
      "C:\\Users\\Pranjali\\Anaconda3\\lib\\site-packages\\ipykernel_launcher.py:10: SettingWithCopyWarning: \n",
      "A value is trying to be set on a copy of a slice from a DataFrame.\n",
      "Try using .loc[row_indexer,col_indexer] = value instead\n",
      "\n",
      "See the caveats in the documentation: http://pandas.pydata.org/pandas-docs/stable/indexing.html#indexing-view-versus-copy\n",
      "  # Remove the CWD from sys.path while we load stuff.\n"
     ]
    }
   ],
   "source": [
    "rural1['RL100']=exposure['rl100']\n",
    "rural1['RL30']=exposure['r30']\n",
    "rural1['return1index']=exposure['r1index']\n",
    "rural1['return2index']=exposure['r2index']\n",
    "rural1['return3index']=exposure['r3index']\n",
    "rural1['return5index']=exposure['r5index']\n",
    "rural1['Sindex']= S\n",
    "rural1['Aindex']= A\n",
    "rural1['Eindex']=E1\n",
    "rural1['Vindex']=V"
   ]
  },
  {
   "cell_type": "code",
   "execution_count": 78,
   "metadata": {},
   "outputs": [
    {
     "name": "stderr",
     "output_type": "stream",
     "text": [
      "C:\\Users\\Pranjali\\Anaconda3\\lib\\site-packages\\ipykernel_launcher.py:1: SettingWithCopyWarning: \n",
      "A value is trying to be set on a copy of a slice from a DataFrame.\n",
      "Try using .loc[row_indexer,col_indexer] = value instead\n",
      "\n",
      "See the caveats in the documentation: http://pandas.pydata.org/pandas-docs/stable/indexing.html#indexing-view-versus-copy\n",
      "  \"\"\"Entry point for launching an IPython kernel.\n",
      "C:\\Users\\Pranjali\\Anaconda3\\lib\\site-packages\\ipykernel_launcher.py:2: SettingWithCopyWarning: \n",
      "A value is trying to be set on a copy of a slice from a DataFrame.\n",
      "Try using .loc[row_indexer,col_indexer] = value instead\n",
      "\n",
      "See the caveats in the documentation: http://pandas.pydata.org/pandas-docs/stable/indexing.html#indexing-view-versus-copy\n",
      "  \n"
     ]
    }
   ],
   "source": [
    "rural1['Vfut1']=Vfut1\n",
    "rural1['Efut1']=Efut1"
   ]
  },
  {
   "cell_type": "code",
   "execution_count": null,
   "metadata": {},
   "outputs": [],
   "source": [
    "rural1.to_file(driver = 'ESRI Shapefile', filename= r\"C:\\Users\\Pranjali\\Downloads\\ruralAP2011.shp\")"
   ]
  },
  {
   "cell_type": "code",
   "execution_count": 169,
   "metadata": {},
   "outputs": [],
   "source": [
    "rural2 = rural1[['DISTRICT','Vindex']]\n",
    "data_for_map = rural2.rename(index=str, columns={'DISTRICT':'dist','Vindex':'e'})\n",
    "merged = rural1.set_index('DISTRICT').join(data_for_map.set_index('dist'))"
   ]
  },
  {
   "cell_type": "code",
   "execution_count": 170,
   "metadata": {},
   "outputs": [
    {
     "data": {
      "text/plain": [
       "<matplotlib.axes._subplots.AxesSubplot at 0x22e23c567b8>"
      ]
     },
     "execution_count": 170,
     "metadata": {},
     "output_type": "execute_result"
    },
    {
     "data": {
      "image/png": "[encoded data removed]",
      "text/plain": [
       "<Figure size 720x432 with 1 Axes>"
      ]
     },
     "metadata": {
      "needs_background": "light"
     },
     "output_type": "display_data"
    }
   ],
   "source": [
    "variable = 'Vindex'\n",
    "# set the range for the choropleth\n",
    "\n",
    "# create figure and axes for Matplotlib\n",
    "fig, ax = plt.subplots(1, figsize=(10, 6))\n",
    "merged.plot(column=variable, cmap='Oranges', linewidth=0.8, ax=ax, edgecolor='0.8')"
   ]
  },
  {
   "cell_type": "code",
   "execution_count": 172,
   "metadata": {},
   "outputs": [],
   "source": [
    "ax.axis('off')\n",
    "# add a title\n",
    "ax.set_title('Vulnerability in period 1981-2015', fontdict={'fontsize': '18', 'fontweight' : '3'})\n",
    "# create an annotation for the data source\n",
    "cax = fig.add_axes([0.14, 0.1, 0.7, 0.01])\n",
    "sm4 = plt.cm.ScalarMappable(cmap='Oranges', norm=plt.Normalize(vmin=0, vmax=0.35))\n",
    "# empty array for the data range\n",
    "sm4._A = []\n",
    "# add the colorbar to the figur\n",
    "cbar = fig.colorbar(sm4,cax= cax,orientation ='horizontal')\n",
    "#saving our map as .png file.\n",
    "fig.savefig(r'C:\\Users\\Pranjali\\Downloads\\TL-V-2011(100to30).png', dpi=300)"
   ]
  },
  {
   "cell_type": "code",
   "execution_count": 171,
   "metadata": {},
   "outputs": [
    {
     "data": {
      "text/plain": [
       "0.3023462777679519"
      ]
     },
     "execution_count": 171,
     "metadata": {},
     "output_type": "execute_result"
    }
   ],
   "source": [
    "max(rural1['Vindex'])"
   ]
  }
 ],
 "metadata": {
  "kernelspec": {
   "display_name": "Python 3",
   "language": "python",
   "name": "python3"
  },
  "language_info": {
   "codemirror_mode": {
    "name": "ipython",
    "version": 3
   },
   "file_extension": ".py",
   "mimetype": "text/x-python",
   "name": "python",
   "nbconvert_exporter": "python",
   "pygments_lexer": "ipython3",
   "version": "3.6.5"
  }
 },
 "nbformat": 4,
 "nbformat_minor": 2
}
