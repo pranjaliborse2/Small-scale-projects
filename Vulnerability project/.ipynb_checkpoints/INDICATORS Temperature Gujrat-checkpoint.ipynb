{
 "cells": [
  {
   "cell_type": "code",
   "execution_count": 1,
   "metadata": {},
   "outputs": [],
   "source": [
    "import geopandas as gpd\n",
    "import matplotlib.pyplot as plt\n",
    "import os\n",
    "import pandas as pd\n",
    "os.chdir(r\"C:\\Users\\Pranjali\\Downloads\")\n"
   ]
  },
  {
   "cell_type": "code",
   "execution_count": 2,
   "metadata": {},
   "outputs": [],
   "source": [
    "rural = gpd.read_file(r\"C:\\Users\\Pranjali\\Downloads\\2011_rural\")"
   ]
  },
  {
   "cell_type": "code",
   "execution_count": 13,
   "metadata": {},
   "outputs": [
    {
     "data": {
      "text/plain": [
       "['Unnamed_ 0',\n",
       " 'Unnamed__1',\n",
       " 'Unnamed__2',\n",
       " 'DISTRICT',\n",
       " 'Tothhold',\n",
       " 'saljob',\n",
       " 'pcsaljob',\n",
       " 'govtsal',\n",
       " 'pcgovtsal',\n",
       " 'publicsal',\n",
       " 'pcpublicsa',\n",
       " 'salaryjob',\n",
       " 'pcsalaryjo',\n",
       " 'ninctax',\n",
       " 'hholdgov',\n",
       " 'incl5k',\n",
       " 'pcincl5k',\n",
       " 'incg5k10k',\n",
       " 'pcincg5k10',\n",
       " 'incg10k',\n",
       " 'pcincg10k',\n",
       " 'TP',\n",
       " 'M_hhold',\n",
       " 'F_hhold',\n",
       " 'Tribalgrp',\n",
       " 'PCTrgrp',\n",
       " 'infants',\n",
       " 'tribal_pop',\n",
       " 'tot_worker',\n",
       " 'main_work',\n",
       " 'marg_work',\n",
       " 'non_work',\n",
       " 'non_workm',\n",
       " 'agri_work',\n",
       " 'hosp',\n",
       " 'unirr_area',\n",
       " 'irr_area',\n",
       " 'geometry']"
      ]
     },
     "execution_count": 13,
     "metadata": {},
     "output_type": "execute_result"
    }
   ],
   "source": [
    "list(rural.columns.values)"
   ]
  },
  {
   "cell_type": "code",
   "execution_count": 3,
   "metadata": {},
   "outputs": [],
   "source": [
    "corrected = pd.read_excel( r\"C:\\Users\\Pranjali\\Downloads\\GUJARAT ALL DATA\\corrected2.xlsx\")\n",
    "rural['TP']=corrected['pop']\n",
    "rural['unirr_area']=corrected['unirr']\n",
    "rural['irr_area']=corrected['irr']"
   ]
  },
  {
   "cell_type": "code",
   "execution_count": 4,
   "metadata": {},
   "outputs": [],
   "source": [
    "#SENSITIVITY INDICATORS\n",
    "#1.Total population\n",
    "popln = []\n",
    "pindex = []\n",
    "for i in range(1,26):\n",
    "    popln.append(rural['TP'][i])\n",
    "for i in range(25):\n",
    "    index = (popln[i]-min(popln))/(max(popln)-min(popln))\n",
    "    pindex.append(index)"
   ]
  },
  {
   "cell_type": "code",
   "execution_count": 5,
   "metadata": {},
   "outputs": [],
   "source": [
    "#2.tribal population\n",
    "scst = []\n",
    "scstindex = []\n",
    "for i in range(1,26):\n",
    "    scst.append((rural['tribal_pop'][i]))\n",
    "for i in range(25):\n",
    "    index = (scst[i]-min(scst))/(max(scst)-min(scst))\n",
    "    scstindex.append(index)"
   ]
  },
  {
   "cell_type": "code",
   "execution_count": 6,
   "metadata": {},
   "outputs": [],
   "source": [
    "#3.infants population\n",
    "infants = []\n",
    "infindex = []\n",
    "for i in range(1,26):\n",
    "    infants.append((rural['infants'][i]))\n",
    "for i in range(25):\n",
    "    index = (infants[i]-min(infants))/(max(infants)-min(infants))\n",
    "    infindex.append(index)"
   ]
  },
  {
   "cell_type": "code",
   "execution_count": 7,
   "metadata": {},
   "outputs": [
    {
     "data": {
      "text/plain": [
       "[0.3425082286285567,\n",
       " 0.8043365997341729,\n",
       " 0.19561089083302557,\n",
       " 0.264665012765217,\n",
       " 0.6524885025042015,\n",
       " 0.13384492630932432,\n",
       " 0.26438256230571305,\n",
       " 0.2550529132861464,\n",
       " 0.3353727844271167,\n",
       " 0.2341729771869845,\n",
       " 0.009564190643758774,\n",
       " 0.3709010617733618,\n",
       " 0.18224837953374187,\n",
       " 0.32206799046419843,\n",
       " 0.2395466955443768,\n",
       " 0.3099552607836946,\n",
       " 0.6732255836722691,\n",
       " 0.6356077702743946,\n",
       " 0.7540391513396162,\n",
       " 0.055874814229119635,\n",
       " 0.3263437539005783,\n",
       " -0.04905808970813097,\n",
       " 0.23797042528052267,\n",
       " 0.3590996563126893,\n",
       " 0.544003976338755]"
      ]
     },
     "execution_count": 7,
     "metadata": {},
     "output_type": "execute_result"
    }
   ],
   "source": [
    "TPindex =[]\n",
    "for i in range(25):\n",
    "    TPindex.append(((scst[i]+infants[i])/popln[i])*pindex[i] + (0.5-(scst[i]/popln[i]))*scstindex[i]+ (0.5-(infants[i]/popln[i]))*infindex[i])\n",
    "TPindex   "
   ]
  },
  {
   "cell_type": "code",
   "execution_count": 8,
   "metadata": {},
   "outputs": [],
   "source": [
    "#4.Unirrigated area\n",
    "unirra = []\n",
    "unirrindex = []\n",
    "for i in range(1,26):\n",
    "    unirra.append((rural['unirr_area'][i]))\n",
    "for i in range(25):\n",
    "    index = (unirra[i]-min(unirra))/(max(unirra)-min(unirra))\n",
    "    unirrindex.append(index)"
   ]
  },
  {
   "cell_type": "code",
   "execution_count": 9,
   "metadata": {},
   "outputs": [],
   "source": [
    "#5.Non-workers\n",
    "nwork = []\n",
    "nworkindex = []\n",
    "for i in range(1,26):\n",
    "    nwork.append((rural['non_work'][i]))\n",
    "for i in range(25):\n",
    "    index = (nwork[i]-min(nwork))/(max(nwork)-min(nwork))\n",
    "    nworkindex.append(index)"
   ]
  },
  {
   "cell_type": "code",
   "execution_count": 10,
   "metadata": {},
   "outputs": [],
   "source": [
    "#6.pop.with income<5000\n",
    "incl5 = []\n",
    "incl5index = []\n",
    "for i in range(1,26):\n",
    "    incl5.append((rural['incl5k'][i]))\n",
    "for i in range(25):\n",
    "    index = (incl5[i]-min(incl5))/(max(incl5)-min(incl5))\n",
    "    incl5index.append(index)"
   ]
  },
  {
   "cell_type": "code",
   "execution_count": 11,
   "metadata": {},
   "outputs": [],
   "source": [
    "#Sensitivity index\n",
    "S=[0]\n",
    "for i in range(25):\n",
    "    S.append(0.25*(TPindex[i]+unirrindex[i]+nworkindex[i]+incl5index[i]))"
   ]
  },
  {
   "cell_type": "code",
   "execution_count": 12,
   "metadata": {},
   "outputs": [],
   "source": [
    "#Adaptive capacity indicators\n",
    "#1.households registered with govt.\n",
    "hholdg = []\n",
    "hholdgindex = []\n",
    "for i in range(1,26):\n",
    "    hholdg.append((rural['hholdgov'][i]))\n",
    "for i in range(25):\n",
    "    index = (hholdg[i]-min(hholdg))/(max(hholdg)-min(hholdg))\n",
    "    hholdgindex.append(index)"
   ]
  },
  {
   "cell_type": "code",
   "execution_count": 13,
   "metadata": {},
   "outputs": [],
   "source": [
    "rural['hholdwater']=[0,63.94,47.69,62.66,74.26,47.8,70.13,59.88,49.35,67.23,53.46,48.95,54.71,61.08,56.51,59.74,42.02,21.01,10.88,41.61,27.8,51.85,9.89,88.34,86.71,44.35]"
   ]
  },
  {
   "cell_type": "code",
   "execution_count": 14,
   "metadata": {},
   "outputs": [],
   "source": [
    "#2.households with water\n",
    "hholdw = []\n",
    "hholdwindex = []\n",
    "for i in range(1,26):\n",
    "    hholdw.append((rural['hholdwater'][i]))\n",
    "for i in range(25):\n",
    "    index = (hholdw[i]-min(hholdw))/(max(hholdw)-min(hholdw))\n",
    "    hholdwindex.append(index)"
   ]
  },
  {
   "cell_type": "code",
   "execution_count": 15,
   "metadata": {},
   "outputs": [],
   "source": [
    "hholdindex = []\n",
    "for i in range(25):\n",
    "    hholdindex.append(0.5*(hholdgindex[i]+hholdwindex[i]))"
   ]
  },
  {
   "cell_type": "code",
   "execution_count": 16,
   "metadata": {},
   "outputs": [],
   "source": [
    "#3.Irrigated area\n",
    "irra = []\n",
    "irrindex = []\n",
    "for i in range(1,26):\n",
    "    irra.append((rural['irr_area'][i]))\n",
    "for i in range(25):\n",
    "    index = (irra[i]-min(irra))/(max(irra)-min(irra))\n",
    "    irrindex.append(index)"
   ]
  },
  {
   "cell_type": "code",
   "execution_count": 17,
   "metadata": {},
   "outputs": [],
   "source": [
    "# Agriculture workers\n",
    "agworker =[]\n",
    "agworkindex=[]\n",
    "for i in range(1,26):\n",
    "    agworker.append((rural['agri_work'][i]))\n",
    "for i in range(25):\n",
    "    index = (agworker[i]-min(agworker))/(max(agworker)-min(agworker))\n",
    "    agworkindex.append(index)"
   ]
  },
  {
   "cell_type": "code",
   "execution_count": 18,
   "metadata": {},
   "outputs": [],
   "source": [
    "agriindex=[]\n",
    "for i in range(25):\n",
    "    agriindex.append(0.5*(irrindex[i]+agworkindex[i]))"
   ]
  },
  {
   "cell_type": "code",
   "execution_count": 19,
   "metadata": {},
   "outputs": [],
   "source": [
    "#4.pop.with income>10000\n",
    "incg10 = []\n",
    "incg10index = []\n",
    "for i in range(1,26):\n",
    "    incg10.append((rural['incg10k'][i]))\n",
    "for i in range(25):\n",
    "    index = (incg10[i]-min(incg10))/(max(incg10)-min(incg10))\n",
    "    incg10index.append(index)"
   ]
  },
  {
   "cell_type": "code",
   "execution_count": 20,
   "metadata": {},
   "outputs": [],
   "source": [
    "#5.main workers\n",
    "aworker =[]\n",
    "aworkindex=[]\n",
    "for i in range(1,26):\n",
    "    aworker.append((rural['main_work'][i]))\n",
    "for i in range(25):\n",
    "    index = (aworker[i]-min(aworker))/(max(aworker)-min(aworker))\n",
    "    aworkindex.append(index)"
   ]
  },
  {
   "cell_type": "code",
   "execution_count": 21,
   "metadata": {},
   "outputs": [],
   "source": [
    "#6.marginal workers\n",
    "mworker =[]\n",
    "mworkindex=[]\n",
    "for i in range(1,26):\n",
    "    mworker.append((rural['marg_work'][i]))\n",
    "for i in range(25):\n",
    "    index = (mworker[i]-min(mworker))/(max(mworker)-min(mworker))\n",
    "    mworkindex.append(index)"
   ]
  },
  {
   "cell_type": "code",
   "execution_count": 22,
   "metadata": {},
   "outputs": [],
   "source": [
    "workindex=[]\n",
    "for i in range(25):\n",
    "    if(aworker[i]>=mworker[i]):\n",
    "        workindex.append(0.33*0.25*((aworker[i]/(aworker[i]+mworker[i]))*aworkindex[i]+(mworker[i]/(aworker[i]+mworker[i]))*mworkindex[i]))\n",
    "    else:\n",
    "        workindex.append(0.33*0.25*((mworker[i]/(aworker[i]+mworker[i]))*aworkindex[i]+(aworker[i]/(aworker[i]+mworker[i]))*mworkindex[i]))"
   ]
  },
  {
   "cell_type": "code",
   "execution_count": 23,
   "metadata": {},
   "outputs": [
    {
     "data": {
      "text/plain": [
       "26"
      ]
     },
     "execution_count": 23,
     "metadata": {},
     "output_type": "execute_result"
    }
   ],
   "source": [
    "A=[0]\n",
    "for i in range(25):\n",
    "    A.append(0.25*(hholdindex[i]+agriindex[i]+incg10index[i]+workindex[i]))\n",
    "len(A)"
   ]
  },
  {
   "cell_type": "code",
   "execution_count": 34,
   "metadata": {},
   "outputs": [],
   "source": [
    "import pandas as pd\n",
    "exposure = pd.read_excel( r\"C:\\Users\\Pranjali\\Downloads\\Tindex-45-85.xlsx\")\n",
    "E = exposure['rl_85']\n"
   ]
  },
  {
   "cell_type": "code",
   "execution_count": 35,
   "metadata": {},
   "outputs": [],
   "source": [
    "V=[]\n",
    "for i in range(26):\n",
    "    V.append(0.33*(E[i]-A[i]+S[i]))\n",
    "for i in range(25):\n",
    "    if(V[i]<0):\n",
    "        V[i]=0\n"
   ]
  },
  {
   "cell_type": "code",
   "execution_count": 36,
   "metadata": {},
   "outputs": [],
   "source": [
    "rural['RL_85']=E\n",
    "rural['Sindex']= S\n",
    "rural['Aindex']= A\n",
    "rural['vindex']=V\n",
    "#rural['Eindex2']=E31\n",
    "#rural.to_file(driver = 'ESRI Shapefile', filename= r\"C:\\Users\\Pranjali\\Downloads\\rural2011.shp\")"
   ]
  },
  {
   "cell_type": "code",
   "execution_count": 57,
   "metadata": {},
   "outputs": [],
   "source": [
    "rural.to_file(driver = 'ESRI Shapefile', filename= r\"C:\\Users\\Pranjali\\Downloads\\ruralguj2011.shp\")"
   ]
  },
  {
   "cell_type": "code",
   "execution_count": 37,
   "metadata": {},
   "outputs": [],
   "source": [
    "rural3 = rural[['DISTRICT','vindex']]\n",
    "data_for_map = rural3.rename(index=str, columns={'DISTRICT':'dist','vindex':'V'})\n",
    "merged = rural.set_index('DISTRICT').join(data_for_map.set_index('dist'))"
   ]
  },
  {
   "cell_type": "code",
   "execution_count": 38,
   "metadata": {},
   "outputs": [
    {
     "data": {
      "text/plain": [
       "<matplotlib.axes._subplots.AxesSubplot at 0x1f761eb6278>"
      ]
     },
     "execution_count": 38,
     "metadata": {},
     "output_type": "execute_result"
    },
    {
     "data": {
      "image/png": "[encoded data removed]",
      "text/plain": [
       "<Figure size 720x432 with 1 Axes>"
      ]
     },
     "metadata": {
      "needs_background": "light"
     },
     "output_type": "display_data"
    }
   ],
   "source": [
    "variable = 'vindex'\n",
    "# set the range for the choropleth\n",
    "\n",
    "# create figure and axes for Matplotlib\n",
    "fig, ax = plt.subplots(1, figsize=(10, 6))\n",
    "merged.plot(column=variable, cmap='Oranges', linewidth=0.8, ax=ax, edgecolor='0.8')\n"
   ]
  },
  {
   "cell_type": "code",
   "execution_count": 40,
   "metadata": {},
   "outputs": [],
   "source": [
    "ax.axis('off')\n",
    "# add a title\n",
    "ax.set_title('RL_85-Risk', fontdict={'fontsize': '18', 'fontweight' : '3'})\n",
    "# create an annotation for the data source\n",
    "cax = fig.add_axes([0.14, 0.1, 0.7, 0.01])\n",
    "sm4 = plt.cm.ScalarMappable(cmap='Oranges', norm=plt.Normalize(vmin=0, vmax=0.4))\n",
    "# empty array for the data range\n",
    "sm4._A = []\n",
    "# add the colorbar to the figur\n",
    "cbar = fig.colorbar(sm4,cax= cax,orientation ='horizontal')\n",
    "#saving our map as .png file.\n",
    "fig.savefig(r'C:\\Users\\Pranjali\\Downloads\\RL85-Risk_GUJ.png', dpi=300)"
   ]
  },
  {
   "cell_type": "code",
   "execution_count": 39,
   "metadata": {},
   "outputs": [
    {
     "data": {
      "text/plain": [
       "0.35653604929826194"
      ]
     },
     "execution_count": 39,
     "metadata": {},
     "output_type": "execute_result"
    }
   ],
   "source": [
    "max(V)"
   ]
  }
 ],
 "metadata": {
  "kernelspec": {
   "display_name": "Python 3",
   "language": "python",
   "name": "python3"
  },
  "language_info": {
   "codemirror_mode": {
    "name": "ipython",
    "version": 3
   },
   "file_extension": ".py",
   "mimetype": "text/x-python",
   "name": "python",
   "nbconvert_exporter": "python",
   "pygments_lexer": "ipython3",
   "version": "3.6.5"
  }
 },
 "nbformat": 4,
 "nbformat_minor": 2
}
