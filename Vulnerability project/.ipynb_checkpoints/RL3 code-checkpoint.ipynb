{
 "cells": [
  {
   "cell_type": "code",
   "execution_count": 1,
   "metadata": {},
   "outputs": [],
   "source": [
    "from rpy2.robjects.packages import importr\n",
    "utils = importr(\"utils\")\n",
    "extremes = importr(\"extRemes\")\n",
    "ismev = importr(\"ismev\")\n",
    "eva = importr(\"eva\")\n",
    "gnFit = importr(\"gnFit\")\n",
    "from netCDF4 import Dataset\n",
    "import xarray as xr\n",
    "import matplotlib.pyplot as plt\n",
    "import time\n",
    "import numpy as np\n",
    "import pandas as pd\n",
    "from datetime import datetime\n",
    "from matplotlib.offsetbox import AnchoredText\n",
    "from netCDF4 import num2date, date2num\n",
    "statis = importr('stats')\n",
    "import rpy2.robjects.numpy2ri\n",
    "rpy2.robjects.numpy2ri.activate()\n",
    "import os\n",
    "os.chdir(r\"C:\\Users\\Pranjali\\Downloads\")\n"
   ]
  },
  {
   "cell_type": "code",
   "execution_count": 2,
   "metadata": {},
   "outputs": [],
   "source": [
    "climate = xr.open_dataset(\"Climate.nc\")\n",
    "climate1 = climate.precipitation1"
   ]
  },
  {
   "cell_type": "code",
   "execution_count": 4,
   "metadata": {},
   "outputs": [],
   "source": [
    "ppt3 = climate1.rolling(time=3).sum()\n"
   ]
  },
  {
   "cell_type": "code",
   "execution_count": 5,
   "metadata": {},
   "outputs": [],
   "source": [
    "ppt = ppt3.where(ppt3>=0)\n",
    "maxima3 = ppt.groupby('time.year').max('time')"
   ]
  },
  {
   "cell_type": "code",
   "execution_count": 6,
   "metadata": {},
   "outputs": [
    {
     "name": "stderr",
     "output_type": "stream",
     "text": [
      "C:\\Users\\Pranjali\\Anaconda3\\lib\\site-packages\\ipykernel_launcher.py:10: RuntimeWarning: invalid value encountered in greater\n",
      "  # Remove the CWD from sys.path while we load stuff.\n"
     ]
    }
   ],
   "source": [
    "lon1=[]\n",
    "lat1=[]\n",
    "rlv3=[]\n",
    "paramlist3=[]\n",
    "for i in range(129):\n",
    "    for j in range(135):\n",
    "\n",
    "        maxima31 = maxima3.sel(lat=climate.lat[i],lon=climate.lon[j])\n",
    "        params3 = {}    \n",
    "        if(maxima31.values[1]>0):\n",
    "            #RL2 = []\n",
    "            block_maxima=maxima31.values[~np.isnan(maxima31.values)]\n",
    "            try:\n",
    "                gev_fit =  eva.gevrFit(block_maxima)\n",
    "            except:\n",
    "                pass\n",
    "            MLE_est = list(gev_fit.rx2('par.ests'))\n",
    "\n",
    "            #print(block_maxima)\n",
    "\n",
    "\n",
    "            params3['location'] = MLE_est[0]\n",
    "\n",
    "            params3['scale'] =  MLE_est[1] \n",
    "\n",
    "            params3['shape'] = MLE_est[2]\n",
    "\n",
    "            if MLE_est[1]<0:\n",
    "                MLE_est[1] = 0.01\n",
    "\n",
    "            y = eva.rgevr(10000, 1, loc = MLE_est[0], scale = MLE_est[1], shape = MLE_est[2])\n",
    "\n",
    "            sig_test = statis.ks_test(block_maxima, y)\n",
    "\n",
    "            params3['p_val'] = sig_test.rx2('p.value')[0]\n",
    "            paramlist3.append(params3)\n",
    "\n",
    "    #print(params)\n",
    "  \n",
    "\n",
    "\n",
    "            if params3['p_val']>0.05:\n",
    "\n",
    "                temp = eva.gevrRl(gev_fit, 100, method = \"delta\")\n",
    "\n",
    "                RL3 = temp.rx2('Estimate')[0]\n",
    "#n['RLV2'][i][j] = RL2\n",
    "\n",
    "            else:\n",
    "                params3['p_val'] = np.nan\n",
    "                params3['location'] = np.nan\n",
    "                params3['scale'] = np.nan\n",
    "                params3['shape'] = np.nan\n",
    "            #print(RL2,climate.lat.values[i],climate.lon.values[j])\n",
    "            rlv3.append(RL3)\n",
    "            lat1.append(climate.lat.values[i])\n",
    "            lon1.append(climate.lon.values[j])\n",
    "#n['RLV2'][i][j] = np.nan\n",
    "#print(RL2)\n",
    "        else:\n",
    "            params3['p_val'] = np.nan\n",
    "            params3['location'] = np.nan\n",
    "            params3['scale'] = np.nan\n",
    "            params3['shape'] = np.nan\n",
    "df3 = pd.DataFrame({'rlv3':rlv3,'lat1':lat1,'lon1':lon1})\n"
   ]
  },
  {
   "cell_type": "code",
   "execution_count": 5,
   "metadata": {},
   "outputs": [
    {
     "name": "stdout",
     "output_type": "stream",
     "text": [
      "<xarray.Dataset>\n",
      "Dimensions:   (lat1: 117, lon1: 115)\n",
      "Coordinates:\n",
      "  * lat1      (lat1) float64 8.25 8.5 8.75 9.0 9.25 ... 36.5 36.75 37.0 37.25\n",
      "  * lon1      (lon1) float64 68.0 68.25 68.5 68.75 ... 95.75 96.0 96.25 96.5\n",
      "Data variables:\n",
      "    shape     (lat1, lon1) float64 nan nan nan nan nan ... nan nan nan nan nan\n",
      "    scale     (lat1, lon1) float64 nan nan nan nan nan ... nan nan nan nan nan\n",
      "    p_val     (lat1, lon1) float64 nan nan nan nan nan ... nan nan nan nan nan\n",
      "    location  (lat1, lon1) float64 nan nan nan nan nan ... nan nan nan nan nan\n"
     ]
    }
   ],
   "source": [
    "paramdict = {}\n",
    "for k in set(k for p in paramlist3 for k in p):\n",
    "    paramdict[k] = [p[k] for p in paramlist3 if k in p]\n",
    "latlondict = {'lat1':lat1,'lon1':lon1}\n",
    "paramdict.update(latlondict)\n",
    "dp = pd.DataFrame.from_dict(paramdict)\n",
    "dsp3= dp.set_index(['lat1','lon1']).to_xarray()\n",
    "print(dsp3)"
   ]
  },
  {
   "cell_type": "code",
   "execution_count": 7,
   "metadata": {},
   "outputs": [
    {
     "name": "stdout",
     "output_type": "stream",
     "text": [
      "<xarray.Dataset>\n",
      "Dimensions:  (lat1: 117, lon1: 115)\n",
      "Coordinates:\n",
      "  * lat1     (lat1) float64 8.25 8.5 8.75 9.0 9.25 ... 36.5 36.75 37.0 37.25\n",
      "  * lon1     (lon1) float64 68.0 68.25 68.5 68.75 69.0 ... 95.75 96.0 96.25 96.5\n",
      "Data variables:\n",
      "    rlv3     (lat1, lon1) float64 nan nan nan nan nan ... nan nan nan nan nan\n"
     ]
    },
    {
     "data": {
      "image/png": "[encoded data removed]",
      "text/plain": [
       "<Figure size 432x288 with 2 Axes>"
      ]
     },
     "metadata": {
      "needs_background": "light"
     },
     "output_type": "display_data"
    }
   ],
   "source": [
    "ds3= df3.set_index(['lat1','lon1']).to_xarray()\n",
    "print(ds3)\n",
    "ds3['rlv3'].plot(robust=True)\n",
    "plt.show()"
   ]
  },
  {
   "cell_type": "code",
   "execution_count": 9,
   "metadata": {},
   "outputs": [],
   "source": [
    "ds3.to_netcdf(r\"C:\\Users\\Pranjali\\Downloads\\ds3p.nc\")"
   ]
  }
 ],
 "metadata": {
  "kernelspec": {
   "display_name": "Python 3",
   "language": "python",
   "name": "python3"
  },
  "language_info": {
   "codemirror_mode": {
    "name": "ipython",
    "version": 3
   },
   "file_extension": ".py",
   "mimetype": "text/x-python",
   "name": "python",
   "nbconvert_exporter": "python",
   "pygments_lexer": "ipython3",
   "version": "3.6.5"
  }
 },
 "nbformat": 4,
 "nbformat_minor": 2
}
