{
 "cells": [
  {
   "cell_type": "code",
   "execution_count": 25,
   "metadata": {},
   "outputs": [],
   "source": [
    "from netCDF4 import Dataset\n",
    "import geopandas as gpd\n",
    "import xarray as xr\n",
    "import netCDF4\n",
    "import os\n",
    "os.chdir(r\"C:\\Users\\Pranjali\\Downloads\")\n",
    "#import xray\n",
    "urls= [\"MPI_tmax_meandiff.nc\",\"GFDL_tmax_meandiff.nc\",\"NORESM_tmax_meandiff.nc\",\"BNUESM_tmax_meandiff.nc\"]\n",
    "data = [xr.open_dataset(url) for url in urls]"
   ]
  },
  {
   "cell_type": "code",
   "execution_count": 26,
   "metadata": {},
   "outputs": [],
   "source": [
    "tmax = data[0]['tmax']\n",
    "tmax1 = data[1]['tmax']\n",
    "tmax2 = data[2]['tmax']\n",
    "tmax3 = data[3]['tmax']"
   ]
  },
  {
   "cell_type": "code",
   "execution_count": 8,
   "metadata": {},
   "outputs": [],
   "source": [
    "latd=[24,24.34,23.52,23.42,23.84,23.21,23.03,22.43,22.18,22.17,21.37,21.31,21.36,21.46,22.32,22.45,22.80,22.53,22.00,21.87,21.41,21.26,20.82,21.07,20.59]\n",
    "lond=[70,71.76,72.10,72.37,72.99,72.63,72.40,71.43,70.56,70.07,69.49,70.36,71.15,72.11,73.00,72.45,73.55,74.19,73.16,73.55,73.01,72.99,73.70,73.40,72.93]"
   ]
  },
  {
   "cell_type": "code",
   "execution_count": 29,
   "metadata": {},
   "outputs": [
    {
     "data": {
      "text/plain": [
       "<xarray.Dataset>\n",
       "Dimensions:  (lat: 115, lon: 115)\n",
       "Coordinates:\n",
       "  * lon      (lon) float64 68.62 68.88 69.12 69.38 ... 96.38 96.62 96.88 97.12\n",
       "  * lat      (lat) float64 8.375 8.625 8.875 9.125 ... 36.12 36.38 36.62 36.88\n",
       "    season   object ...\n",
       "Data variables:\n",
       "    tmax     (lat, lon) float64 ..."
      ]
     },
     "execution_count": 29,
     "metadata": {},
     "output_type": "execute_result"
    }
   ],
   "source": []
  },
  {
   "cell_type": "code",
   "execution_count": 27,
   "metadata": {},
   "outputs": [],
   "source": [
    "import numpy as np\n",
    "\n",
    "import geopandas as gpd\n",
    "from shapely.geometry import Point\n",
    "import matplotlib.path as mpltPath\n",
    "from shapely.geometry.polygon import Polygon\n",
    "from shapely.geometry.multipolygon import MultiPolygon\n",
    "\n",
    "cube1= tmax\n",
    "\n",
    "\n",
    "lats=data[0].lat.values\n",
    "lons=data[0].lon.values\n",
    "\n",
    "\n",
    "[lon2d,lat2d]=np.meshgrid(lons,lats)\n",
    "\n",
    "\n",
    "points=[]\n",
    "\n",
    "for latit in range(115):\n",
    "    for lonit in range(115):\n",
    "        point=(lon2d[latit,lonit],lat2d[latit,lonit])\n",
    "        points.append(point)\n",
    "\n",
    "points=np.array(points)\n",
    "\n",
    "fld1=np.squeeze(cube1.data)\n",
    "\n",
    "mask1 =np.zeros_like(fld1)\n",
    "\n",
    "Canada=gpd.read_file(r\"C:\\Users\\Pranjali\\Downloads\\maps-master\\maps-master\\States\\Admin2.shp\")\n",
    "BritishColumbia=Canada[Canada['ST_NM'] == 'Gujarat']\n",
    "\n",
    "def explode_polygon(indata):\n",
    "    indf = indata\n",
    "    outdf = gpd.GeoDataFrame(columns=indf.columns)\n",
    "    for idx, row in indf.iterrows():\n",
    "        if type(row.geometry) == Polygon:\n",
    "\n",
    "            outdf = outdf.append(row,ignore_index=True)\n",
    "        if type(row.geometry) == MultiPolygon:\n",
    "            multdf = gpd.GeoDataFrame(columns=indf.columns)\n",
    "            recs = len(row.geometry)\n",
    "            multdf = multdf.append([row]*recs,ignore_index=True)\n",
    "            for geom in range(recs):\n",
    "                multdf.loc[geom,'geometry'] = row.geometry[geom]\n",
    "            outdf = outdf.append(multdf,ignore_index=True)\n",
    "    return outdf\n",
    "\n",
    "\n",
    "EBritishColumbia=explode_polygon(BritishColumbia)\n",
    "\n",
    "\n",
    "\n",
    "for index,row in EBritishColumbia.iterrows():\n",
    "\n",
    "   \n",
    "    mypolygon=[]\n",
    "    for pt in list(row['geometry'].exterior.coords):\n",
    "      \n",
    "        mypolygon.append(pt)\n",
    "\n",
    "\n",
    "    path=mpltPath.Path(mypolygon)\n",
    "    inside=path.contains_points(points)\n",
    "\n",
    "    inside=np.array(inside).reshape(lon2d.shape)\n",
    "    i=np.where(inside == True)\n",
    "    mask1[i]=1\n",
    "i=np.where(mask1 == 0)\n",
    "fld1[i]=np.nan\n"
   ]
  },
  {
   "cell_type": "code",
   "execution_count": 6,
   "metadata": {},
   "outputs": [
    {
     "data": {
      "text/html": [
       "<div>\n",
       "<style scoped>\n",
       "    .dataframe tbody tr th:only-of-type {\n",
       "        vertical-align: middle;\n",
       "    }\n",
       "\n",
       "    .dataframe tbody tr th {\n",
       "        vertical-align: top;\n",
       "    }\n",
       "\n",
       "    .dataframe thead th {\n",
       "        text-align: right;\n",
       "    }\n",
       "</style>\n",
       "<table border=\"1\" class=\"dataframe\">\n",
       "  <thead>\n",
       "    <tr style=\"text-align: right;\">\n",
       "      <th></th>\n",
       "      <th>ST_NM</th>\n",
       "      <th>geometry</th>\n",
       "    </tr>\n",
       "  </thead>\n",
       "  <tbody>\n",
       "    <tr>\n",
       "      <th>0</th>\n",
       "      <td>Andaman &amp; Nicobar Island</td>\n",
       "      <td>(POLYGON ((93.71975948121514 7.207067636262479...</td>\n",
       "    </tr>\n",
       "    <tr>\n",
       "      <th>1</th>\n",
       "      <td>Arunanchal Pradesh</td>\n",
       "      <td>POLYGON ((96.16260946675357 29.38078474502004,...</td>\n",
       "    </tr>\n",
       "    <tr>\n",
       "      <th>2</th>\n",
       "      <td>Assam</td>\n",
       "      <td>(POLYGON ((89.74322932956994 26.3036203411059,...</td>\n",
       "    </tr>\n",
       "    <tr>\n",
       "      <th>3</th>\n",
       "      <td>Bihar</td>\n",
       "      <td>(POLYGON ((84.50719832504274 24.26323103208654...</td>\n",
       "    </tr>\n",
       "    <tr>\n",
       "      <th>4</th>\n",
       "      <td>Chandigarh</td>\n",
       "      <td>POLYGON ((76.84147287327454 30.75995934035132,...</td>\n",
       "    </tr>\n",
       "    <tr>\n",
       "      <th>5</th>\n",
       "      <td>Chhattisgarh</td>\n",
       "      <td>POLYGON ((83.33531747931829 24.09885072448139,...</td>\n",
       "    </tr>\n",
       "    <tr>\n",
       "      <th>6</th>\n",
       "      <td>Dadara &amp; Nagar Havelli</td>\n",
       "      <td>POLYGON ((73.20656615030765 20.12215606165296,...</td>\n",
       "    </tr>\n",
       "    <tr>\n",
       "      <th>7</th>\n",
       "      <td>Daman &amp; Diu</td>\n",
       "      <td>(POLYGON ((72.89334544683499 20.44538762783679...</td>\n",
       "    </tr>\n",
       "    <tr>\n",
       "      <th>8</th>\n",
       "      <td>Goa</td>\n",
       "      <td>(POLYGON ((74.11917887850251 14.75344075069012...</td>\n",
       "    </tr>\n",
       "    <tr>\n",
       "      <th>9</th>\n",
       "      <td>Gujarat</td>\n",
       "      <td>(POLYGON ((71.70375251096965 20.99958229049037...</td>\n",
       "    </tr>\n",
       "    <tr>\n",
       "      <th>10</th>\n",
       "      <td>Haryana</td>\n",
       "      <td>POLYGON ((76.85065405474091 30.87511930631098,...</td>\n",
       "    </tr>\n",
       "    <tr>\n",
       "      <th>11</th>\n",
       "      <td>Himachal Pradesh</td>\n",
       "      <td>POLYGON ((76.79633817057015 33.25489599215638,...</td>\n",
       "    </tr>\n",
       "    <tr>\n",
       "      <th>12</th>\n",
       "      <td>Jammu &amp; Kashmir</td>\n",
       "      <td>POLYGON ((74.73450654094415 37.02068299862157,...</td>\n",
       "    </tr>\n",
       "    <tr>\n",
       "      <th>13</th>\n",
       "      <td>Jharkhand</td>\n",
       "      <td>POLYGON ((87.60581887124397 25.31511789487502,...</td>\n",
       "    </tr>\n",
       "    <tr>\n",
       "      <th>14</th>\n",
       "      <td>Karnataka</td>\n",
       "      <td>(POLYGON ((74.69694054427077 13.32782336355746...</td>\n",
       "    </tr>\n",
       "    <tr>\n",
       "      <th>15</th>\n",
       "      <td>Kerala</td>\n",
       "      <td>POLYGON ((74.99575065337001 12.79226798218167,...</td>\n",
       "    </tr>\n",
       "    <tr>\n",
       "      <th>16</th>\n",
       "      <td>Lakshadweep</td>\n",
       "      <td>(POLYGON ((74.10130977932289 11.20431471984847...</td>\n",
       "    </tr>\n",
       "    <tr>\n",
       "      <th>17</th>\n",
       "      <td>Madhya Pradesh</td>\n",
       "      <td>(POLYGON ((74.17931649066355 22.39058566869369...</td>\n",
       "    </tr>\n",
       "    <tr>\n",
       "      <th>18</th>\n",
       "      <td>Maharashtra</td>\n",
       "      <td>(POLYGON ((73.4627026845813 16.03710233820237,...</td>\n",
       "    </tr>\n",
       "    <tr>\n",
       "      <th>19</th>\n",
       "      <td>Manipur</td>\n",
       "      <td>POLYGON ((94.57602334300293 25.64221300882338,...</td>\n",
       "    </tr>\n",
       "    <tr>\n",
       "      <th>20</th>\n",
       "      <td>Meghalaya</td>\n",
       "      <td>POLYGON ((91.85632059991582 26.10352981215118,...</td>\n",
       "    </tr>\n",
       "    <tr>\n",
       "      <th>21</th>\n",
       "      <td>Mizoram</td>\n",
       "      <td>POLYGON ((92.80022352819333 24.41629764532013,...</td>\n",
       "    </tr>\n",
       "    <tr>\n",
       "      <th>22</th>\n",
       "      <td>Nagaland</td>\n",
       "      <td>POLYGON ((95.21458249848359 26.93094873049955,...</td>\n",
       "    </tr>\n",
       "    <tr>\n",
       "      <th>23</th>\n",
       "      <td>NCT of Delhi</td>\n",
       "      <td>POLYGON ((77.09361369721444 28.86939745742677,...</td>\n",
       "    </tr>\n",
       "    <tr>\n",
       "      <th>24</th>\n",
       "      <td>Puducherry</td>\n",
       "      <td>(POLYGON ((79.7652757429812 10.99681175375946,...</td>\n",
       "    </tr>\n",
       "    <tr>\n",
       "      <th>25</th>\n",
       "      <td>Punjab</td>\n",
       "      <td>POLYGON ((75.88469360122878 32.48840602821571,...</td>\n",
       "    </tr>\n",
       "    <tr>\n",
       "      <th>26</th>\n",
       "      <td>Rajasthan</td>\n",
       "      <td>POLYGON ((73.8984889428105 29.9789554400416, 7...</td>\n",
       "    </tr>\n",
       "    <tr>\n",
       "      <th>27</th>\n",
       "      <td>Sikkim</td>\n",
       "      <td>POLYGON ((88.65381086647835 28.09882815879257,...</td>\n",
       "    </tr>\n",
       "    <tr>\n",
       "      <th>28</th>\n",
       "      <td>Tamil Nadu</td>\n",
       "      <td>(POLYGON ((78.1918808983848 8.727295397864395,...</td>\n",
       "    </tr>\n",
       "    <tr>\n",
       "      <th>29</th>\n",
       "      <td>Telangana</td>\n",
       "      <td>POLYGON ((81.0561367328126 17.79096593023613, ...</td>\n",
       "    </tr>\n",
       "    <tr>\n",
       "      <th>30</th>\n",
       "      <td>Tripura</td>\n",
       "      <td>POLYGON ((92.22108477104541 24.50130684773291,...</td>\n",
       "    </tr>\n",
       "    <tr>\n",
       "      <th>31</th>\n",
       "      <td>Uttar Pradesh</td>\n",
       "      <td>(POLYGON ((80.44801573343938 24.99630901644798...</td>\n",
       "    </tr>\n",
       "    <tr>\n",
       "      <th>32</th>\n",
       "      <td>Uttarakhand</td>\n",
       "      <td>POLYGON ((79.2104692175804 31.34846262195248, ...</td>\n",
       "    </tr>\n",
       "    <tr>\n",
       "      <th>33</th>\n",
       "      <td>West Bengal</td>\n",
       "      <td>(POLYGON ((88.01860800605471 21.57277899935139...</td>\n",
       "    </tr>\n",
       "    <tr>\n",
       "      <th>34</th>\n",
       "      <td>Odisha</td>\n",
       "      <td>(POLYGON ((86.38936784075332 19.96351229555603...</td>\n",
       "    </tr>\n",
       "    <tr>\n",
       "      <th>35</th>\n",
       "      <td>Andhra Pradesh</td>\n",
       "      <td>(POLYGON ((81.10379790277881 17.82268849181084...</td>\n",
       "    </tr>\n",
       "  </tbody>\n",
       "</table>\n",
       "</div>"
      ],
      "text/plain": [
       "                       ST_NM  \\\n",
       "0   Andaman & Nicobar Island   \n",
       "1         Arunanchal Pradesh   \n",
       "2                      Assam   \n",
       "3                      Bihar   \n",
       "4                 Chandigarh   \n",
       "5               Chhattisgarh   \n",
       "6     Dadara & Nagar Havelli   \n",
       "7                Daman & Diu   \n",
       "8                        Goa   \n",
       "9                    Gujarat   \n",
       "10                   Haryana   \n",
       "11          Himachal Pradesh   \n",
       "12           Jammu & Kashmir   \n",
       "13                 Jharkhand   \n",
       "14                 Karnataka   \n",
       "15                    Kerala   \n",
       "16               Lakshadweep   \n",
       "17            Madhya Pradesh   \n",
       "18               Maharashtra   \n",
       "19                   Manipur   \n",
       "20                 Meghalaya   \n",
       "21                   Mizoram   \n",
       "22                  Nagaland   \n",
       "23              NCT of Delhi   \n",
       "24                Puducherry   \n",
       "25                    Punjab   \n",
       "26                 Rajasthan   \n",
       "27                    Sikkim   \n",
       "28                Tamil Nadu   \n",
       "29                 Telangana   \n",
       "30                   Tripura   \n",
       "31             Uttar Pradesh   \n",
       "32               Uttarakhand   \n",
       "33               West Bengal   \n",
       "34                    Odisha   \n",
       "35            Andhra Pradesh   \n",
       "\n",
       "                                             geometry  \n",
       "0   (POLYGON ((93.71975948121514 7.207067636262479...  \n",
       "1   POLYGON ((96.16260946675357 29.38078474502004,...  \n",
       "2   (POLYGON ((89.74322932956994 26.3036203411059,...  \n",
       "3   (POLYGON ((84.50719832504274 24.26323103208654...  \n",
       "4   POLYGON ((76.84147287327454 30.75995934035132,...  \n",
       "5   POLYGON ((83.33531747931829 24.09885072448139,...  \n",
       "6   POLYGON ((73.20656615030765 20.12215606165296,...  \n",
       "7   (POLYGON ((72.89334544683499 20.44538762783679...  \n",
       "8   (POLYGON ((74.11917887850251 14.75344075069012...  \n",
       "9   (POLYGON ((71.70375251096965 20.99958229049037...  \n",
       "10  POLYGON ((76.85065405474091 30.87511930631098,...  \n",
       "11  POLYGON ((76.79633817057015 33.25489599215638,...  \n",
       "12  POLYGON ((74.73450654094415 37.02068299862157,...  \n",
       "13  POLYGON ((87.60581887124397 25.31511789487502,...  \n",
       "14  (POLYGON ((74.69694054427077 13.32782336355746...  \n",
       "15  POLYGON ((74.99575065337001 12.79226798218167,...  \n",
       "16  (POLYGON ((74.10130977932289 11.20431471984847...  \n",
       "17  (POLYGON ((74.17931649066355 22.39058566869369...  \n",
       "18  (POLYGON ((73.4627026845813 16.03710233820237,...  \n",
       "19  POLYGON ((94.57602334300293 25.64221300882338,...  \n",
       "20  POLYGON ((91.85632059991582 26.10352981215118,...  \n",
       "21  POLYGON ((92.80022352819333 24.41629764532013,...  \n",
       "22  POLYGON ((95.21458249848359 26.93094873049955,...  \n",
       "23  POLYGON ((77.09361369721444 28.86939745742677,...  \n",
       "24  (POLYGON ((79.7652757429812 10.99681175375946,...  \n",
       "25  POLYGON ((75.88469360122878 32.48840602821571,...  \n",
       "26  POLYGON ((73.8984889428105 29.9789554400416, 7...  \n",
       "27  POLYGON ((88.65381086647835 28.09882815879257,...  \n",
       "28  (POLYGON ((78.1918808983848 8.727295397864395,...  \n",
       "29  POLYGON ((81.0561367328126 17.79096593023613, ...  \n",
       "30  POLYGON ((92.22108477104541 24.50130684773291,...  \n",
       "31  (POLYGON ((80.44801573343938 24.99630901644798...  \n",
       "32  POLYGON ((79.2104692175804 31.34846262195248, ...  \n",
       "33  (POLYGON ((88.01860800605471 21.57277899935139...  \n",
       "34  (POLYGON ((86.38936784075332 19.96351229555603...  \n",
       "35  (POLYGON ((81.10379790277881 17.82268849181084...  "
      ]
     },
     "execution_count": 6,
     "metadata": {},
     "output_type": "execute_result"
    }
   ],
   "source": [
    "Canada"
   ]
  },
  {
   "cell_type": "code",
   "execution_count": 28,
   "metadata": {},
   "outputs": [
    {
     "data": {
      "text/plain": [
       "<matplotlib.collections.QuadMesh at 0x1b1f4bdce80>"
      ]
     },
     "execution_count": 28,
     "metadata": {},
     "output_type": "execute_result"
    }
   ],
   "source": [
    "import matplotlib.pyplot as plt\n",
    "masking1 = tmax*fld1\n",
    "masking1.values = masking1.values/fld1\n",
    "masking1.plot(robust=True)"
   ]
  },
  {
   "cell_type": "code",
   "execution_count": 29,
   "metadata": {},
   "outputs": [
    {
     "data": {
      "text/plain": [
       "<matplotlib.collections.QuadMesh at 0x1b1f6138cf8>"
      ]
     },
     "execution_count": 29,
     "metadata": {},
     "output_type": "execute_result"
    },
    {
     "data": {
      "image/png": "[encoded data removed]",
      "text/plain": [
       "<Figure size 432x288 with 2 Axes>"
      ]
     },
     "metadata": {
      "needs_background": "light"
     },
     "output_type": "display_data"
    }
   ],
   "source": [
    "import matplotlib.pyplot as plt\n",
    "masking2 = tmax1*fld1\n",
    "masking2.values = masking2.values/fld1\n",
    "masking2.plot(robust=True)"
   ]
  },
  {
   "cell_type": "code",
   "execution_count": 30,
   "metadata": {},
   "outputs": [
    {
     "data": {
      "text/plain": [
       "<matplotlib.collections.QuadMesh at 0x1b1f61f86a0>"
      ]
     },
     "execution_count": 30,
     "metadata": {},
     "output_type": "execute_result"
    },
    {
     "data": {
      "image/png": "[encoded data removed]",
      "text/plain": [
       "<Figure size 432x288 with 2 Axes>"
      ]
     },
     "metadata": {
      "needs_background": "light"
     },
     "output_type": "display_data"
    }
   ],
   "source": [
    "import matplotlib.pyplot as plt\n",
    "masking3 = tmax2*fld1\n",
    "masking3.values = masking3.values/fld1\n",
    "masking3.plot(robust=True)"
   ]
  },
  {
   "cell_type": "code",
   "execution_count": 31,
   "metadata": {},
   "outputs": [
    {
     "data": {
      "text/plain": [
       "<matplotlib.collections.QuadMesh at 0x1b1f62a64a8>"
      ]
     },
     "execution_count": 31,
     "metadata": {},
     "output_type": "execute_result"
    },
    {
     "data": {
      "image/png": "[encoded data removed]",
      "text/plain": [
       "<Figure size 432x288 with 2 Axes>"
      ]
     },
     "metadata": {
      "needs_background": "light"
     },
     "output_type": "display_data"
    }
   ],
   "source": [
    "import matplotlib.pyplot as plt\n",
    "masking4 = tmax3*fld1\n",
    "masking4.values = masking4.values/fld1\n",
    "masking4.plot(robust=True)\n"
   ]
  },
  {
   "cell_type": "code",
   "execution_count": 32,
   "metadata": {},
   "outputs": [],
   "source": [
    "m1 = masking1.values[~np.isnan(masking1.values)]\n",
    "m2 =masking2.values[~np.isnan(masking2.values)]\n",
    "m3 = masking3.values[~np.isnan(masking3.values)]\n",
    "m4 = masking4.values[~np.isnan(masking4.values)]"
   ]
  },
  {
   "cell_type": "code",
   "execution_count": 40,
   "metadata": {},
   "outputs": [
    {
     "data": {
      "text/plain": [
       "<matplotlib.collections.QuadMesh at 0x1b1f654ed30>"
      ]
     },
     "execution_count": 40,
     "metadata": {},
     "output_type": "execute_result"
    },
    {
     "data": {
      "image/png": "[encoded data removed]",
      "text/plain": [
       "<Figure size 432x288 with 2 Axes>"
      ]
     },
     "metadata": {
      "needs_background": "light"
     },
     "output_type": "display_data"
    }
   ],
   "source": [
    "m = (masking1+masking2+masking3+masking4)/4\n",
    "m.plot()"
   ]
  },
  {
   "cell_type": "code",
   "execution_count": 135,
   "metadata": {},
   "outputs": [],
   "source": [
    "from statistics import median\n",
    "medmpi =median(list(m1))\n",
    "medgfdl =median(list(m2))\n",
    "mednor =median(list(m3))\n",
    "medbnu =median(list(m4))"
   ]
  },
  {
   "cell_type": "code",
   "execution_count": 140,
   "metadata": {},
   "outputs": [
    {
     "data": {
      "text/plain": [
       "1.7991875947951639"
      ]
     },
     "execution_count": 140,
     "metadata": {},
     "output_type": "execute_result"
    }
   ],
   "source": [
    "medbnu"
   ]
  },
  {
   "cell_type": "code",
   "execution_count": 79,
   "metadata": {},
   "outputs": [],
   "source": [
    "ll=[]\n",
    "for i in range(115):\n",
    "    for j in range(115):\n",
    "        if(np.isnan(masking1.values[i][j])== False):\n",
    "            ll.append((data.lat.values[i],data.lon.values[j]))"
   ]
  },
  {
   "cell_type": "code",
   "execution_count": 13,
   "metadata": {},
   "outputs": [],
   "source": [
    "import pandas as pd\n",
    "latlon = pd.read_excel(r\"D:\\All project data\\maharashtra districts lat lon.xlsx\")"
   ]
  },
  {
   "cell_type": "code",
   "execution_count": 33,
   "metadata": {},
   "outputs": [
    {
     "data": {
      "text/plain": [
       "0     29.49\n",
       "1     29.35\n",
       "2     28.01\n",
       "3     28.19\n",
       "4     28.06\n",
       "5     27.34\n",
       "6     27.15\n",
       "7     26.72\n",
       "8     26.30\n",
       "9     25.58\n",
       "10    26.89\n",
       "11    26.55\n",
       "12    27.36\n",
       "13    27.00\n",
       "14    26.18\n",
       "15    26.55\n",
       "16    25.45\n",
       "17    25.22\n",
       "18    24.88\n",
       "19    25.46\n",
       "20    26.27\n",
       "21    26.11\n",
       "22    25.27\n",
       "23    25.21\n",
       "24    25.07\n",
       "25    23.50\n",
       "26    23.30\n",
       "27    24.54\n",
       "28    25.10\n",
       "29    25.05\n",
       "30    24.59\n",
       "31    27.42\n",
       "32    24.03\n",
       "33      NaN\n",
       "34      NaN\n",
       "35      NaN\n",
       "36      NaN\n",
       "37      NaN\n",
       "38      NaN\n",
       "39      NaN\n",
       "40      NaN\n",
       "41      NaN\n",
       "42      NaN\n",
       "43      NaN\n",
       "44      NaN\n",
       "Name: lat2, dtype: float64"
      ]
     },
     "execution_count": 33,
     "metadata": {},
     "output_type": "execute_result"
    }
   ],
   "source": [
    "latlon['lat2'][:45]"
   ]
  },
  {
   "cell_type": "code",
   "execution_count": 34,
   "metadata": {},
   "outputs": [
    {
     "data": {
      "text/plain": [
       "235"
      ]
     },
     "execution_count": 34,
     "metadata": {},
     "output_type": "execute_result"
    }
   ],
   "source": [
    "len(ll)"
   ]
  },
  {
   "cell_type": "code",
   "execution_count": 80,
   "metadata": {},
   "outputs": [],
   "source": [
    "p01=[]\n",
    "for i in range(25):\n",
    "    for j in range(len(ll)):\n",
    "        p= (1/(np.sqrt((latd[i]-ll[j][0])**2+(lond[i]-ll[j][1])**2)))#*m0[j]\n",
    "        p01.append(p)"
   ]
  },
  {
   "cell_type": "code",
   "execution_count": 13,
   "metadata": {},
   "outputs": [
    {
     "data": {
      "text/plain": [
       "5875"
      ]
     },
     "execution_count": 13,
     "metadata": {},
     "output_type": "execute_result"
    }
   ],
   "source": [
    "len(p01)"
   ]
  },
  {
   "cell_type": "code",
   "execution_count": 52,
   "metadata": {},
   "outputs": [],
   "source": [
    "for i in range(len(p01)):\n",
    "    if(p01[i]==np.inf):\n",
    "        print(i)"
   ]
  },
  {
   "cell_type": "code",
   "execution_count": 81,
   "metadata": {},
   "outputs": [],
   "source": [
    "#p01[4169]=0\n",
    "sp301=0\n",
    "pf=[]\n",
    "\n",
    "for i in range(0,5875,235):\n",
    "    for j in range(235):\n",
    "        sp301= sp301+p01[i:i+235][j]\n",
    "    pf.append(sp301)"
   ]
  },
  {
   "cell_type": "code",
   "execution_count": 82,
   "metadata": {},
   "outputs": [],
   "source": [
    "s1=0\n",
    "s2=0\n",
    "s3=0\n",
    "s4=0\n",
    "s5=0\n",
    "s6=0\n",
    "s7=0\n",
    "s8=0\n",
    "s30=[]\n",
    "s100=[]\n",
    "for i in range(0,5875,235):\n",
    "    for j in range(235):\n",
    "            s1=s1+(p01[i:i+235][j]*m1[j])\n",
    "\n",
    "    s30.append(s1)\n"
   ]
  },
  {
   "cell_type": "code",
   "execution_count": 83,
   "metadata": {},
   "outputs": [],
   "source": [
    "rlf30=[]\n",
    "for i in range(len(s30)):\n",
    "    rlf30.append(s30[i]/pf[i])"
   ]
  },
  {
   "cell_type": "code",
   "execution_count": 33,
   "metadata": {},
   "outputs": [],
   "source": [
    "rlf100=[]\n",
    "for i in range(len(s100)):\n",
    "    rlf100.append((s100[i][0]/pf[i],s100[i][1]/pf[i],s100[i][2]/pf[i],s100[i][3]/pf[i]))"
   ]
  },
  {
   "cell_type": "code",
   "execution_count": 84,
   "metadata": {},
   "outputs": [
    {
     "data": {
      "text/plain": [
       "[1.7646325901688151,\n",
       " 1.8747776534008098,\n",
       " 1.9066791987523668,\n",
       " 1.9293229563937437,\n",
       " 1.9474802423305493,\n",
       " 1.9528589043063644,\n",
       " 1.9511515217783728,\n",
       " 1.9320570735871159,\n",
       " 1.9131401737838372,\n",
       " 1.9018634179984588,\n",
       " 1.8971850425379329,\n",
       " 1.8882310052429327,\n",
       " 1.8724983576681327,\n",
       " 1.8682397339075234,\n",
       " 1.8721292511371923,\n",
       " 1.873458164173711,\n",
       " 1.880466171791394,\n",
       " 1.8847592538518974,\n",
       " 1.8858830722788213,\n",
       " 1.8872344396080407,\n",
       " 1.8849944750144763,\n",
       " 1.8823733471520931,\n",
       " 1.8796168779032099,\n",
       " 1.876996406244921,\n",
       " 1.874331298774944]"
      ]
     },
     "execution_count": 84,
     "metadata": {},
     "output_type": "execute_result"
    }
   ],
   "source": [
    "rlf30"
   ]
  },
  {
   "cell_type": "code",
   "execution_count": null,
   "metadata": {},
   "outputs": [],
   "source": []
  },
  {
   "cell_type": "code",
   "execution_count": 35,
   "metadata": {},
   "outputs": [],
   "source": [
    "rlratio1 = []\n",
    "rlratio2 = []\n",
    "rlratio3 = []\n",
    "rlratio5 = []\n",
    "for i in range(len(s100)):\n",
    "    rlratio1.append(rlf100[i][0]/rlf30[i][0])\n",
    "    rlratio2.append(rlf100[i][1]/rlf30[i][1])\n",
    "    rlratio3.append(rlf100[i][2]/rlf30[i][2])\n",
    "    rlratio5.append(rlf100[i][3]/rlf30[i][3])"
   ]
  },
  {
   "cell_type": "code",
   "execution_count": 22,
   "metadata": {},
   "outputs": [],
   "source": [
    "import pandas as pd\n",
    "df2= pd.DataFrame({'r1r':rlratio1,'r2r':rlratio2,'r3r':rlratio3,'r5r':rlratio5})"
   ]
  },
  {
   "cell_type": "code",
   "execution_count": 14,
   "metadata": {},
   "outputs": [],
   "source": [
    "import pandas as pd\n",
    "df =pd.read_excel( r\"D:\\All project data\\GUJ-TDIFF-MPIESM_bcsd.xlsx\")\n",
    "df1 =pd.read_excel( r\"D:\\All project data\\GUJ-TDIFF-GFDLESM_bcsd.xlsx\")\n",
    "df2=pd.read_excel( r\"D:\\All project data\\GUJ-TDIFF-NorESM_bcsd.xlsx\")\n",
    "df3 =pd.read_excel( r\"D:\\All project data\\GUJ-TDIFF-BNUESM_bcsd.xlsx\")"
   ]
  },
  {
   "cell_type": "code",
   "execution_count": 99,
   "metadata": {},
   "outputs": [],
   "source": [
    "import openpyxl\n",
    "df2.to_excel( r\"D:\\models-rlratio.xlsx\")"
   ]
  },
  {
   "cell_type": "code",
   "execution_count": 19,
   "metadata": {},
   "outputs": [],
   "source": [
    "tempavg = (df['tdiff']+df1['tdiff']+df2['tdiff']+df3['tdiff'])/5"
   ]
  },
  {
   "cell_type": "code",
   "execution_count": 20,
   "metadata": {},
   "outputs": [],
   "source": [
    "tdiffind =[]\n",
    "tdiffind1 =[]\n",
    "tdiffind2 =[]\n",
    "tdiffind3 =[]\n",
    "tempavg1 = []\n",
    "for i in range(len(df['tdiff'])):\n",
    "    tdiffind.append((df['tdiff'][i]-min(df['tdiff']))/(max(df['tdiff'])-min(df['tdiff'])))\n",
    "    tdiffind1.append((df1['tdiff'][i]-min(df1['tdiff']))/(max(df1['tdiff'])-min(df1['tdiff'])))\n",
    "    tdiffind2.append((df2['tdiff'][i]-min(df2['tdiff']))/(max(df2['tdiff'])-min(df2['tdiff'])))\n",
    "    tdiffind3.append((df3['tdiff'][i]-min(df3['tdiff']))/(max(df3['tdiff'])-min(df3['tdiff'])))\n",
    "    tempavg1.append((tempavg[i]-min(tempavg))/(max(tempavg)-min(tempavg)))"
   ]
  },
  {
   "cell_type": "code",
   "execution_count": 21,
   "metadata": {},
   "outputs": [],
   "source": [
    "import pandas as pd\n",
    "df5= pd.DataFrame({'tdiffindMPI':tdiffind,'tdiffindGFDL':tdiffind1,'tdiffindNor':tdiffind2,'tdiffindBNU':tdiffind3,'tdiffavg':tempavg1})"
   ]
  },
  {
   "cell_type": "code",
   "execution_count": 7,
   "metadata": {},
   "outputs": [
    {
     "data": {
      "text/plain": [
       "1.952858904306364"
      ]
     },
     "execution_count": 7,
     "metadata": {},
     "output_type": "execute_result"
    }
   ],
   "source": [
    "max(df['tdiff'])"
   ]
  },
  {
   "cell_type": "code",
   "execution_count": 22,
   "metadata": {},
   "outputs": [],
   "source": [
    "import openpyxl\n",
    "df5.to_excel( r\"D:\\All project data\\GUJ-TDIFF_INDEX_ALLmodels.xlsx\")"
   ]
  },
  {
   "cell_type": "code",
   "execution_count": null,
   "metadata": {},
   "outputs": [],
   "source": []
  }
 ],
 "metadata": {
  "kernelspec": {
   "display_name": "Python 3",
   "language": "python",
   "name": "python3"
  },
  "language_info": {
   "codemirror_mode": {
    "name": "ipython",
    "version": 3
   },
   "file_extension": ".py",
   "mimetype": "text/x-python",
   "name": "python",
   "nbconvert_exporter": "python",
   "pygments_lexer": "ipython3",
   "version": "3.6.5"
  }
 },
 "nbformat": 4,
 "nbformat_minor": 2
}
