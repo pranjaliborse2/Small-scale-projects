{
 "cells": [
  {
   "cell_type": "code",
   "execution_count": 1,
   "metadata": {},
   "outputs": [],
   "source": [
    "import geopandas as gpd\n",
    "import matplotlib.pyplot as plt\n",
    "from zipfile import ZipFile\n",
    "import os\n",
    "os.chdir(r\"C:\\Users\\Pranjali\\Downloads\")\n",
    "file = 'india-india-village-level-geospatial-socio-econ-1991-2001-gj-2001-shp.zip'\n",
    "with ZipFile(file, 'r') as zip:\n",
    "    zip.extract('india-village-census-2001-GJ.shp')\n",
    "    gdf = gpd.read_file('india-village-census-2001-GJ.shp')\n",
    "#$SHAPE_RESTORE_SHX=YES fio info india-village-census-2001-GJ.shp"
   ]
  },
  {
   "cell_type": "code",
   "execution_count": 2,
   "metadata": {},
   "outputs": [],
   "source": [
    "district = gdf[['DISTRICT', 'geometry']]\n",
    "districts = gdf.dissolve(by='DISTRICT', aggfunc = 'mean')\n"
   ]
  },
  {
   "cell_type": "code",
   "execution_count": 3,
   "metadata": {},
   "outputs": [],
   "source": [
    "import xarray as xr\n",
    "from netCDF4 import Dataset\n",
    "import os\n",
    "os.chdir(r\"C:\\Users\\Pranjali\\Downloads\")\n",
    "rl2 = xr.open_dataset(\"ds1p.nc\")"
   ]
  },
  {
   "cell_type": "code",
   "execution_count": 4,
   "metadata": {},
   "outputs": [],
   "source": [
    "rl3 = xr.open_dataset(\"ds3p.nc\")\n",
    "rl1 = xr.open_dataset(\"dsp.nc\")\n",
    "rl5 = xr.open_dataset(\"ds5p.nc\")"
   ]
  },
  {
   "cell_type": "code",
   "execution_count": 9,
   "metadata": {},
   "outputs": [],
   "source": [
    "import numpy as np\n",
    "\n",
    "import geopandas as gpd\n",
    "from shapely.geometry import Point\n",
    "import matplotlib.path as mpltPath\n",
    "from shapely.geometry.polygon import Polygon\n",
    "from shapely.geometry.multipolygon import MultiPolygon\n",
    "\n",
    "cube=rl2['rlv2']\n",
    "cube1=rl3['rlv3']\n",
    "cube2=rl5['rlv5']\n",
    "cube3=rl1['rlv1']\n",
    "lats=rl2.lat1.values\n",
    "lons=rl2.lon1.values\n",
    "\n",
    "\n",
    "[lon2d,lat2d]=np.meshgrid(lons,lats)\n",
    "\n",
    "\n",
    "points=[]\n",
    "\n",
    "for latit in range(117):\n",
    "    for lonit in range(115):\n",
    "        point=(lon2d[latit,lonit],lat2d[latit,lonit])\n",
    "        points.append(point)\n",
    "\n",
    "points=np.array(points)\n",
    "\n",
    "fld=np.squeeze(cube.data)\n",
    "fld1=np.squeeze(cube1.data)\n",
    "fld2=np.squeeze(cube2.data)\n",
    "fld3=np.squeeze(cube3.data)\n",
    "mask=np.zeros_like(fld)\n",
    "mask1=np.zeros_like(fld1)\n",
    "mask2=np.zeros_like(fld2)\n",
    "mask3=np.zeros_like(fld3)\n",
    "\n",
    "Canada=gpd.read_file(r\"C:\\Users\\Pranjali\\Downloads\\maps-master\\maps-master\\States\\Admin2.shp\")\n",
    "BritishColumbia=Canada[Canada['ST_NM'] == 'Gujarat']\n",
    "\n",
    "def explode_polygon(indata):\n",
    "    indf = indata\n",
    "    outdf = gpd.GeoDataFrame(columns=indf.columns)\n",
    "    for idx, row in indf.iterrows():\n",
    "        if type(row.geometry) == Polygon:\n",
    "\n",
    "            outdf = outdf.append(row,ignore_index=True)\n",
    "        if type(row.geometry) == MultiPolygon:\n",
    "            multdf = gpd.GeoDataFrame(columns=indf.columns)\n",
    "            recs = len(row.geometry)\n",
    "            multdf = multdf.append([row]*recs,ignore_index=True)\n",
    "            for geom in range(recs):\n",
    "                multdf.loc[geom,'geometry'] = row.geometry[geom]\n",
    "            outdf = outdf.append(multdf,ignore_index=True)\n",
    "    return outdf\n",
    "\n",
    "\n",
    "EBritishColumbia=explode_polygon(BritishColumbia)\n",
    "\n",
    "\n",
    "\n",
    "for index,row in EBritishColumbia.iterrows():\n",
    "\n",
    "   \n",
    "    mypolygon=[]\n",
    "    for pt in list(row['geometry'].exterior.coords):\n",
    "      \n",
    "        mypolygon.append(pt)\n",
    "\n",
    "\n",
    "    path=mpltPath.Path(mypolygon)\n",
    "    inside=path.contains_points(points)\n",
    "\n",
    "    inside=np.array(inside).reshape(lon2d.shape)\n",
    "    i=np.where(inside == True)\n",
    "    mask[i]=1\n",
    "    mask1[i]=1\n",
    "    mask2[i]=1\n",
    "    mask3[i]=1\n",
    "i=np.where(mask == 0)\n",
    "fld[i]=np.nan\n",
    "fld1[i]=np.nan\n",
    "fld2[i]=np.nan\n",
    "fld3[i]=np.nan"
   ]
  },
  {
   "cell_type": "code",
   "execution_count": 217,
   "metadata": {},
   "outputs": [
    {
     "data": {
      "text/html": [
       "<div>\n",
       "<style scoped>\n",
       "    .dataframe tbody tr th:only-of-type {\n",
       "        vertical-align: middle;\n",
       "    }\n",
       "\n",
       "    .dataframe tbody tr th {\n",
       "        vertical-align: top;\n",
       "    }\n",
       "\n",
       "    .dataframe thead th {\n",
       "        text-align: right;\n",
       "    }\n",
       "</style>\n",
       "<table border=\"1\" class=\"dataframe\">\n",
       "  <thead>\n",
       "    <tr style=\"text-align: right;\">\n",
       "      <th></th>\n",
       "      <th>ST_NM</th>\n",
       "      <th>geometry</th>\n",
       "    </tr>\n",
       "  </thead>\n",
       "  <tbody>\n",
       "    <tr>\n",
       "      <th>9</th>\n",
       "      <td>Gujarat</td>\n",
       "      <td>(POLYGON ((71.70375251096965 20.99958229049037...</td>\n",
       "    </tr>\n",
       "  </tbody>\n",
       "</table>\n",
       "</div>"
      ],
      "text/plain": [
       "     ST_NM                                           geometry\n",
       "9  Gujarat  (POLYGON ((71.70375251096965 20.99958229049037..."
      ]
     },
     "execution_count": 217,
     "metadata": {},
     "output_type": "execute_result"
    }
   ],
   "source": [
    "f=fld[~np.isnan(fld)]\n",
    "BritishColumbia"
   ]
  },
  {
   "cell_type": "code",
   "execution_count": 81,
   "metadata": {},
   "outputs": [
    {
     "data": {
      "text/plain": [
       "<matplotlib.collections.QuadMesh at 0x1d50e4c5278>"
      ]
     },
     "execution_count": 81,
     "metadata": {},
     "output_type": "execute_result"
    },
    {
     "data": {
      "image/png": "[encoded data removed]",
      "text/plain": [
       "<Figure size 432x288 with 2 Axes>"
      ]
     },
     "metadata": {
      "needs_background": "light"
     },
     "output_type": "display_data"
    }
   ],
   "source": [
    "masking = rl2['rlv2']*fld\n",
    "masking.values = masking.values/fld\n",
    "masking.plot()\n",
    "#masking.to_netcdf(r\"C:\\Users\\Pranjali\\Downloads\\gujmask.nc\")"
   ]
  },
  {
   "cell_type": "code",
   "execution_count": 11,
   "metadata": {},
   "outputs": [
    {
     "data": {
      "text/plain": [
       "<matplotlib.collections.QuadMesh at 0x1d50cfff128>"
      ]
     },
     "execution_count": 11,
     "metadata": {},
     "output_type": "execute_result"
    },
    {
     "data": {
      "image/png": "[encoded data removed]",
      "text/plain": [
       "<Figure size 432x288 with 2 Axes>"
      ]
     },
     "metadata": {
      "needs_background": "light"
     },
     "output_type": "display_data"
    }
   ],
   "source": [
    "masking1=rl3['rlv3']*fld1\n",
    "masking1.values = masking1.values/fld1\n",
    "masking1.plot()"
   ]
  },
  {
   "cell_type": "code",
   "execution_count": 12,
   "metadata": {},
   "outputs": [
    {
     "data": {
      "text/plain": [
       "<matplotlib.collections.QuadMesh at 0x1d50d033a20>"
      ]
     },
     "execution_count": 12,
     "metadata": {},
     "output_type": "execute_result"
    },
    {
     "data": {
      "image/png": "[encoded data removed]",
      "text/plain": [
       "<Figure size 432x288 with 2 Axes>"
      ]
     },
     "metadata": {
      "needs_background": "light"
     },
     "output_type": "display_data"
    }
   ],
   "source": [
    "masking2=rl5['rlv5']*fld2\n",
    "masking2.values = masking2.values/fld2\n",
    "masking2.plot()"
   ]
  },
  {
   "cell_type": "code",
   "execution_count": 13,
   "metadata": {},
   "outputs": [
    {
     "data": {
      "text/plain": [
       "<matplotlib.collections.QuadMesh at 0x1d50d0628d0>"
      ]
     },
     "execution_count": 13,
     "metadata": {},
     "output_type": "execute_result"
    },
    {
     "data": {
      "image/png": "[encoded data removed]",
      "text/plain": [
       "<Figure size 432x288 with 2 Axes>"
      ]
     },
     "metadata": {
      "needs_background": "light"
     },
     "output_type": "display_data"
    }
   ],
   "source": [
    "masking3=rl1['rlv1']*fld3\n",
    "masking3.values = masking3.values/fld3\n",
    "masking3.plot()"
   ]
  },
  {
   "cell_type": "code",
   "execution_count": 82,
   "metadata": {},
   "outputs": [],
   "source": [
    "m0 = masking.values[~np.isnan(masking.values)]\n",
    "m1 = masking1.values[~np.isnan(masking1.values)]\n",
    "m2 = masking2.values[~np.isnan(masking2.values)]\n",
    "m3 = masking3.values[~np.isnan(masking3.values)]"
   ]
  },
  {
   "cell_type": "code",
   "execution_count": 276,
   "metadata": {},
   "outputs": [
    {
     "data": {
      "text/plain": [
       "262"
      ]
     },
     "execution_count": 276,
     "metadata": {},
     "output_type": "execute_result"
    }
   ],
   "source": [
    "len(m0)"
   ]
  },
  {
   "cell_type": "code",
   "execution_count": 15,
   "metadata": {},
   "outputs": [],
   "source": [
    "ll=[]\n",
    "for i in range(117):\n",
    "    for j in range(115):\n",
    "        if(np.isnan(masking.values[i][j])== False):\n",
    "            ll.append((rl2.lat1.values[i],rl2.lon1.values[j]))   \n"
   ]
  },
  {
   "cell_type": "code",
   "execution_count": 274,
   "metadata": {},
   "outputs": [
    {
     "data": {
      "text/plain": [
       "262"
      ]
     },
     "execution_count": 274,
     "metadata": {},
     "output_type": "execute_result"
    }
   ],
   "source": [
    "len(m1)"
   ]
  },
  {
   "cell_type": "code",
   "execution_count": 32,
   "metadata": {},
   "outputs": [],
   "source": [
    "r = xr.open_dataset(\"gujmask.nc\")\n",
    "l=[]\n",
    "r11 = r['rlv2']\n",
    "for i in range(117):\n",
    "    for j in range(115):\n",
    "        if(np.isnan(r11[i][j])==False):\n",
    "            l.append((r.lat1.values[i],r.lon1.values[j]))"
   ]
  },
  {
   "cell_type": "code",
   "execution_count": 33,
   "metadata": {},
   "outputs": [],
   "source": [
    "lati= []\n",
    "long=[]\n",
    "for i in range(len(l)):\n",
    "    lati.append(l[i][0])\n",
    "    long.append(l[i][1])"
   ]
  },
  {
   "cell_type": "code",
   "execution_count": 267,
   "metadata": {},
   "outputs": [
    {
     "data": {
      "text/plain": [
       "['geometry',\n",
       " 'UID',\n",
       " 'CENSUS_COD',\n",
       " 'STATE',\n",
       " 'SUB_DIST',\n",
       " 'TOWN_VILL',\n",
       " 'WARD',\n",
       " 'EB',\n",
       " 'No_HH',\n",
       " 'TOT_P',\n",
       " 'TOT_M',\n",
       " 'TOT_F',\n",
       " 'P_06',\n",
       " 'M_06',\n",
       " 'F_06',\n",
       " 'P_SC',\n",
       " 'M_SC',\n",
       " 'F_SC',\n",
       " 'P_ST',\n",
       " 'M_ST',\n",
       " 'F_ST',\n",
       " 'P_LIT',\n",
       " 'M_LIT',\n",
       " 'F_LIT',\n",
       " 'P_ILL',\n",
       " 'M_ILL',\n",
       " 'F_ILL',\n",
       " 'TOT_WORK_P',\n",
       " 'TOT_WORK_M',\n",
       " 'TOT_WORK_F',\n",
       " 'MAINWORK_P',\n",
       " 'MAINWORK_M',\n",
       " 'MAINWORK_F',\n",
       " 'MAIN_CL_P',\n",
       " 'MAIN_CL_M',\n",
       " 'MAIN_CL_F',\n",
       " 'MAIN_AL_P',\n",
       " 'MAIN_AL_M',\n",
       " 'MAIN_AL_F',\n",
       " 'MAIN_HH_P',\n",
       " 'MAIN_HH_M',\n",
       " 'MAIN_HH_F',\n",
       " 'MAIN_OT_P',\n",
       " 'MAIN_OT_M',\n",
       " 'MAIN_OT_F',\n",
       " 'MARGWORK_P',\n",
       " 'MARGWORK_M',\n",
       " 'MARGWORK_F',\n",
       " 'MARG_CL_P',\n",
       " 'MARG_CL_M',\n",
       " 'MARG_CL_F',\n",
       " 'MARG_AL_P',\n",
       " 'MARG_AL_M',\n",
       " 'MARG_AL_F',\n",
       " 'MARG_HH_P',\n",
       " 'MARG_HH_M',\n",
       " 'MARG_HH_F',\n",
       " 'MARG_OT_P',\n",
       " 'MARG_OT_M',\n",
       " 'MARG_OT_F',\n",
       " 'NON_WORK_P',\n",
       " 'NON_WORK_M',\n",
       " 'NON_WORK_F',\n",
       " 'ST_CODE',\n",
       " 'DIST_CODE',\n",
       " 'THSIL_CODE',\n",
       " 'BLOCK_CODE',\n",
       " 'V_CT_CODE',\n",
       " 'AREA',\n",
       " 'T_HH',\n",
       " 'T_P',\n",
       " 'T_M',\n",
       " 'T_F',\n",
       " 'SC_P',\n",
       " 'SC_M',\n",
       " 'SC_F',\n",
       " 'ST_P',\n",
       " 'ST_M',\n",
       " 'ST_F',\n",
       " 'EDU_FAC',\n",
       " 'P_SCH',\n",
       " 'RANG_P_SCH',\n",
       " 'M_SCH',\n",
       " 'RANG_M_SCH',\n",
       " 'S_SCH',\n",
       " 'S_S_SCH',\n",
       " 'COLLEGE',\n",
       " 'RANG_COLL',\n",
       " 'IND_SCH',\n",
       " 'TR_SCH',\n",
       " 'ADLT_LT_CT',\n",
       " 'OTH_SCH',\n",
       " 'MEDI_FAC',\n",
       " 'ALL_HOSP',\n",
       " 'RANG_ALL',\n",
       " 'AYU_HOSP',\n",
       " 'UN_HOSP',\n",
       " 'HOM_HOSP',\n",
       " 'ALL_DISP',\n",
       " 'AYU_DISP',\n",
       " 'UN_DISP',\n",
       " 'HOM_DISP',\n",
       " 'MCW_CNTR',\n",
       " 'RANG_MCW',\n",
       " 'M_HOME',\n",
       " 'CWC',\n",
       " 'H_CNTR',\n",
       " 'PH_CNTR',\n",
       " 'RANG_PHC',\n",
       " 'PHS_CNT',\n",
       " 'FWC_CNTR',\n",
       " 'TB_CLN',\n",
       " 'N_HOME',\n",
       " 'RMP',\n",
       " 'SMP',\n",
       " 'CHW',\n",
       " 'OTH_CNTR',\n",
       " 'DRNK_WAT_F',\n",
       " 'RANG_WAT_F',\n",
       " 'TAP',\n",
       " 'WELL',\n",
       " 'TANK',\n",
       " 'TUBEWELL',\n",
       " 'HANDPUMP',\n",
       " 'RIVER',\n",
       " 'CANAL',\n",
       " 'LAKE',\n",
       " 'SPRING',\n",
       " 'OTHER',\n",
       " 'RANG_SS',\n",
       " 'P_T_FAC',\n",
       " 'POST_OFF',\n",
       " 'RANG_PO',\n",
       " 'TELE_OFF',\n",
       " 'POST_TELE',\n",
       " 'PHONE',\n",
       " 'RANG_PHONE',\n",
       " 'COMM_FAC',\n",
       " 'BS_FAC',\n",
       " 'RANG_BS',\n",
       " 'RS_FAC',\n",
       " 'RANG_RS',\n",
       " 'NW_FAC',\n",
       " 'RANG_NW',\n",
       " 'BANK_FAC',\n",
       " 'COMM_BANK',\n",
       " 'RANG_COMM',\n",
       " 'COOP_BANK',\n",
       " 'RANG_COOP',\n",
       " 'CRSOC_FAC',\n",
       " 'AC_SOC',\n",
       " 'RANG_ACS',\n",
       " 'NAC_SOC',\n",
       " 'RANG_NAC',\n",
       " 'OTHER_SOC',\n",
       " 'RANG_OTH',\n",
       " 'RC_FAC',\n",
       " 'C_V_HALL',\n",
       " 'RANG_CV',\n",
       " 'SP_CL_FAC',\n",
       " 'RANG_SPCL',\n",
       " 'ST_AU_FAC',\n",
       " 'RANG_STAU',\n",
       " 'APP_PR',\n",
       " 'APP_MR',\n",
       " 'APP_FP',\n",
       " 'APP_NAVRIV',\n",
       " 'APP_NAVCAN',\n",
       " 'APP_NW',\n",
       " 'DIST_TOWN',\n",
       " 'POWER_SUPL',\n",
       " 'POWER_DOM',\n",
       " 'POWER_AGR',\n",
       " 'POWER_OTH',\n",
       " 'POWER_ALL',\n",
       " 'PAP_MAG',\n",
       " 'A_INCEXP',\n",
       " 'TOT_INC',\n",
       " 'TOT_EXP',\n",
       " 'LAND_FORES',\n",
       " 'CANAL_GOVT',\n",
       " 'CANAL_PVT',\n",
       " 'WELL_WO_EL',\n",
       " 'WELL_W_EL',\n",
       " 'TW_WO_EL',\n",
       " 'TW_W_EL',\n",
       " 'TANK_IRR',\n",
       " 'RIVER_IRR',\n",
       " 'LAKE_IRR',\n",
       " 'W_FALL',\n",
       " 'OTH_IRR',\n",
       " 'TOT_IRR',\n",
       " 'UN_IRR',\n",
       " 'CULT_WASTE',\n",
       " 'AREA_NA_CU']"
      ]
     },
     "execution_count": 267,
     "metadata": {},
     "output_type": "execute_result"
    }
   ],
   "source": [
    "list(districts.columns.values)"
   ]
  },
  {
   "cell_type": "code",
   "execution_count": 66,
   "metadata": {},
   "outputs": [],
   "source": [
    "#Sensitivity indicators"
   ]
  },
  {
   "cell_type": "code",
   "execution_count": 4,
   "metadata": {},
   "outputs": [],
   "source": [
    "#Total population\n",
    "popln = []\n",
    "pindex = []\n",
    "for i in range(1,26):\n",
    "    popln.append(districts['TOT_P'][i])\n",
    "for i in range(25):\n",
    "    index = (popln[i]-min(popln))/(max(popln)-min(popln))\n",
    "    pindex.append(index)"
   ]
  },
  {
   "cell_type": "code",
   "execution_count": 5,
   "metadata": {},
   "outputs": [],
   "source": [
    "#tribal population\n",
    "scst = []\n",
    "scstindex = []\n",
    "for i in range(1,26):\n",
    "    scst.append((districts['SC_P'][i]+districts['ST_P'][i]))\n",
    "for i in range(25):\n",
    "    index = (scst[i]-min(scst))/(max(scst)-min(scst))\n",
    "    scstindex.append(index)"
   ]
  },
  {
   "cell_type": "code",
   "execution_count": 6,
   "metadata": {},
   "outputs": [],
   "source": [
    "#tribal female\n",
    "scstf = []\n",
    "scstfindex = []\n",
    "for i in range(1,26):\n",
    "    scstf.append((districts['SC_F'][i]+districts['ST_F'][i]))\n",
    "for i in range(25):\n",
    "    index = (scstf[i]-min(scstf))/(max(scstf)-min(scstf))\n",
    "    scstfindex.append(index)\n"
   ]
  },
  {
   "cell_type": "code",
   "execution_count": 7,
   "metadata": {},
   "outputs": [],
   "source": [
    "#infants population\n",
    "infants = []\n",
    "infindex = []\n",
    "for i in range(1,26):\n",
    "    infants.append((districts['P_06'][i]))\n",
    "for i in range(25):\n",
    "    index = (infants[i]-min(infants))/(max(infants)-min(infants))\n",
    "    infindex.append(index)\n"
   ]
  },
  {
   "cell_type": "code",
   "execution_count": 8,
   "metadata": {},
   "outputs": [],
   "source": [
    "#Irrigated area\n",
    "irra = []\n",
    "irrindex = []\n",
    "for i in range(1,26):\n",
    "    irra.append((districts['TOT_IRR'][i]))\n",
    "for i in range(25):\n",
    "    index = (irra[i]-min(irra))/(max(irra)-min(irra))\n",
    "    irrindex.append(index)"
   ]
  },
  {
   "cell_type": "code",
   "execution_count": 9,
   "metadata": {},
   "outputs": [],
   "source": [
    "#Unirrigated area\n",
    "unirra = []\n",
    "unirrindex = []\n",
    "for i in range(1,26):\n",
    "    unirra.append((districts['UN_IRR'][i]))\n",
    "for i in range(25):\n",
    "    index = (unirra[i]-min(unirra))/(max(unirra)-min(unirra))\n",
    "    unirrindex.append(index)"
   ]
  },
  {
   "cell_type": "code",
   "execution_count": 10,
   "metadata": {},
   "outputs": [],
   "source": [
    "#distance from town\n",
    "distance = []\n",
    "distindex = []\n",
    "for i in range(1,26):\n",
    "    distance.append((districts['DIST_TOWN'][i]))\n",
    "for i in range(25):\n",
    "    index = (distance[i]-min(distance))/(max(distance)-min(distance))\n",
    "    distindex.append(index)"
   ]
  },
  {
   "cell_type": "code",
   "execution_count": null,
   "metadata": {},
   "outputs": [],
   "source": [
    "#Adaptive capacity indicators"
   ]
  },
  {
   "cell_type": "code",
   "execution_count": 11,
   "metadata": {},
   "outputs": [],
   "source": [
    "#Electricity used in agriculture\n",
    "power = []\n",
    "powerindex = []\n",
    "for i in range(1,26):\n",
    "    power.append((districts['POWER_AGR'][i]))\n",
    "for i in range(25):\n",
    "    index = (power[i]-min(power))/(max(power)-min(power))\n",
    "    powerindex.append(index)"
   ]
  },
  {
   "cell_type": "code",
   "execution_count": 12,
   "metadata": {},
   "outputs": [],
   "source": [
    "#income\n",
    "inc =[]\n",
    "incindex=[]\n",
    "for i in range(1,26):\n",
    "    inc.append((districts['TOT_INC'][i]))\n",
    "for i in range(25):\n",
    "    index = (inc[i]-min(inc))/(max(inc)-min(inc))\n",
    "    incindex.append(index)"
   ]
  },
  {
   "cell_type": "code",
   "execution_count": 13,
   "metadata": {},
   "outputs": [],
   "source": [
    "#medical facilities(no.of hospitals and dispensaries)\n",
    "hosp =[]\n",
    "hospindex=[]\n",
    "for i in range(1,26):\n",
    "    hosp.append((districts['ALL_HOSP'][i]+districts['AYU_HOSP'][i]+districts['UN_HOSP'][i]+districts['HOM_HOSP'][i]+districts['ALL_DISP'][i]+districts['AYU_DISP'][i]+districts['UN_DISP'][i]+districts['HOM_DISP'][i]))\n",
    "for i in range(25):\n",
    "    index = (hosp[i]-min(hosp))/(max(hosp)-min(hosp))\n",
    "    hospindex.append(index)"
   ]
  },
  {
   "cell_type": "code",
   "execution_count": 14,
   "metadata": {},
   "outputs": [],
   "source": [
    "#no. of private doctors\n",
    "pdr =[]\n",
    "pdrindex=[]\n",
    "for i in range(1,26):\n",
    "    pdr.append((districts['RMP'][i]))\n",
    "for i in range(25):\n",
    "    index = (pdr[i]-min(pdr))/(max(pdr)-min(pdr))\n",
    "    pdrindex.append(index)"
   ]
  },
  {
   "cell_type": "code",
   "execution_count": 15,
   "metadata": {},
   "outputs": [],
   "source": [
    "#no. of subsided dr.\n",
    "sdr =[]\n",
    "sdrindex=[]\n",
    "for i in range(1,26):\n",
    "    sdr.append((districts['SMP'][i]))\n",
    "for i in range(25):\n",
    "    index = (sdr[i]-min(sdr))/(max(sdr)-min(sdr))\n",
    "    sdrindex.append(index)"
   ]
  },
  {
   "cell_type": "code",
   "execution_count": 16,
   "metadata": {},
   "outputs": [],
   "source": [
    "#main workers\n",
    "aworker =[]\n",
    "aworkindex=[]\n",
    "for i in range(1,26):\n",
    "    aworker.append((districts['MAIN_AL_P'][i]))\n",
    "for i in range(25):\n",
    "    index = (aworker[i]-min(aworker))/(max(aworker)-min(aworker))\n",
    "    aworkindex.append(index)"
   ]
  },
  {
   "cell_type": "code",
   "execution_count": 17,
   "metadata": {},
   "outputs": [],
   "source": [
    "#marginal workers\n",
    "mworker =[]\n",
    "mworkindex=[]\n",
    "for i in range(1,26):\n",
    "    mworker.append((districts['MARG_AL_P'][i]))\n",
    "for i in range(25):\n",
    "    index = (mworker[i]-min(mworker))/(max(mworker)-min(mworker))\n",
    "    mworkindex.append(index)"
   ]
  },
  {
   "cell_type": "code",
   "execution_count": 18,
   "metadata": {},
   "outputs": [],
   "source": [
    "latd=[24,24.34,23.52,23.42,23.84,23.215,23.03,22.43,22.18,22.27,21.37,21.31,21.36,21.46,22.32,22.45,22.80,22.53,22.00,21.87,21.41,21.26,20.82,21.07,20.5992]\n",
    "lond=[70,71.76,72.1,72.37,72.99,72.63,72.4,71.43,70.56,70.07,69.49,70.36,71.15,72.11,73,72.45,73.55,74.19,73.16,73.55,73.01,72.99,73.70,73.40,72.9342]"
   ]
  },
  {
   "cell_type": "code",
   "execution_count": 37,
   "metadata": {},
   "outputs": [
    {
     "data": {
      "text/plain": [
       "25"
      ]
     },
     "execution_count": 37,
     "metadata": {},
     "output_type": "execute_result"
    }
   ],
   "source": [
    "len(lond)"
   ]
  },
  {
   "cell_type": "code",
   "execution_count": 53,
   "metadata": {},
   "outputs": [
    {
     "name": "stderr",
     "output_type": "stream",
     "text": [
      "C:\\Users\\Pranjali\\Anaconda3\\lib\\site-packages\\ipykernel_launcher.py:8: RuntimeWarning: divide by zero encountered in double_scalars\n",
      "  \n",
      "C:\\Users\\Pranjali\\Anaconda3\\lib\\site-packages\\ipykernel_launcher.py:9: RuntimeWarning: divide by zero encountered in double_scalars\n",
      "  if __name__ == '__main__':\n",
      "C:\\Users\\Pranjali\\Anaconda3\\lib\\site-packages\\ipykernel_launcher.py:10: RuntimeWarning: divide by zero encountered in double_scalars\n",
      "  # Remove the CWD from sys.path while we load stuff.\n",
      "C:\\Users\\Pranjali\\Anaconda3\\lib\\site-packages\\ipykernel_launcher.py:11: RuntimeWarning: divide by zero encountered in double_scalars\n",
      "  # This is added back by InteractiveShellApp.init_path()\n"
     ]
    }
   ],
   "source": [
    "p01=[]\n",
    "p11=[]\n",
    "p22=[]\n",
    "p33=[]\n",
    "\n",
    "for i in range(len(latd)):\n",
    "    for j in range(len(ll)):\n",
    "        p= (1/(np.sqrt((latd[i]-ll[j][0])**2+(lond[i]-ll[j][1])**2)))#*m0[j]\n",
    "        p1= (1/(np.sqrt((latd[i]-ll[j][0])**2+(lond[i]-ll[j][1])**2)))#*m1[j]\n",
    "        p2= (1/(np.sqrt((latd[i]-ll[j][0])**2+(lond[i]-ll[j][1])**2)))#*m2[j]\n",
    "        p3=(1/(np.sqrt((latd[i]-ll[j][0])**2+(lond[i]-ll[j][1])**2)))#*m3[j]\n",
    "        \n",
    "        p01.append(p)\n",
    "        p11.append(p1)\n",
    "        p22.append(p2)\n",
    "        p33.append(p3)"
   ]
  },
  {
   "cell_type": "code",
   "execution_count": 54,
   "metadata": {},
   "outputs": [],
   "source": [
    "p01[230]=0\n",
    "p22[230]=0\n",
    "p33[230]=0\n",
    "p11[230]=0\n",
    "sp=0\n",
    "sp1=0\n",
    "sp2=0\n",
    "sp3=0\n",
    "pf=[]\n",
    "\n",
    "for i in range(0,6550,262):\n",
    "    for j in range(262):\n",
    "        sp= sp+p01[i:i+262][j]\n",
    "        sp1= sp1+p11[i:i+262][j]\n",
    "        sp2= sp2+p22[i:i+262][j]\n",
    "        sp3= sp3+p33[i:i+262][j]\n",
    "    pf.append((sp,sp1,sp2,sp3))"
   ]
  },
  {
   "cell_type": "code",
   "execution_count": 55,
   "metadata": {},
   "outputs": [],
   "source": [
    "s=0\n",
    "s1=0\n",
    "s2=0\n",
    "s3=0\n",
    "s01=[]\n",
    "\n",
    "for i in range(0,6550,262):\n",
    "    for j in range(262):\n",
    "            s = s+(p01[i:i+262][j]*m0[j])\n",
    "            s1=s1+(p11[i:i+262][j]*m1[j])\n",
    "            s2=s2+(p22[i:i+262][j]*m2[j])\n",
    "            s3=s3+(p33[i:i+262][j]*m3[j])\n",
    "    s01.append((s,s1,s2,s3))"
   ]
  },
  {
   "cell_type": "code",
   "execution_count": 84,
   "metadata": {},
   "outputs": [],
   "source": [
    "rlf=[]\n",
    "for i in range(len(s01)):\n",
    "    rlf.append((s01[i][0]/pf[i][0],s01[i][1]/pf[i][1],s01[i][2]/pf[i][2],s01[i][3]/pf[i][3]))"
   ]
  },
  {
   "cell_type": "code",
   "execution_count": 57,
   "metadata": {},
   "outputs": [],
   "source": [
    "rlf2=[]\n",
    "rlf3=[]\n",
    "rlf5=[]\n",
    "rlf1=[]\n",
    "rind=[]\n",
    "for i in range(25):\n",
    "    rlf2.append(rlf[i][0])\n",
    "    rlf3.append(rlf[i][1])\n",
    "    rlf5.append(rlf[i][2])\n",
    "    rlf1.append(rlf[i][3])\n",
    "for i in range(25):\n",
    "    rind.append(((rlf1[i]-min(rlf1))/(max(rlf1)-min(rlf1)),(rlf2[i]-min(rlf2))/(max(rlf2)-min(rlf2)),(rlf3[i]-min(rlf3))/(max(rlf3)-min(rlf3)),(rlf5[i]-min(rlf5))/(max(rlf5)-min(rlf5))))\n",
    "    "
   ]
  },
  {
   "cell_type": "code",
   "execution_count": null,
   "metadata": {},
   "outputs": [],
   "source": []
  },
  {
   "cell_type": "code",
   "execution_count": null,
   "metadata": {},
   "outputs": [],
   "source": [
    "#Vulnerability = Exposure +sensitivity - adaptive capacity\n",
    "#Exposure = 0.33(0.25 r1index+ 0.25 r2index+ 0.25 r3index+ 0.25 r5index)\n",
    "#sensitivity = 0.33(0.33((t+i/T)*total p +(0.5 - t/T)*tribal +(0.5-i/T)*infants)+ 0.33* unirrigation + 0.33*dist from town)\n",
    "#Adaptive capacity = 0.33(0.25(0.5*power+0.5*irr)+0.25 inc+ 0.25*(0.5*no. of hosp+ 0.5((s/p+s)*s+(p/p+s)*p)+0.25workers)"
   ]
  },
  {
   "cell_type": "code",
   "execution_count": 26,
   "metadata": {},
   "outputs": [],
   "source": [
    "import pandas as pd\n",
    "ex = pd.read_excel( r\"D:\\rlindex-1970-2001-pb.xlsx\")"
   ]
  },
  {
   "cell_type": "code",
   "execution_count": 20,
   "metadata": {},
   "outputs": [],
   "source": [
    "#exposure\n",
    "e=[]\n",
    "for i in range(25):\n",
    "    e.append(0.33*(0.25*ex['r1index'][i] + 0.25*ex['r2index'][i] + 0.25*ex['r3index'][i] + 0.25*ex['r5index'][i]))\n",
    "e1=[0]\n",
    "for i in range(25):\n",
    "    e1.append(e[i])"
   ]
  },
  {
   "cell_type": "code",
   "execution_count": 20,
   "metadata": {},
   "outputs": [
    {
     "name": "stdout",
     "output_type": "stream",
     "text": [
      "[0, 0.0, 0.12830163610779846, 0.13673480911022085, 0.1523434537106496, 0.1965248468588622, 0.19322202515084155, 0.18208430420780455, 0.17019049850003326, 0.15250537634796937, 0.14849853826522472, 0.15087781852230417, 0.16110527853307405, 0.16835048269954428, 0.1764031860958933, 0.19624700427352845, 0.1996748352653946, 0.21511637128129293, 0.2206032612727312, 0.23621396023644423, 0.24419316383223547, 0.26043715877472623, 0.2921339323315317, 0.3052146320568934, 0.31847188558495687, 0.33]\n"
     ]
    }
   ],
   "source": [
    "print(e1)"
   ]
  },
  {
   "cell_type": "code",
   "execution_count": 21,
   "metadata": {},
   "outputs": [
    {
     "ename": "NameError",
     "evalue": "name 'rind' is not defined",
     "output_type": "error",
     "traceback": [
      "\u001b[1;31m---------------------------------------------------------------------------\u001b[0m",
      "\u001b[1;31mNameError\u001b[0m                                 Traceback (most recent call last)",
      "\u001b[1;32m<ipython-input-21-a70dbca32cdc>\u001b[0m in \u001b[0;36m<module>\u001b[1;34m\u001b[0m\n\u001b[0;32m      1\u001b[0m \u001b[0mE1\u001b[0m\u001b[1;33m=\u001b[0m\u001b[1;33m[\u001b[0m\u001b[1;33m]\u001b[0m\u001b[1;33m\u001b[0m\u001b[0m\n\u001b[0;32m      2\u001b[0m \u001b[1;32mfor\u001b[0m \u001b[0mi\u001b[0m \u001b[1;32min\u001b[0m \u001b[0mrange\u001b[0m\u001b[1;33m(\u001b[0m\u001b[1;36m25\u001b[0m\u001b[1;33m)\u001b[0m\u001b[1;33m:\u001b[0m\u001b[1;33m\u001b[0m\u001b[0m\n\u001b[1;32m----> 3\u001b[1;33m     \u001b[0mE1\u001b[0m\u001b[1;33m.\u001b[0m\u001b[0mappend\u001b[0m\u001b[1;33m(\u001b[0m\u001b[1;36m0.33\u001b[0m\u001b[1;33m*\u001b[0m\u001b[1;33m(\u001b[0m\u001b[1;36m0.25\u001b[0m\u001b[1;33m*\u001b[0m\u001b[0mrind\u001b[0m\u001b[1;33m[\u001b[0m\u001b[0mi\u001b[0m\u001b[1;33m]\u001b[0m\u001b[1;33m[\u001b[0m\u001b[1;36m0\u001b[0m\u001b[1;33m]\u001b[0m \u001b[1;33m+\u001b[0m \u001b[1;36m0.25\u001b[0m\u001b[1;33m*\u001b[0m\u001b[0mrind\u001b[0m\u001b[1;33m[\u001b[0m\u001b[0mi\u001b[0m\u001b[1;33m]\u001b[0m\u001b[1;33m[\u001b[0m\u001b[1;36m1\u001b[0m\u001b[1;33m]\u001b[0m \u001b[1;33m+\u001b[0m \u001b[1;36m0.25\u001b[0m\u001b[1;33m*\u001b[0m\u001b[0mrind\u001b[0m\u001b[1;33m[\u001b[0m\u001b[0mi\u001b[0m\u001b[1;33m]\u001b[0m\u001b[1;33m[\u001b[0m\u001b[1;36m2\u001b[0m\u001b[1;33m]\u001b[0m \u001b[1;33m+\u001b[0m \u001b[1;36m0.25\u001b[0m\u001b[1;33m*\u001b[0m\u001b[0mrind\u001b[0m\u001b[1;33m[\u001b[0m\u001b[0mi\u001b[0m\u001b[1;33m]\u001b[0m\u001b[1;33m[\u001b[0m\u001b[1;36m3\u001b[0m\u001b[1;33m]\u001b[0m\u001b[1;33m)\u001b[0m\u001b[1;33m)\u001b[0m\u001b[1;33m\u001b[0m\u001b[0m\n\u001b[0m\u001b[0;32m      4\u001b[0m \u001b[0mE\u001b[0m\u001b[1;33m=\u001b[0m\u001b[1;33m[\u001b[0m\u001b[1;36m0\u001b[0m\u001b[1;33m]\u001b[0m\u001b[1;33m\u001b[0m\u001b[0m\n\u001b[0;32m      5\u001b[0m \u001b[1;32mfor\u001b[0m \u001b[0mi\u001b[0m \u001b[1;32min\u001b[0m \u001b[0mrange\u001b[0m\u001b[1;33m(\u001b[0m\u001b[1;36m25\u001b[0m\u001b[1;33m)\u001b[0m\u001b[1;33m:\u001b[0m\u001b[1;33m\u001b[0m\u001b[0m\n",
      "\u001b[1;31mNameError\u001b[0m: name 'rind' is not defined"
     ]
    }
   ],
   "source": [
    "E1=[]\n",
    "for i in range(25):\n",
    "    E1.append(0.33*(0.25*rind[i][0] + 0.25*rind[i][1] + 0.25*rind[i][2] + 0.25*rind[i][3]))\n",
    "E=[0]\n",
    "for i in range(25):\n",
    "    E.append(E1[i])\n",
    "print(E)"
   ]
  },
  {
   "cell_type": "code",
   "execution_count": 21,
   "metadata": {},
   "outputs": [
    {
     "ename": "NameError",
     "evalue": "name 'E' is not defined",
     "output_type": "error",
     "traceback": [
      "\u001b[1;31m---------------------------------------------------------------------------\u001b[0m",
      "\u001b[1;31mNameError\u001b[0m                                 Traceback (most recent call last)",
      "\u001b[1;32m<ipython-input-21-e57280107549>\u001b[0m in \u001b[0;36m<module>\u001b[1;34m\u001b[0m\n\u001b[0;32m      1\u001b[0m \u001b[1;32mimport\u001b[0m \u001b[0mpandas\u001b[0m \u001b[1;32mas\u001b[0m \u001b[0mpd\u001b[0m\u001b[1;33m\u001b[0m\u001b[0m\n\u001b[1;32m----> 2\u001b[1;33m \u001b[0mexposure\u001b[0m \u001b[1;33m=\u001b[0m \u001b[0mpd\u001b[0m\u001b[1;33m.\u001b[0m\u001b[0mDataFrame\u001b[0m\u001b[1;33m(\u001b[0m\u001b[1;33m{\u001b[0m\u001b[1;34m'exposure'\u001b[0m\u001b[1;33m:\u001b[0m\u001b[0mE\u001b[0m\u001b[1;33m}\u001b[0m\u001b[1;33m)\u001b[0m\u001b[1;33m\u001b[0m\u001b[0m\n\u001b[0m\u001b[0;32m      3\u001b[0m \u001b[0mexposure\u001b[0m\u001b[1;33m.\u001b[0m\u001b[0mto_excel\u001b[0m\u001b[1;33m(\u001b[0m \u001b[1;34mr\"C:\\Users\\Pranjali\\Downloads\\Exposure.xlsx\"\u001b[0m\u001b[1;33m)\u001b[0m\u001b[1;33m\u001b[0m\u001b[0m\n",
      "\u001b[1;31mNameError\u001b[0m: name 'E' is not defined"
     ]
    }
   ],
   "source": [
    "import pandas as pd\n",
    "exposure = pd.DataFrame({'exposure':E})\n",
    "exposure.to_excel( r\"C:\\Users\\Pranjali\\Downloads\\Exposure.xlsx\")"
   ]
  },
  {
   "cell_type": "code",
   "execution_count": 23,
   "metadata": {},
   "outputs": [],
   "source": [
    "import pandas as pd\n",
    "expo = pd.read_excel(r\"D:\\All project data\\rlindex-1951-1980-gj.xlsx\")\n",
    "E2=0.33*0.25*(expo['r1index']+expo['r2index']+expo['r3index']+expo['r5index'])"
   ]
  },
  {
   "cell_type": "code",
   "execution_count": 24,
   "metadata": {},
   "outputs": [],
   "source": [
    "E21=[0]\n",
    "for i in range(25):\n",
    "    E21.append(E2[i])"
   ]
  },
  {
   "cell_type": "code",
   "execution_count": 108,
   "metadata": {},
   "outputs": [],
   "source": [
    "import pandas as pd\n",
    "expo1 = pd.read_excel(r\"D:\\difference-expo-guj.xlsx\")\n",
    "E3 = 0.33*0.25*(expo1['r1index']+expo1['r2index']+expo1['r3index']+expo1['r5index'])"
   ]
  },
  {
   "cell_type": "code",
   "execution_count": 109,
   "metadata": {},
   "outputs": [],
   "source": [
    "E31=[0]\n",
    "for i in range(25):\n",
    "    E31.append(E3[i])"
   ]
  },
  {
   "cell_type": "code",
   "execution_count": 92,
   "metadata": {},
   "outputs": [],
   "source": [
    "import pandas as pd\n",
    "expo1 = pd.read_excel( r\"D:\\futuremodels-expo-guj.xlsx\")\n",
    "E4 = 0.33*0.25*(expo1['r1index']+expo1['r2index']+expo1['r3index']+expo1['r5index'])"
   ]
  },
  {
   "cell_type": "code",
   "execution_count": 93,
   "metadata": {},
   "outputs": [],
   "source": [
    "E41=[0]\n",
    "for i in range(25):\n",
    "    E41.append(E4[i"
   ]
  },
  {
   "cell_type": "code",
   "execution_count": 27,
   "metadata": {},
   "outputs": [],
   "source": [
    "#sensitivity\n",
    "pw = []\n",
    "tw=[]\n",
    "t1w=[]\n",
    "fw=[]\n",
    "iw=[]\n",
    "pin=[]\n",
    "t=[]\n",
    "inf=[]\n",
    "unirr=[]\n",
    "d = []\n",
    "for i in range(len(popln)):\n",
    "    pw.append(((scst[i]+infants[i])/popln[i]))\n",
    "    tw.append((0.5-(scst[i]/popln[i])))\n",
    "    t1w.append(scstf[i]/scst[i])\n",
    "    fw.append((1-(scstf[i]/scst[i])))\n",
    "    iw.append((0.5-(infants[i]/popln[i])))\n",
    "    pin.append(0.33*0.33*(pw[i]*pindex[i]))\n",
    "    t.append(0.33*0.33*(tw[i]*(t1w[i]*scstindex[i]+fw[i]*scstfindex[i])))\n",
    "    inf.append(0.33*0.33*(iw[i]*infindex[i]))\n",
    "    unirr.append(0.33*0.33*unirrindex[i])\n",
    "    d.append(0.33*0.33*distindex[i])\n",
    "    "
   ]
  },
  {
   "cell_type": "code",
   "execution_count": 28,
   "metadata": {},
   "outputs": [],
   "source": [
    "S=[]\n",
    "for i in range(25):\n",
    "    S.append(pin[i]+t[i]+inf[i]+unirr[i]+d[i])\n",
    "S1=[0]\n",
    "for i in range(25):\n",
    "    S1.append(S[i])"
   ]
  },
  {
   "cell_type": "code",
   "execution_count": 29,
   "metadata": {},
   "outputs": [],
   "source": [
    "#adaptive capacity\n",
    "a=[]\n",
    "income=[]\n",
    "m=[]\n",
    "w=[]\n",
    "for i in range(25):\n",
    "    a.append(0.33*0.25*powerindex[i])\n",
    "    income.append(0.33*0.25*incindex[i])\n",
    "    if(sdr[i]>=pdr[i]):\n",
    "        m.append(0.33*0.25*(0.5*hospindex[i]+0.5*(sdr[i]/(sdr[i]+pdr[i]))*sdrindex[i]+0.5*(pdr[i]/(sdr[i]+pdr[i]))*pdrindex[i]))\n",
    "    else:\n",
    "        m.append(0.33*0.25*(0.5*hospindex[i]+0.5*(pdr[i]/(sdr[i]+pdr[i]))*sdrindex[i]+0.5*(sdr[i]/(sdr[i]+pdr[i]))*pdrindex[i]))\n",
    "    if(aworker[i]>=mworker[i]):\n",
    "        w.append(0.33*0.25*((aworker[i]/(aworker[i]+mworker[i]))*aworkindex[i]+(mworker[i]/(aworker[i]+mworker[i]))*mworkindex[i]))\n",
    "    else:\n",
    "        w.append(0.33*0.25*((mworker[i]/(aworker[i]+mworker[i]))*aworkindex[i]+(aworker[i]/(aworker[i]+mworker[i]))*mworkindex[i]))"
   ]
  },
  {
   "cell_type": "code",
   "execution_count": 30,
   "metadata": {},
   "outputs": [],
   "source": [
    "A=[]\n",
    "for i in range(25):\n",
    "    A.append(a[i]+income[i]+m[i]+w[i])\n",
    "A1=[0]\n",
    "for i in range(25):\n",
    "    A1.append(A[i])"
   ]
  },
  {
   "cell_type": "code",
   "execution_count": 42,
   "metadata": {},
   "outputs": [
    {
     "data": {
      "text/plain": [
       "[0,\n",
       " 0.04044707661012047,\n",
       " 0.10957748751954606,\n",
       " 0.06265131939340327,\n",
       " 0.06887702460094572,\n",
       " 0.1051228261746672,\n",
       " 0.17472995298308186,\n",
       " 0.0979057477017301,\n",
       " 0.03526315097157177,\n",
       " 0.08650881979460127,\n",
       " 0.031170052534186532,\n",
       " 0.029454076873159606,\n",
       " 0.046071453254344835,\n",
       " 0.11864254990707049,\n",
       " 0.11466414129220787,\n",
       " 0.15427212615969577,\n",
       " 0.12302486398645307,\n",
       " 0.06677943696726155,\n",
       " 0.039735103007732794,\n",
       " 0.1788306046532019,\n",
       " 0.027949589952018607,\n",
       " 0.07641882446227423,\n",
       " 0.10746004930339559,\n",
       " 0.06861233619738637,\n",
       " 0.08646059349143553,\n",
       " 0.0704877881464141]"
      ]
     },
     "execution_count": 42,
     "metadata": {},
     "output_type": "execute_result"
    }
   ],
   "source": [
    "A1"
   ]
  },
  {
   "cell_type": "code",
   "execution_count": 31,
   "metadata": {},
   "outputs": [],
   "source": [
    "v=[]\n",
    "for i in range(26):\n",
    "    v.append(e1[i]+S1[i]-A1[i])\n",
    "for i in range(26):\n",
    "    if(v[i]<0):\n",
    "        v[i]=0"
   ]
  },
  {
   "cell_type": "code",
   "execution_count": 32,
   "metadata": {},
   "outputs": [],
   "source": [
    "v1=[]\n",
    "for i in range(26):\n",
    "    v1.append(E21[i]+S1[i]-A1[i])\n"
   ]
  },
  {
   "cell_type": "code",
   "execution_count": 33,
   "metadata": {},
   "outputs": [
    {
     "ename": "NameError",
     "evalue": "name 'E41' is not defined",
     "output_type": "error",
     "traceback": [
      "\u001b[1;31m---------------------------------------------------------------------------\u001b[0m",
      "\u001b[1;31mNameError\u001b[0m                                 Traceback (most recent call last)",
      "\u001b[1;32m<ipython-input-33-6e3541f429fb>\u001b[0m in \u001b[0;36m<module>\u001b[1;34m\u001b[0m\n\u001b[0;32m      1\u001b[0m \u001b[0mv2\u001b[0m\u001b[1;33m=\u001b[0m\u001b[1;33m[\u001b[0m\u001b[1;33m]\u001b[0m\u001b[1;33m\u001b[0m\u001b[0m\n\u001b[0;32m      2\u001b[0m \u001b[1;32mfor\u001b[0m \u001b[0mi\u001b[0m \u001b[1;32min\u001b[0m \u001b[0mrange\u001b[0m\u001b[1;33m(\u001b[0m\u001b[1;36m26\u001b[0m\u001b[1;33m)\u001b[0m\u001b[1;33m:\u001b[0m\u001b[1;33m\u001b[0m\u001b[0m\n\u001b[1;32m----> 3\u001b[1;33m     \u001b[0mv2\u001b[0m\u001b[1;33m.\u001b[0m\u001b[0mappend\u001b[0m\u001b[1;33m(\u001b[0m\u001b[0mE41\u001b[0m\u001b[1;33m[\u001b[0m\u001b[0mi\u001b[0m\u001b[1;33m]\u001b[0m\u001b[1;33m+\u001b[0m\u001b[0mS1\u001b[0m\u001b[1;33m[\u001b[0m\u001b[0mi\u001b[0m\u001b[1;33m]\u001b[0m\u001b[1;33m-\u001b[0m\u001b[0mA1\u001b[0m\u001b[1;33m[\u001b[0m\u001b[0mi\u001b[0m\u001b[1;33m]\u001b[0m\u001b[1;33m)\u001b[0m\u001b[1;33m\u001b[0m\u001b[0m\n\u001b[0m",
      "\u001b[1;31mNameError\u001b[0m: name 'E41' is not defined"
     ]
    }
   ],
   "source": [
    "v2=[]\n",
    "for i in range(26):\n",
    "    v2.append(E41[i]+S1[i]-A1[i])\n"
   ]
  },
  {
   "cell_type": "code",
   "execution_count": 66,
   "metadata": {},
   "outputs": [],
   "source": [
    "districts.to_file(driver = 'ESRI Shapefile', filename= r\"C:\\Users\\Pranjali\\Downloads\\districts1.shp\")\n"
   ]
  },
  {
   "cell_type": "code",
   "execution_count": 27,
   "metadata": {},
   "outputs": [],
   "source": [
    "import geopandas as gpd\n",
    "districts[\"vindex\"]=v\n",
    "d = districts[['vindex','geometry']]\n"
   ]
  },
  {
   "cell_type": "code",
   "execution_count": 167,
   "metadata": {},
   "outputs": [],
   "source": [
    "latd=[24,24.34,23.52,23.42,23.84,23.21,23.03,22.43,22.18,22.17,21.37,21.31,21.36,21.46,22.32,22.45,22.80,22.53,22.00,21.87,21.41,21.26,20.82,21.07,20.59]\n",
    "lond=[70,71.76,72.10,72.37,72.99,72.63,72.40,71.43,70.56,70.07,69.49,70.36,71.15,72.11,73.00,72.45,73.55,74.19,73.16,73.55,73.01,72.99,73.70,73.40,72.93]\n",
    "ld=[]\n",
    "for i in range(len(latd)):\n",
    "    ld.append((latd[i],lond[i]))\n",
    "    "
   ]
  },
  {
   "cell_type": "code",
   "execution_count": 71,
   "metadata": {},
   "outputs": [],
   "source": [
    "rlf2=[0]\n",
    "rlf3=[0]\n",
    "rlf5=[0]\n",
    "rlf1=[0]\n",
    "rind=[0]\n",
    "for i in range(25):\n",
    "    rlf2.append(rlf[i][0])\n",
    "    rlf3.append(rlf[i][1])\n",
    "    rlf5.append(rlf[i][2])\n",
    "    rlf1.append(rlf[i][3])\n",
    "for i in range(25):\n",
    "    rind.append(((rlf1[i]-min(rlf1))/(max(rlf1)-min(rlf1)),(rlf2[i]-min(rlf2))/(max(rlf2)-min(rlf2)),(rlf3[i]-min(rlf3))/(max(rlf3)-min(rlf3)),(rlf5[i]-min(rlf5))/(max(rlf5)-min(rlf5))))\n",
    "    "
   ]
  },
  {
   "cell_type": "code",
   "execution_count": 35,
   "metadata": {},
   "outputs": [],
   "source": [
    "districts['Aindex']=A1"
   ]
  },
  {
   "cell_type": "code",
   "execution_count": 38,
   "metadata": {},
   "outputs": [],
   "source": [
    "districts['code']=[i for i in range(26)]"
   ]
  },
  {
   "cell_type": "code",
   "execution_count": 39,
   "metadata": {},
   "outputs": [],
   "source": [
    "#districts['Eindex70-01']=e1\n",
    "dist = districts[['code','Aindex']]\n",
    "data_for_map = dist.rename(index=str, columns={'code':'C','Aindex':'expo'})\n",
    "merged = districts.set_index('code').join(data_for_map.set_index('C'))"
   ]
  },
  {
   "cell_type": "code",
   "execution_count": 40,
   "metadata": {},
   "outputs": [
    {
     "data": {
      "text/plain": [
       "<matplotlib.axes._subplots.AxesSubplot at 0x2789a2058d0>"
      ]
     },
     "execution_count": 40,
     "metadata": {},
     "output_type": "execute_result"
    },
    {
     "data": {
      "image/png": "[encoded data removed]",
      "text/plain": [
       "<Figure size 720x432 with 1 Axes>"
      ]
     },
     "metadata": {
      "needs_background": "light"
     },
     "output_type": "display_data"
    }
   ],
   "source": [
    "variable = 'Aindex'\n",
    "# set the range for the choropleth\n",
    "# create figure and axes for Matplotlib\n",
    "fig, ax = plt.subplots(1, figsize=(10, 6))                                                                                 \n",
    "merged.plot(column=variable, cmap='Blues', linewidth=0.8, ax=ax, edgecolor='0.8')"
   ]
  },
  {
   "cell_type": "code",
   "execution_count": 41,
   "metadata": {},
   "outputs": [
    {
     "data": {
      "text/plain": [
       "0.1788306046532019"
      ]
     },
     "execution_count": 41,
     "metadata": {},
     "output_type": "execute_result"
    }
   ],
   "source": [
    "(max(A1))"
   ]
  },
  {
   "cell_type": "code",
   "execution_count": 43,
   "metadata": {},
   "outputs": [],
   "source": [
    "ax.axis('off')\n",
    "# add a title\n",
    "ax.set_title('Adaptability for 2001 census', fontdict={'fontsize': '18', 'fontweight' : '3'})\n",
    "# create an annotation for the data source\n",
    "cax = fig.add_axes([0.14, 0.1, 0.7, 0.01])\n",
    "sm4 = plt.cm.ScalarMappable(cmap='Blues', norm=plt.Normalize(vmin=0, vmax=0.20))\n",
    "# empty array for the data range\n",
    "sm4._A = []\n",
    "# add the colorbar to the figur\n",
    "cbar = fig.colorbar(sm4,cax= cax,orientation ='horizontal')\n",
    "#saving our map as .png file.\n",
    "fig.savefig(r'C:\\Users\\Pranjali\\Downloads\\2001 A.png', dpi=300)"
   ]
  },
  {
   "cell_type": "code",
   "execution_count": 38,
   "metadata": {},
   "outputs": [],
   "source": [
    "districts['S']=S1\n",
    "dist = districts[['code','S']]\n",
    "data_for_map = dist.rename(index=str, columns={'code':'C','S':'se'})\n",
    "merged = districts.set_index('TOT_P').join(data_for_map.set_index('C'))"
   ]
  },
  {
   "cell_type": "code",
   "execution_count": 39,
   "metadata": {},
   "outputs": [
    {
     "data": {
      "text/plain": [
       "<matplotlib.axes._subplots.AxesSubplot at 0x1785eb7d668>"
      ]
     },
     "execution_count": 39,
     "metadata": {},
     "output_type": "execute_result"
    },
    {
     "data": {
      "image/png": "[encoded data removed]",
      "text/plain": [
       "<Figure size 720x432 with 1 Axes>"
      ]
     },
     "metadata": {
      "needs_background": "light"
     },
     "output_type": "display_data"
    }
   ],
   "source": [
    "variable = 'S'\n",
    "# set the range for the choropleth\n",
    "# create figure and axes for Matplotlib\n",
    "fig, ax = plt.subplots(1, figsize=(10, 6))                                                                                 \n",
    "merged.plot(column=variable, cmap='Oranges', linewidth=0.8, ax=ax, edgecolor='0.8')\n"
   ]
  },
  {
   "cell_type": "code",
   "execution_count": 96,
   "metadata": {},
   "outputs": [],
   "source": [
    "districts['vindexfut']=v2\n",
    "dist = districts[['code','vindexfut']]\n",
    "data_for_map = dist.rename(index=str, columns={'code':'C','vindexfut':'vulnerability'})\n",
    "merged = districts.set_index('code').join(data_for_map.set_index('C'))"
   ]
  },
  {
   "cell_type": "code",
   "execution_count": 120,
   "metadata": {},
   "outputs": [
    {
     "data": {
      "text/plain": [
       "<matplotlib.axes._subplots.AxesSubplot at 0x18059fd6a90>"
      ]
     },
     "execution_count": 120,
     "metadata": {},
     "output_type": "execute_result"
    },
    {
     "data": {
      "image/png": "[encoded data removed]",
      "text/plain": [
       "<Figure size 720x432 with 1 Axes>"
      ]
     },
     "metadata": {
      "needs_background": "light"
     },
     "output_type": "display_data"
    }
   ],
   "source": [
    "variable = 'vindexfut'\n",
    "# set the range for the choropleth\n",
    "# create figure and axes for Matplotlib\n",
    "fig, ax = plt.subplots(1, figsize=(10, 6))\n",
    "ax.axis('off')\n",
    "# add a title\n",
    "ax.set_title('Future Vulnerability', fontdict={'fontsize': '18', 'fontweight' : '3'})\n",
    "merged.plot(column=variable, cmap='Oranges', linewidth=0.8, ax=ax, edgecolor='0.8')\n"
   ]
  },
  {
   "cell_type": "code",
   "execution_count": 40,
   "metadata": {},
   "outputs": [],
   "source": [
    "ax.axis('off')\n",
    "# add a title\n",
    "ax.set_title('Sensitivity for census 2001', fontdict={'fontsize': '18', 'fontweight' : '3'})\n",
    "# create an annotation for the data source\n",
    "cax = fig.add_axes([0.14, 0.1, 0.7, 0.01])\n",
    "sm4 = plt.cm.ScalarMappable(cmap='Oranges', norm=plt.Normalize(vmin=0, vmax=0.35))\n",
    "# empty array for the data range\n",
    "sm4._A = []\n",
    "# add the colorbar to the figur\n",
    "cbar = fig.colorbar(sm4,cax= cax,orientation ='horizontal')\n",
    "#saving our map as .png file.\n",
    "fig.savefig(r'C:\\Users\\Pranjali\\Downloads\\S2001.png', dpi=300)"
   ]
  },
  {
   "cell_type": "code",
   "execution_count": 107,
   "metadata": {},
   "outputs": [
    {
     "data": {
      "text/plain": [
       "[0,\n",
       " 0.0,\n",
       " 0.0,\n",
       " 0.08324415201446506,\n",
       " 0.11912525871266694,\n",
       " 0.1592994529724404,\n",
       " 0.19193220393596241,\n",
       " 0.21562634996233257,\n",
       " 0.22498827580212738,\n",
       " 0.22182184941506725,\n",
       " 0.2328264313420437,\n",
       " 0.24033881303389582,\n",
       " 0.24367319659890788,\n",
       " 0.2614312658300419,\n",
       " 0.266319101058872,\n",
       " 0.25747703867212773,\n",
       " 0.271301610881441,\n",
       " 0.2719905982257029,\n",
       " 0.2822739583466633,\n",
       " 0.2878552095059003,\n",
       " 0.29745385994722107,\n",
       " 0.3016597980948264,\n",
       " 0.3075535890578531,\n",
       " 0.3082994688458344,\n",
       " 0.3148658642027774,\n",
       " 0.3226379157978212]"
      ]
     },
     "execution_count": 107,
     "metadata": {},
     "output_type": "execute_result"
    }
   ],
   "source": [
    "E21"
   ]
  },
  {
   "cell_type": "code",
   "execution_count": null,
   "metadata": {
    "scrolled": true
   },
   "outputs": [],
   "source": []
  },
  {
   "cell_type": "code",
   "execution_count": null,
   "metadata": {},
   "outputs": [],
   "source": []
  },
  {
   "cell_type": "code",
   "execution_count": 44,
   "metadata": {},
   "outputs": [
    {
     "name": "stderr",
     "output_type": "stream",
     "text": [
      "C:\\Users\\Pranjali\\Anaconda3\\lib\\site-packages\\ipykernel_launcher.py:5: MatplotlibDeprecationWarning: Adding an axes using the same arguments as a previous axes currently reuses the earlier instance.  In a future version, a new instance will always be created and returned.  Meanwhile, this warning can be suppressed, and the future behavior ensured, by passing a unique label to each axes instance.\n",
      "  \"\"\"\n"
     ]
    }
   ],
   "source": [
    "ax.axis('off')\n",
    "# add a title\n",
    "ax.set_title('Vulnerability1', fontdict={'fontsize': '18', 'fontweight' : '3'})\n",
    "# create an annotation for the data source\n",
    "cax = fig.add_axes([0.14, 0.1, 0.7, 0.01])\n",
    "sm4 = plt.cm.ScalarMappable(cmap='Oranges', norm=plt.Normalize(vmin=0, vmax=0.35))\n",
    "# empty array for the data range\n",
    "sm4._A = []\n",
    "# add the colorbar to the figur\n",
    "cbar = fig.colorbar(sm4,cax= cax,orientation ='horizontal')\n",
    "#saving our map as .png file.\n",
    "fig.savefig(r'C:\\Users\\Pranjali\\Downloads\\ratiovindex.png', dpi=300)"
   ]
  },
  {
   "cell_type": "code",
   "execution_count": 54,
   "metadata": {},
   "outputs": [],
   "source": [
    "popln1=[0]\n",
    "scst1=[0]\n",
    "scstf1=[0]\n",
    "infants1=[0]\n",
    "unirra1=[0]\n",
    "distance1=[0]\n",
    "power1=[0]\n",
    "irra1=[0]\n",
    "inc1=[0]\n",
    "hosp1=[0]\n",
    "sdr1=[0]\n",
    "pdr1=[0]\n",
    "aworker1=[0]\n",
    "mworker1=[0]\n",
    "for i in range(25):\n",
    "    popln1.append(popln[i])\n",
    "    scst1.append(scst[i])\n",
    "    scstf1.append(scstf[i])\n",
    "    infants1.append(infants[i])\n",
    "    unirra1.append(unirra[i])\n",
    "    distance1.append(distance[i])\n",
    "    power1.append(power[i])\n",
    "    irra1.append(irra[i])\n",
    "    inc1.append(inc[i])\n",
    "    hosp1.append(hosp[i])\n",
    "    sdr1.append(sdr[i])\n",
    "    pdr1.append(pdr[i])\n",
    "    aworker1.append(aworker[i])\n",
    "    mworker1.append(mworker[i])\n",
    "    "
   ]
  },
  {
   "cell_type": "code",
   "execution_count": 58,
   "metadata": {},
   "outputs": [],
   "source": [
    "data = pd.DataFrame({'Dist_code':[i for i in range(26)],'tot_p':popln1,'tribal_p':scst1,'tribalf_p':scstf1,'infants_p':infants1,'unirr_a':unirra1,'dist':distance1,'power_agri':power1,'irr_a':irra1,'inc':inc1,'hosp':hosp1,'sdr':sdr1,'pdr':pdr1,'mwork':aworker1,'marg_work':mworker1,'Aindex':A1,'Sindex':S1,'geometry':districts['geometry']})"
   ]
  },
  {
   "cell_type": "code",
   "execution_count": 60,
   "metadata": {},
   "outputs": [],
   "source": [
    "rural_2001 = gpd.GeoDataFrame(data)\n",
    "\n",
    "rural_2001['RL100']=expo['r100']\n",
    "rural_2001['RL30']=expo['r30']\n",
    "rural_2001['return1index']=expo['r1index']\n",
    "rural_2001['return2index']=expo['r2index']\n",
    "rural_2001['return3index']=expo['r3index']\n",
    "rural_2001['return5index']=expo['r5index']\n",
    "rural_2001['Eindex1']=E21\n",
    "rural_2001['Vindex1']=v1\n",
    "\n"
   ]
  },
  {
   "cell_type": "code",
   "execution_count": null,
   "metadata": {},
   "outputs": [],
   "source": []
  },
  {
   "cell_type": "code",
   "execution_count": 62,
   "metadata": {},
   "outputs": [],
   "source": [
    "rural_2001.to_file(driver = 'ESRI Shapefile',filename= r\"C:\\Users\\Pranjali\\Downloads\\rural_2001.shp\")"
   ]
  }
 ],
 "metadata": {
  "kernelspec": {
   "display_name": "Python 3",
   "language": "python",
   "name": "python3"
  },
  "language_info": {
   "codemirror_mode": {
    "name": "ipython",
    "version": 3
   },
   "file_extension": ".py",
   "mimetype": "text/x-python",
   "name": "python",
   "nbconvert_exporter": "python",
   "pygments_lexer": "ipython3",
   "version": "3.6.5"
  }
 },
 "nbformat": 4,
 "nbformat_minor": 2
}
