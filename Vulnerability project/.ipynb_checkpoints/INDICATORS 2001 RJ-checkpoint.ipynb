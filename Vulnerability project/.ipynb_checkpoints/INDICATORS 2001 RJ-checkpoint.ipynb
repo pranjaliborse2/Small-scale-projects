{
 "cells": [
  {
   "cell_type": "code",
   "execution_count": 1,
   "metadata": {},
   "outputs": [],
   "source": [
    "import geopandas as gpd\n",
    "import matplotlib.pyplot as plt\n",
    "from zipfile import ZipFile\n",
    "import os\n",
    "os.chdir(r\"C:\\Users\\Pranjali\\Downloads\")\n",
    "gdf = gpd.read_file('india-village-census-2001-RJ.shp')"
   ]
  },
  {
   "cell_type": "code",
   "execution_count": 49,
   "metadata": {},
   "outputs": [],
   "source": [
    "district = gdf[['DISTRICT', 'geometry']]\n",
    "districts = gdf.dissolve(by='DISTRICT', aggfunc = 'mean')"
   ]
  },
  {
   "cell_type": "code",
   "execution_count": 5,
   "metadata": {},
   "outputs": [
    {
     "data": {
      "text/plain": [
       "array(['geometry', 'UID', 'CENSUS_COD', 'STATE', 'SUB_DIST', 'TOWN_VILL',\n",
       "       'WARD', 'EB', 'TOT_P', 'TOT_M', 'TOT_F', 'P_06', 'F_06', 'P_SC',\n",
       "       'M_SC', 'F_SC', 'P_ST', 'M_ST', 'F_ST', 'P_LIT', 'M_LIT', 'F_LIT',\n",
       "       'P_ILL', 'M_ILL', 'F_ILL', 'TOT_WORK_P', 'TOT_WORK_M',\n",
       "       'TOT_WORK_F', 'MAINWORK_P', 'MAINWORK_M', 'MAINWORK_F',\n",
       "       'MAIN_CL_P', 'MAIN_CL_M', 'MAIN_CL_F', 'MAIN_AL_P', 'MAIN_AL_M',\n",
       "       'MAIN_AL_F', 'MAIN_HH_P', 'MAIN_HH_M', 'MAIN_HH_F', 'MAIN_OT_P',\n",
       "       'MAIN_OT_M', 'MAIN_OT_F', 'MARGWORK_P', 'MARGWORK_M', 'MARGWORK_F',\n",
       "       'MARG_CL_P', 'MARG_CL_M', 'MARG_CL_F', 'MARG_AL_P', 'MARG_AL_M',\n",
       "       'MARG_AL_F', 'MARG_HH_P', 'MARG_HH_M', 'MARG_HH_F', 'MARG_OT_P',\n",
       "       'MARG_OT_M', 'MARG_OT_F', 'NON_WORK_P', 'NON_WORK_M', 'NON_WORK_F',\n",
       "       'ST_CODE', 'DIST_CODE', 'THSIL_CODE', 'BLOCK_CODE', 'V_CT_CODE',\n",
       "       'T_P', 'T_M', 'T_F', 'SC_M', 'SC_F', 'ST_P', 'ST_M', 'ST_F',\n",
       "       'EDU_FAC', 'P_SCH', 'RANG_P_SCH', 'M_SCH', 'RANG_M_SCH', 'S_SCH',\n",
       "       'S_S_SCH', 'COLLEGE', 'RANG_COLL', 'IND_SCH', 'TR_SCH',\n",
       "       'ADLT_LT_CT', 'OTH_SCH', 'MEDI_FAC', 'ALL_HOSP', 'RANG_ALL',\n",
       "       'AYU_HOSP', 'UN_HOSP', 'HOM_HOSP', 'ALL_DISP', 'AYU_DISP',\n",
       "       'UN_DISP', 'HOM_DISP', 'MCW_CNTR', 'RANG_MCW', 'M_HOME', 'CWC',\n",
       "       'H_CNTR', 'PH_CNTR', 'RANG_PHC', 'PHS_CNT', 'FWC_CNTR', 'TB_CLN',\n",
       "       'N_HOME', 'RMP', 'SMP', 'CHW', 'OTH_CNTR', 'DRNK_WAT_F',\n",
       "       'RANG_WAT_F', 'TAP', 'WELL', 'TANK', 'TUBEWELL', 'HANDPUMP',\n",
       "       'RIVER', 'CANAL', 'LAKE', 'SPRING', 'OTHER', 'RANG_SS', 'P_T_FAC',\n",
       "       'POST_OFF', 'RANG_PO', 'TELE_OFF', 'POST_TELE', 'PHONE',\n",
       "       'RANG_PHONE', 'COMM_FAC', 'BS_FAC', 'RS_FAC', 'RANG_RS', 'NW_FAC',\n",
       "       'RANG_NW', 'BANK_FAC', 'COMM_BANK', 'RANG_COMM', 'COOP_BANK',\n",
       "       'RANG_COOP', 'CRSOC_FAC', 'AC_SOC', 'RANG_ACS', 'NAC_SOC',\n",
       "       'RANG_NAC', 'OTHER_SOC', 'RANG_OTH', 'RC_FAC', 'C_V_HALL',\n",
       "       'RANG_CV', 'SP_CL_FAC', 'RANG_SPCL', 'ST_AU_FAC', 'RANG_STAU',\n",
       "       'APP_PR', 'APP_MR', 'APP_FP', 'APP_NAVRIV', 'APP_NAVCAN', 'APP_NW',\n",
       "       'DIST_TOWN', 'POWER_DOM', 'POWER_AGR', 'POWER_OTH', 'POWER_ALL',\n",
       "       'PAP_MAG', 'A_INCEXP', 'TOT_INC', 'CANAL_GOVT', 'CANAL_PVT',\n",
       "       'WELL_WO_EL', 'WELL_W_EL', 'TW_WO_EL', 'TW_W_EL', 'TANK_IRR',\n",
       "       'RIVER_IRR', 'LAKE_IRR', 'W_FALL', 'OTH_IRR', 'TOT_IRR', 'UN_IRR',\n",
       "       'CULT_WASTE', 'AREA_NA_CU'], dtype=object)"
      ]
     },
     "execution_count": 5,
     "metadata": {},
     "output_type": "execute_result"
    }
   ],
   "source": [
    "districts.columns.values"
   ]
  },
  {
   "cell_type": "code",
   "execution_count": 6,
   "metadata": {},
   "outputs": [],
   "source": [
    "#Sensitivity indicators\n",
    "#Total population\n",
    "popln = [0]\n",
    "pindex = [0]\n",
    "for i in range(1,33):\n",
    "        popln.append(districts['TOT_P'][i])\n",
    "for i in range(1,33):\n",
    "    index = (popln[i]-min(popln))/(max(popln)-min(popln))\n",
    "    pindex.append(index)"
   ]
  },
  {
   "cell_type": "code",
   "execution_count": 9,
   "metadata": {},
   "outputs": [],
   "source": [
    "#tribal population\n",
    "scst = [0]\n",
    "scstindex = [0]\n",
    "for i in range(1,33):\n",
    "        scst.append((districts['SC_M'][i]+districts['SC_F'][i]+districts['ST_P'][i]))\n",
    "for i in range(1,33):\n",
    "    index = (scst[i]-min(scst))/(max(scst)-min(scst))\n",
    "    scstindex.append(index)"
   ]
  },
  {
   "cell_type": "code",
   "execution_count": 10,
   "metadata": {},
   "outputs": [],
   "source": [
    "#tribal female\n",
    "scstf = [0]\n",
    "scstfindex = [0]\n",
    "for i in range(1,33):\n",
    "        scstf.append((districts['SC_F'][i]+districts['ST_F'][i]))\n",
    "for i in range(1,33):\n",
    "    index = (scstf[i]-min(scstf))/(max(scstf)-min(scstf))\n",
    "    scstfindex.append(index)"
   ]
  },
  {
   "cell_type": "code",
   "execution_count": 11,
   "metadata": {},
   "outputs": [],
   "source": [
    "#infants population\n",
    "infants = [0]\n",
    "infindex = [0]\n",
    "for i in range(1,33):\n",
    "        infants.append((districts['P_06'][i]))\n",
    "for i in range(1,33):\n",
    "    index = (infants[i]-min(infants))/(max(infants)-min(infants))\n",
    "    infindex.append(index)"
   ]
  },
  {
   "cell_type": "code",
   "execution_count": 12,
   "metadata": {},
   "outputs": [],
   "source": [
    "#Total Illiterate \n",
    "illit = [0]\n",
    "illitindex = [0]\n",
    "for i in range(1,33):\n",
    "        illit.append((districts['P_ILL'][i]))\n",
    "for i in range(1,33):\n",
    "    index = (illit[i]-min(illit))/(max(illit)-min(illit))\n",
    "    illitindex.append(index)"
   ]
  },
  {
   "cell_type": "code",
   "execution_count": 13,
   "metadata": {},
   "outputs": [],
   "source": [
    "# male Illiterate \n",
    "millit = [0]\n",
    "millitindex = [0]\n",
    "for i in range(1,33):\n",
    "        millit.append((districts['M_ILL'][i]))\n",
    "for i in range(1,33):\n",
    "    index = (millit[i]-min(millit))/(max(millit)-min(millit))\n",
    "    millitindex.append(index)"
   ]
  },
  {
   "cell_type": "code",
   "execution_count": 14,
   "metadata": {},
   "outputs": [],
   "source": [
    "#Unirrigated area\n",
    "unirra = [0]\n",
    "unirrindex = [0]\n",
    "for i in range(1,33):\n",
    "        unirra.append((districts['UN_IRR'][i]))\n",
    "for i in range(1,33):\n",
    "    index = (unirra[i]-min(unirra))/(max(unirra)-min(unirra))\n",
    "    unirrindex.append(index)"
   ]
  },
  {
   "cell_type": "code",
   "execution_count": 15,
   "metadata": {},
   "outputs": [],
   "source": [
    "# Agriculture and cultivation female labours\n",
    "fwork=[0]\n",
    "fworkindex=[0]\n",
    "for i in range(1,33):\n",
    "        fwork.append((districts['MAIN_AL_F'][i]+districts['MAIN_CL_F'][i]+districts['MARG_AL_F'][i]+districts['MARG_CL_F'][i]))\n",
    "for i in range(1,33):\n",
    "    index = (fwork[i]-min(fwork))/(max(fwork)-min(fwork))\n",
    "    fworkindex.append(index)"
   ]
  },
  {
   "cell_type": "code",
   "execution_count": 16,
   "metadata": {},
   "outputs": [],
   "source": [
    "#Adaptive capacity indicators\n",
    "#Irrigated area\n",
    "irra = [0]\n",
    "irrindex = [0]\n",
    "for i in range(1,33):\n",
    "        irra.append((districts['TOT_IRR'][i]))\n",
    "for i in range(1,33):\n",
    "    index = (irra[i]-min(irra))/(max(irra)-min(irra))\n",
    "    irrindex.append(index)"
   ]
  },
  {
   "cell_type": "code",
   "execution_count": 17,
   "metadata": {},
   "outputs": [],
   "source": [
    "#Electricity used in agriculture\n",
    "power = [0]\n",
    "powerindex = [0]\n",
    "for i in range(1,33):\n",
    "        power.append((districts['POWER_AGR'][i]))\n",
    "for i in range(1,33):\n",
    "    index = (power[i]-min(power))/(max(power)-min(power))\n",
    "    powerindex.append(index)"
   ]
  },
  {
   "cell_type": "code",
   "execution_count": 50,
   "metadata": {},
   "outputs": [],
   "source": [
    "#agriculture workers\n",
    "alwork = [0]\n",
    "alworkindex = [0]\n",
    "for i in range(1,33):\n",
    "        alwork.append((districts['MAIN_AL_M'][i]))\n",
    "for i in range(1,33):\n",
    "    index = (alwork[i]-min(alwork))/(max(alwork)-min(alwork))\n",
    "    alworkindex.append(index)"
   ]
  },
  {
   "cell_type": "code",
   "execution_count": 19,
   "metadata": {},
   "outputs": [],
   "source": [
    "#income\n",
    "inc =[0]\n",
    "incindex=[0]\n",
    "for i in range(1,33):\n",
    "        inc.append((districts['TOT_INC'][i]))\n",
    "for i in range(1,33):\n",
    "    index = (inc[i]-min(inc))/(max(inc)-min(inc))\n",
    "    incindex.append(index)"
   ]
  },
  {
   "cell_type": "code",
   "execution_count": 20,
   "metadata": {},
   "outputs": [],
   "source": [
    "#total literate \n",
    "lit = [0]\n",
    "litindex = [0]\n",
    "for i in range(1,33):\n",
    "        lit.append((districts['P_LIT'][i]))\n",
    "for i in range(1,33):\n",
    "    index = (lit[i]-min(lit))/(max(lit)-min(lit))\n",
    "    litindex.append(index)"
   ]
  },
  {
   "cell_type": "code",
   "execution_count": 21,
   "metadata": {},
   "outputs": [],
   "source": [
    "#medical facilities(no.of hospitals and dispensaries)\n",
    "hosp =[0]\n",
    "hospindex=[0]\n",
    "for i in range(1,33):\n",
    "        hosp.append((districts['ALL_HOSP'][i]+districts['AYU_HOSP'][i]+districts['UN_HOSP'][i]+districts['HOM_HOSP'][i]+districts['ALL_DISP'][i]+districts['AYU_DISP'][i]+districts['UN_DISP'][i]+districts['HOM_DISP'][i]))\n",
    "for i in range(1,33):\n",
    "    index = (hosp[i]-min(hosp))/(max(hosp)-min(hosp))\n",
    "    hospindex.append(index)"
   ]
  },
  {
   "cell_type": "code",
   "execution_count": 22,
   "metadata": {},
   "outputs": [],
   "source": [
    "#no. of private doctors\n",
    "pdr =[0]\n",
    "pdrindex=[0]\n",
    "for i in range(1,33):\n",
    "        pdr.append((districts['RMP'][i]))\n",
    "for i in range(1,33):\n",
    "    index = (pdr[i]-min(pdr))/(max(pdr)-min(pdr))\n",
    "    pdrindex.append(index)"
   ]
  },
  {
   "cell_type": "code",
   "execution_count": 23,
   "metadata": {},
   "outputs": [],
   "source": [
    "#no. of subsided doctors\n",
    "sdr =[0]\n",
    "sdrindex=[0]\n",
    "for i in range(1,33):\n",
    "        sdr.append((districts['RMP'][i]))\n",
    "for i in range(1,33):\n",
    "    index = (sdr[i]-min(sdr))/(max(sdr)-min(sdr))\n",
    "    sdrindex.append(index)"
   ]
  },
  {
   "cell_type": "code",
   "execution_count": 24,
   "metadata": {},
   "outputs": [],
   "source": [
    "#main workers\n",
    "aworker =[0]\n",
    "aworkindex=[0]\n",
    "for i in range(1,33):\n",
    "        aworker.append((districts['MAINWORK_P'][i]))\n",
    "for i in range(1,33):\n",
    "    index = (aworker[i]-min(aworker))/(max(aworker)-min(aworker))\n",
    "    aworkindex.append(index)"
   ]
  },
  {
   "cell_type": "code",
   "execution_count": 25,
   "metadata": {},
   "outputs": [],
   "source": [
    "#marginal workers\n",
    "mworker =[0]\n",
    "mworkindex=[0]\n",
    "for i in range(1,33):\n",
    "        mworker.append((districts['MARGWORK_P'][i]))\n",
    "for i in range(1,33):\n",
    "    index = (mworker[i]-min(mworker))/(max(mworker)-min(mworker))\n",
    "    mworkindex.append(index)"
   ]
  },
  {
   "cell_type": "code",
   "execution_count": 26,
   "metadata": {},
   "outputs": [],
   "source": [
    "pw=[0]\n",
    "tw=[0]\n",
    "t1w=[0]\n",
    "fw=[0]\n",
    "iw=[0]\n",
    "pin=[0]\n",
    "t=[0]\n",
    "inf=[0]\n",
    "unirr=[0]\n",
    "illite=[0]\n",
    "fworker=[0]\n",
    "for i in range(1,len(popln)):\n",
    "    pw.append(((scst[i]+infants[i])/popln[i]))\n",
    "    tw.append((0.5-(scst[i]/popln[i])))\n",
    "    t1w.append(scstf[i]/scst[i])\n",
    "    fw.append((1-(scstf[i]/scst[i])))\n",
    "    iw.append((0.5-(infants[i]/popln[i])))\n",
    "    pin.append(0.33*0.25*(pw[i]*pindex[i]))\n",
    "    t.append(0.33*0.25*(tw[i]*(t1w[i]*scstindex[i]+fw[i]*scstfindex[i])))\n",
    "    inf.append(0.33*0.25*(iw[i]*infindex[i]))\n",
    "    unirr.append(0.33*0.25*unirrindex[i])\n",
    "    illite.append(0.33*0.25*((millit[i]/illit[i])*illitindex[i]+(1-(millit[i]/illit[i]))*millitindex[i]))\n",
    "    fworker.append(0.33*0.25*fworkindex[i])"
   ]
  },
  {
   "cell_type": "code",
   "execution_count": 27,
   "metadata": {},
   "outputs": [],
   "source": [
    "S=[]\n",
    "for i in range(33):\n",
    "    S.append(pin[i]+t[i]+inf[i]+unirr[i]+illite[i]+fworker[i])"
   ]
  },
  {
   "cell_type": "code",
   "execution_count": 29,
   "metadata": {},
   "outputs": [],
   "source": [
    "#adaptive capacity\n",
    "a=[0]\n",
    "income=[0]\n",
    "m=[0]\n",
    "w=[0]\n",
    "lite=[0]\n",
    "for i in range(1,33):\n",
    "    a.append(0.33*0.2*0.33*(powerindex[i]+irrindex[i]+alworkindex[i]))\n",
    "    income.append(0.33*0.2*incindex[i])\n",
    "    if(sdr[i]>=pdr[i]):\n",
    "        m.append(0.33*0.2*(0.5*hospindex[i]+0.5*(sdr[i]/(sdr[i]+pdr[i]))*sdrindex[i]+0.5*(pdr[i]/(sdr[i]+pdr[i]))*pdrindex[i]))\n",
    "    else:\n",
    "        m.append(0.33*0.2*(0.5*hospindex[i]+0.5*(pdr[i]/(sdr[i]+pdr[i]))*sdrindex[i]+0.5*(sdr[i]/(sdr[i]+pdr[i]))*pdrindex[i]))\n",
    "    if(aworker[i]>=mworker[i]):\n",
    "        w.append(0.33*0.2*((aworker[i]/(aworker[i]+mworker[i]))*aworkindex[i]+(mworker[i]/(aworker[i]+mworker[i]))*mworkindex[i]))\n",
    "    else:\n",
    "        w.append(0.33*0.2*((mworker[i]/(aworker[i]+mworker[i]))*aworkindex[i]+(aworker[i]/(aworker[i]+mworker[i]))*mworkindex[i]))\n",
    "    lite.append(0.33*0.2*litindex[i])"
   ]
  },
  {
   "cell_type": "code",
   "execution_count": 30,
   "metadata": {},
   "outputs": [],
   "source": [
    "A=[]\n",
    "for i in range(33):\n",
    "    A.append(a[i]+income[i]+m[i]+w[i]+lite[i])"
   ]
  },
  {
   "cell_type": "code",
   "execution_count": 31,
   "metadata": {},
   "outputs": [],
   "source": [
    "import pandas as pd\n",
    "exp = pd.read_excel(r\"D:\\rlindex-1951-1980-rj.xlsx\")"
   ]
  },
  {
   "cell_type": "code",
   "execution_count": 33,
   "metadata": {},
   "outputs": [],
   "source": [
    "E1 = 0.33*0.25*(exp['r1index'][:-1]+exp['r2index'][:-1]+exp['r3index'][:-1]+exp['r5index'][:-1])\n",
    "E=[0]\n",
    "for i in range(32):\n",
    "    E.append(E1[i])"
   ]
  },
  {
   "cell_type": "code",
   "execution_count": 34,
   "metadata": {},
   "outputs": [],
   "source": [
    "V = []\n",
    "for i in range(33):\n",
    "    V.append(S[i]+E[i]-A[i])"
   ]
  },
  {
   "cell_type": "code",
   "execution_count": 36,
   "metadata": {},
   "outputs": [],
   "source": [
    "districts['code']=[i for i in range(33)]"
   ]
  },
  {
   "cell_type": "code",
   "execution_count": 48,
   "metadata": {},
   "outputs": [
    {
     "data": {
      "text/plain": [
       "[0,\n",
       " 0.08450129311352203,\n",
       " 0.1522807629742356,\n",
       " 0.2972473803401023,\n",
       " 0.17313016128919922,\n",
       " 0.06442172075636893,\n",
       " 0.10866998764221836,\n",
       " 0.16163469526092183,\n",
       " 0.20568344099926028,\n",
       " 0.2556077047527544,\n",
       " 0.2982416087737534,\n",
       " 0.31002497113926314,\n",
       " 0.15757255092076905,\n",
       " 0.1980056850241975,\n",
       " 0.17805639289731007,\n",
       " 0.22962342561144525,\n",
       " 0.12584937490343853,\n",
       " 0.15440968140730088,\n",
       " 0.2030473001906019,\n",
       " 0.16459299417438472,\n",
       " 0.16469886799403352,\n",
       " 0.12569427396882507,\n",
       " 0.1448127917714468,\n",
       " 0.1626921096291771,\n",
       " 0.20448303902788434,\n",
       " 0.19478469446139088,\n",
       " 0.22215082084836646,\n",
       " 0.23158975726605802,\n",
       " 0.2586446465934967,\n",
       " 0.2809036377046729,\n",
       " 0.224271554261597,\n",
       " 0.2560309350821233,\n",
       " 0.2637074609480599]"
      ]
     },
     "execution_count": 48,
     "metadata": {},
     "output_type": "execute_result"
    }
   ],
   "source": [
    "V"
   ]
  },
  {
   "cell_type": "code",
   "execution_count": 37,
   "metadata": {},
   "outputs": [],
   "source": [
    "districts['vindex1']=V\n",
    "dist = districts[['code','vindex1']]\n",
    "data_for_map = dist.rename(index=str, columns={'code':'C','vindex1':'vulnerability'})\n",
    "merged = districts.set_index('TOT_P').join(data_for_map.set_index('C'))"
   ]
  },
  {
   "cell_type": "code",
   "execution_count": 38,
   "metadata": {},
   "outputs": [
    {
     "data": {
      "text/plain": [
       "<matplotlib.axes._subplots.AxesSubplot at 0x2730771ec88>"
      ]
     },
     "execution_count": 38,
     "metadata": {},
     "output_type": "execute_result"
    },
    {
     "data": {
      "image/png": "[encoded data removed]",
      "text/plain": [
       "<Figure size 720x432 with 1 Axes>"
      ]
     },
     "metadata": {
      "needs_background": "light"
     },
     "output_type": "display_data"
    }
   ],
   "source": [
    "variable = 'vindex1'\n",
    "# set the range for the choropleth\n",
    "# create figure and axes for Matplotlib\n",
    "fig, ax = plt.subplots(1, figsize=(10, 6))                                                                                 \n",
    "merged.plot(column=variable, cmap='Oranges', linewidth=0.8, ax=ax, edgecolor='0.8')"
   ]
  }
 ],
 "metadata": {
  "kernelspec": {
   "display_name": "Python 3",
   "language": "python",
   "name": "python3"
  },
  "language_info": {
   "codemirror_mode": {
    "name": "ipython",
    "version": 3
   },
   "file_extension": ".py",
   "mimetype": "text/x-python",
   "name": "python",
   "nbconvert_exporter": "python",
   "pygments_lexer": "ipython3",
   "version": "3.6.5"
  }
 },
 "nbformat": 4,
 "nbformat_minor": 2
}
