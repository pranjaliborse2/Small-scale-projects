{
 "cells": [
  {
   "cell_type": "code",
   "execution_count": 1,
   "metadata": {},
   "outputs": [],
   "source": [
    "import xarray as xr\n",
    "import os\n",
    "data = xr.open_dataset(r\"C:\\Users\\Pranjali\\Downloads\\BNU_ESM_RCP_85_bcsd_2006_2100.nc\")"
   ]
  },
  {
   "cell_type": "code",
   "execution_count": 2,
   "metadata": {
    "scrolled": true
   },
   "outputs": [
    {
     "data": {
      "text/plain": [
       "<xarray.Dataset>\n",
       "Dimensions:                        (lat: 117, lon: 118, time: 34675)\n",
       "Coordinates:\n",
       "  * lat                            (lat) float64 8.25 8.5 8.75 ... 37.0 37.25\n",
       "  * time                           (time) object 2006-01-01 00:00:00 ... 2100-12-31 00:00:00\n",
       "  * lon                            (lon) float64 68.0 68.25 68.5 ... 97.0 97.25\n",
       "Data variables:\n",
       "    BNU_ESM_RCP_85_bcsd_2006_2100  (time, lat, lon) float64 ...\n",
       "Attributes:\n",
       "    units:    mm/day\n",
       "    rcp:      BNU_ESM_RCP_85"
      ]
     },
     "execution_count": 2,
     "metadata": {},
     "output_type": "execute_result"
    }
   ],
   "source": [
    "data"
   ]
  },
  {
   "cell_type": "code",
   "execution_count": 2,
   "metadata": {},
   "outputs": [],
   "source": [
    "t= data['BNU_ESM_RCP_85_bcsd_2006_2100']"
   ]
  },
  {
   "cell_type": "code",
   "execution_count": 3,
   "metadata": {},
   "outputs": [],
   "source": [
    "from rpy2.robjects.packages import importr\n",
    "utils = importr(\"utils\")\n",
    "extremes = importr(\"extRemes\")\n",
    "ismev = importr(\"ismev\")\n",
    "eva = importr(\"eva\")\n",
    "gnFit = importr(\"gnFit\")\n",
    "from netCDF4 import Dataset\n",
    "import xarray as xr\n",
    "import matplotlib.pyplot as plt\n",
    "import time\n",
    "import numpy as np\n",
    "import pandas as pd\n",
    "from datetime import datetime\n",
    "from matplotlib.offsetbox import AnchoredText\n",
    "from netCDF4 import num2date, date2num\n",
    "statis = importr('stats')\n",
    "import rpy2.robjects.numpy2ri\n",
    "rpy2.robjects.numpy2ri.activate()"
   ]
  },
  {
   "cell_type": "code",
   "execution_count": 4,
   "metadata": {},
   "outputs": [],
   "source": [
    "climate1 = t.sel(time = slice('2006-01-01','2080-12-31'))"
   ]
  },
  {
   "cell_type": "code",
   "execution_count": 5,
   "metadata": {},
   "outputs": [],
   "source": [
    "climate = climate1.where(climate1>=0)"
   ]
  },
  {
   "cell_type": "code",
   "execution_count": null,
   "metadata": {},
   "outputs": [],
   "source": [
    "ppt = climate.rolling(time=2).sum()\n",
    "maxima1 = ppt.groupby('time.year').max('time')\n",
    "rlv1=[]\n",
    "rlv301=[]\n",
    "paramlist1=[]\n",
    "lon1=[]\n",
    "lat1=[]\n",
    "for i in range(117):\n",
    "    for j in range(118):\n",
    "\n",
    "        maxima11 = maxima1.sel(lat=data.lat[i],lon=data.lon[j])\n",
    "        params1 = {}    \n",
    "        if(maxima11.values[1]>0):\n",
    "            #RL2 = []\n",
    "            block_maxima=maxima11.values[~np.isnan(maxima11.values)]\n",
    "            try:\n",
    "                gev_fit =  eva.gevrFit(block_maxima)\n",
    "            except:\n",
    "                pass\n",
    "            MLE_est = list(gev_fit.rx2('par.ests'))\n",
    "\n",
    "            #print(block_maxima)\n",
    "\n",
    "\n",
    "            params1['location'] = MLE_est[0]\n",
    "\n",
    "            params1['scale'] =  MLE_est[1] \n",
    "\n",
    "            params1['shape'] = MLE_est[2]\n",
    "\n",
    "            if MLE_est[1]<0:\n",
    "                MLE_est[1] = 0.01\n",
    "\n",
    "            y = eva.rgevr(10000, 1, loc = MLE_est[0], scale = MLE_est[1], shape = MLE_est[2])\n",
    "\n",
    "            sig_test = statis.ks_test(block_maxima, y)\n",
    "\n",
    "            params1['p_val'] = sig_test.rx2('p.value')[0]\n",
    "            paramlist1.append(params1)\n",
    "\n",
    "    #print(params)\n",
    "  \n",
    "\n",
    "\n",
    "            if params1['p_val']>0.05:\n",
    "\n",
    "                temp = eva.gevrRl(gev_fit, 100, method = \"delta\")\n",
    "                temp1 = eva.gevrRl(gev_fit, 30, method = \"delta\")\n",
    "                RL1 = temp.rx2('Estimate')[0]\n",
    "                RL301 = temp1.rx2('Estimate')[0]\n",
    "#n['RLV2'][i][j] = RL2\n",
    "\n",
    "            else:\n",
    "                params1['p_val'] = np.nan\n",
    "                params1['location'] = np.nan\n",
    "                params1['scale'] = np.nan\n",
    "                params1['shape'] = np.nan\n",
    "            #print(RL2,climate.lat.values[i],climate.lon.values[j])\n",
    "            rlv1.append(RL1)\n",
    "            rlv301.append(RL301)\n",
    "            lat1.append(data.lat.values[i])\n",
    "            lon1.append(data.lon.values[j])\n",
    "#n['RLV2'][i][j] = np.nan\n",
    "#print(RL2)\n",
    "        else:\n",
    "            params1['p_val'] = np.nan\n",
    "            params1['location'] = np.nan\n",
    "            params1['scale'] = np.nan\n",
    "            params1['shape'] = np.nan\n",
    "df1 = pd.DataFrame({'rlv2':rlv1,'rlv302':rlv301,'lat1':lat1,'lon1':lon1})"
   ]
  },
  {
   "cell_type": "code",
   "execution_count": 6,
   "metadata": {},
   "outputs": [
    {
     "ename": "NameError",
     "evalue": "name 'df1' is not defined",
     "output_type": "error",
     "traceback": [
      "\u001b[1;31m---------------------------------------------------------------------------\u001b[0m",
      "\u001b[1;31mNameError\u001b[0m                                 Traceback (most recent call last)",
      "\u001b[1;32m<ipython-input-6-2ec1b9a07be5>\u001b[0m in \u001b[0;36m<module>\u001b[1;34m\u001b[0m\n\u001b[1;32m----> 1\u001b[1;33m \u001b[0mds1\u001b[0m\u001b[1;33m=\u001b[0m \u001b[0mdf1\u001b[0m\u001b[1;33m.\u001b[0m\u001b[0mset_index\u001b[0m\u001b[1;33m(\u001b[0m\u001b[1;33m[\u001b[0m\u001b[1;34m'lat1'\u001b[0m\u001b[1;33m,\u001b[0m\u001b[1;34m'lon1'\u001b[0m\u001b[1;33m]\u001b[0m\u001b[1;33m)\u001b[0m\u001b[1;33m.\u001b[0m\u001b[0mto_xarray\u001b[0m\u001b[1;33m(\u001b[0m\u001b[1;33m)\u001b[0m\u001b[1;33m\u001b[0m\u001b[0m\n\u001b[0m\u001b[0;32m      2\u001b[0m \u001b[0mds1\u001b[0m\u001b[1;33m.\u001b[0m\u001b[0mto_netcdf\u001b[0m\u001b[1;33m(\u001b[0m\u001b[0mpath\u001b[0m\u001b[1;33m=\u001b[0m\u001b[1;34mr'D:\\BNUESM5-2006-2050-30100.nc'\u001b[0m\u001b[1;33m)\u001b[0m\u001b[1;33m\u001b[0m\u001b[0m\n",
      "\u001b[1;31mNameError\u001b[0m: name 'df1' is not defined"
     ]
    }
   ],
   "source": [
    "ds1= df1.set_index(['lat1','lon1']).to_xarray()\n",
    "ds1.to_netcdf(path=r'D:\\BNUESM5-2006-2050-30100.nc')"
   ]
  }
 ],
 "metadata": {
  "kernelspec": {
   "display_name": "Python 3",
   "language": "python",
   "name": "python3"
  },
  "language_info": {
   "codemirror_mode": {
    "name": "ipython",
    "version": 3
   },
   "file_extension": ".py",
   "mimetype": "text/x-python",
   "name": "python",
   "nbconvert_exporter": "python",
   "pygments_lexer": "ipython3",
   "version": "3.6.5"
  }
 },
 "nbformat": 4,
 "nbformat_minor": 2
}
