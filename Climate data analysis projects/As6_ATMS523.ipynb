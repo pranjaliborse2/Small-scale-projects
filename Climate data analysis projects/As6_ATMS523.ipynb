{
 "cells": [
  {
   "cell_type": "code",
   "execution_count": 4,
   "metadata": {},
   "outputs": [],
   "source": [
    "import pandas as pd\n",
    "\n",
    "enso = pd.read_csv('https://www.esrl.noaa.gov/psd/data/correlation/censo.data',\n",
    "                    delim_whitespace=True,header=None,skiprows=1,skipfooter=2, engine='python')\n",
    "pdo = pd.read_csv('https://www.esrl.noaa.gov/psd/data/correlation/pdo.data',\n",
    "                    delim_whitespace=True,header=None,skiprows=1,skipfooter=14, engine='python')\n",
    "nao = pd.read_csv('https://www.esrl.noaa.gov/psd/data/correlation/nao.data',\n",
    "                    delim_whitespace=True,header=None,skiprows=1,skipfooter=3, engine='python')\n",
    "ao = pd.read_csv('https://www.esrl.noaa.gov/psd/data/correlation/ao.data',\n",
    "                    delim_whitespace=True,header=None,skiprows=1,skipfooter=3, engine='python')\n",
    "tornado = pd.read_csv('https://www.spc.noaa.gov/wcm/data/1950-2021_actual_tornadoes.csv', engine='python')"
   ]
  },
  {
   "cell_type": "code",
   "execution_count": 5,
   "metadata": {},
   "outputs": [
    {
     "name": "stderr",
     "output_type": "stream",
     "text": [
      "The pandas.datetime class is deprecated and will be removed from pandas in a future version. Import from datetime module instead.\n",
      "The pandas.datetime class is deprecated and will be removed from pandas in a future version. Import from datetime module instead.\n",
      "The pandas.datetime class is deprecated and will be removed from pandas in a future version. Import from datetime module instead.\n",
      "The pandas.datetime class is deprecated and will be removed from pandas in a future version. Import from datetime module instead.\n",
      "The pandas.datetime class is deprecated and will be removed from pandas in a future version. Import from datetime module instead.\n",
      "The pandas.datetime class is deprecated and will be removed from pandas in a future version. Import from datetime module instead.\n",
      "The pandas.datetime class is deprecated and will be removed from pandas in a future version. Import from datetime module instead.\n",
      "The pandas.datetime class is deprecated and will be removed from pandas in a future version. Import from datetime module instead.\n"
     ]
    }
   ],
   "source": [
    "nao_new=pd.DataFrame()\n",
    "pdo_new=pd.DataFrame()\n",
    "ao_new=pd.DataFrame()\n",
    "enso_new=pd.DataFrame()\n",
    "\n",
    "enso_new['Date']=pd.date_range(start=pd.datetime(1948,1,1),\n",
    "                                end=pd.datetime(2022,12,1),freq=\"MS\")\n",
    "nao_new['Date'] = pd.date_range(start=pd.datetime(1948,1,1),\n",
    "                                end=pd.datetime(2022,12,1),freq=\"MS\")\n",
    "pdo_new['Date'] = pd.date_range(start=pd.datetime(1948,1,1),\n",
    "                                end=pd.datetime(2022,12,1),freq=\"MS\")\n",
    "ao_new['Date'] = pd.date_range(start=pd.datetime(1950,1,1),\n",
    "                                end=pd.datetime(2022,12,1),freq=\"MS\")\n",
    "\n",
    "enso_new = enso_new.set_index('Date')\n",
    "nao_new = nao_new.set_index('Date')\n",
    "pdo_new = pdo_new.set_index('Date')\n",
    "ao_new = ao_new.set_index('Date')\n",
    "\n",
    "enso_new['ENSO']=enso.loc[:,1:].stack().values\n",
    "nao_new['NAO']=nao.loc[:,1:].stack().values\n",
    "pdo_new['PDO']=pdo.loc[:,1:].stack().values\n",
    "ao_new['AO']=ao.loc[:,1:].stack().values"
   ]
  },
  {
   "cell_type": "code",
   "execution_count": 6,
   "metadata": {},
   "outputs": [],
   "source": [
    "tornado['count']=[1 for i in range(len(tornado))]\n",
    "tornado1 = tornado[tornado['st'].isin(['IL','IN','WI','MI','MS','IA','MN'])]\n",
    "tornado1 = tornado1['count'].groupby([tornado.yr,tornado.mo]).sum()"
   ]
  },
  {
   "cell_type": "code",
   "execution_count": 24,
   "metadata": {},
   "outputs": [
    {
     "data": {
      "text/plain": [
       "yr    mo\n",
       "1950  1       2\n",
       "      2       2\n",
       "      3       8\n",
       "      4       1\n",
       "      5       4\n",
       "           ... \n",
       "2021  7      59\n",
       "      8      78\n",
       "      9       7\n",
       "      10     27\n",
       "      12    107\n",
       "Name: count, Length: 751, dtype: int64"
      ]
     },
     "execution_count": 24,
     "metadata": {},
     "output_type": "execute_result"
    }
   ],
   "source": [
    "tornado1"
   ]
  },
  {
   "cell_type": "code",
   "execution_count": 7,
   "metadata": {},
   "outputs": [],
   "source": [
    "import numpy as np\n",
    "newdf_all = pd.merge(enso_new,pdo_new, \n",
    "                    left_index=True, right_index=True)\n",
    "newdf_all['PDO'][newdf_all['PDO'] <= -9.9] = np.nan\n",
    "newdf_all['ENSO'][newdf_all['ENSO'] <= -9.9] = np.nan\n",
    "newdf_all = pd.merge(newdf_all,nao_new, \n",
    "                    left_index=True, right_index=True)\n",
    "newdf_all['NAO'][newdf_all['NAO'] <= -99.9] = np.nan\n",
    "newdf_all = pd.merge(newdf_all,ao_new, \n",
    "                    left_index=True, right_index=True)\n",
    "newdf_all['AO'][newdf_all['AO'] <= -99.9] = np.nan\n"
   ]
  },
  {
   "cell_type": "code",
   "execution_count": 8,
   "metadata": {},
   "outputs": [],
   "source": [
    "newdf_all.index = pd.MultiIndex.from_arrays([newdf_all.index.year, \n",
    "                                            newdf_all.index.month], \n",
    "                                            names=['yr','mo'])"
   ]
  },
  {
   "cell_type": "code",
   "execution_count": 9,
   "metadata": {},
   "outputs": [],
   "source": [
    "newdf1 = pd.merge(newdf_all,tornado1, \n",
    "                    left_index=True, right_index=True)"
   ]
  },
  {
   "cell_type": "code",
   "execution_count": 30,
   "metadata": {},
   "outputs": [
    {
     "data": {
      "text/html": [
       "<div>\n",
       "<style scoped>\n",
       "    .dataframe tbody tr th:only-of-type {\n",
       "        vertical-align: middle;\n",
       "    }\n",
       "\n",
       "    .dataframe tbody tr th {\n",
       "        vertical-align: top;\n",
       "    }\n",
       "\n",
       "    .dataframe thead th {\n",
       "        text-align: right;\n",
       "    }\n",
       "</style>\n",
       "<table border=\"1\" class=\"dataframe\">\n",
       "  <thead>\n",
       "    <tr style=\"text-align: right;\">\n",
       "      <th></th>\n",
       "      <th></th>\n",
       "      <th>ENSO</th>\n",
       "      <th>PDO</th>\n",
       "      <th>NAO</th>\n",
       "      <th>AO</th>\n",
       "      <th>count</th>\n",
       "    </tr>\n",
       "    <tr>\n",
       "      <th>yr</th>\n",
       "      <th>mo</th>\n",
       "      <th></th>\n",
       "      <th></th>\n",
       "      <th></th>\n",
       "      <th></th>\n",
       "      <th></th>\n",
       "    </tr>\n",
       "  </thead>\n",
       "  <tbody>\n",
       "    <tr>\n",
       "      <th rowspan=\"5\" valign=\"top\">1950</th>\n",
       "      <th>1</th>\n",
       "      <td>-0.74</td>\n",
       "      <td>-2.13</td>\n",
       "      <td>0.56</td>\n",
       "      <td>-0.060</td>\n",
       "      <td>2</td>\n",
       "    </tr>\n",
       "    <tr>\n",
       "      <th>2</th>\n",
       "      <td>-1.70</td>\n",
       "      <td>-2.91</td>\n",
       "      <td>0.01</td>\n",
       "      <td>0.627</td>\n",
       "      <td>2</td>\n",
       "    </tr>\n",
       "    <tr>\n",
       "      <th>3</th>\n",
       "      <td>-1.43</td>\n",
       "      <td>-1.13</td>\n",
       "      <td>-0.78</td>\n",
       "      <td>-0.008</td>\n",
       "      <td>8</td>\n",
       "    </tr>\n",
       "    <tr>\n",
       "      <th>4</th>\n",
       "      <td>-1.29</td>\n",
       "      <td>-1.20</td>\n",
       "      <td>0.65</td>\n",
       "      <td>0.555</td>\n",
       "      <td>1</td>\n",
       "    </tr>\n",
       "    <tr>\n",
       "      <th>5</th>\n",
       "      <td>-1.22</td>\n",
       "      <td>-2.23</td>\n",
       "      <td>-0.50</td>\n",
       "      <td>0.072</td>\n",
       "      <td>4</td>\n",
       "    </tr>\n",
       "    <tr>\n",
       "      <th>...</th>\n",
       "      <th>...</th>\n",
       "      <td>...</td>\n",
       "      <td>...</td>\n",
       "      <td>...</td>\n",
       "      <td>...</td>\n",
       "      <td>...</td>\n",
       "    </tr>\n",
       "    <tr>\n",
       "      <th rowspan=\"5\" valign=\"top\">2021</th>\n",
       "      <th>7</th>\n",
       "      <td>-1.05</td>\n",
       "      <td>-1.87</td>\n",
       "      <td>0.06</td>\n",
       "      <td>0.625</td>\n",
       "      <td>59</td>\n",
       "    </tr>\n",
       "    <tr>\n",
       "      <th>8</th>\n",
       "      <td>-0.73</td>\n",
       "      <td>-1.12</td>\n",
       "      <td>-0.49</td>\n",
       "      <td>-0.217</td>\n",
       "      <td>78</td>\n",
       "    </tr>\n",
       "    <tr>\n",
       "      <th>9</th>\n",
       "      <td>-0.70</td>\n",
       "      <td>-1.53</td>\n",
       "      <td>-0.06</td>\n",
       "      <td>-0.247</td>\n",
       "      <td>7</td>\n",
       "    </tr>\n",
       "    <tr>\n",
       "      <th>10</th>\n",
       "      <td>-1.04</td>\n",
       "      <td>-2.55</td>\n",
       "      <td>-1.98</td>\n",
       "      <td>-0.139</td>\n",
       "      <td>27</td>\n",
       "    </tr>\n",
       "    <tr>\n",
       "      <th>12</th>\n",
       "      <td>-1.60</td>\n",
       "      <td>-2.00</td>\n",
       "      <td>0.18</td>\n",
       "      <td>0.201</td>\n",
       "      <td>107</td>\n",
       "    </tr>\n",
       "  </tbody>\n",
       "</table>\n",
       "<p>751 rows × 5 columns</p>\n",
       "</div>"
      ],
      "text/plain": [
       "         ENSO   PDO   NAO     AO  count\n",
       "yr   mo                                \n",
       "1950 1  -0.74 -2.13  0.56 -0.060      2\n",
       "     2  -1.70 -2.91  0.01  0.627      2\n",
       "     3  -1.43 -1.13 -0.78 -0.008      8\n",
       "     4  -1.29 -1.20  0.65  0.555      1\n",
       "     5  -1.22 -2.23 -0.50  0.072      4\n",
       "...       ...   ...   ...    ...    ...\n",
       "2021 7  -1.05 -1.87  0.06  0.625     59\n",
       "     8  -0.73 -1.12 -0.49 -0.217     78\n",
       "     9  -0.70 -1.53 -0.06 -0.247      7\n",
       "     10 -1.04 -2.55 -1.98 -0.139     27\n",
       "     12 -1.60 -2.00  0.18  0.201    107\n",
       "\n",
       "[751 rows x 5 columns]"
      ]
     },
     "execution_count": 30,
     "metadata": {},
     "output_type": "execute_result"
    }
   ],
   "source": [
    "newdf1"
   ]
  },
  {
   "cell_type": "code",
   "execution_count": 10,
   "metadata": {},
   "outputs": [],
   "source": [
    "from sklearn.model_selection import train_test_split\n",
    "X_train, X_test, y_train, y_test = train_test_split(newdf1.drop(['count'], axis=1),\n",
    "                                                    newdf1['count'],\n",
    "                                                    test_size=0.2,\n",
    "                                                    random_state=0)"
   ]
  },
  {
   "cell_type": "code",
   "execution_count": 13,
   "metadata": {},
   "outputs": [],
   "source": [
    "# for feature engineering\n",
    "from sklearn.preprocessing import StandardScaler\n",
    "from feature_engine import imputation as mdi\n",
    "from feature_engine import discretisation as dsc\n",
    "from feature_engine import encoding as ce\n",
    "from sklearn.pipeline import Pipeline\n",
    "from sklearn.ensemble import RandomForestRegressor\n",
    "\n",
    "tornado_pipe = Pipeline([   \n",
    "        ('missing_ind', mdi.AddMissingIndicator(\n",
    "        variables=['ENSO', 'PDO',  'NAO','AO'])),\n",
    "        (\"RF\", RandomForestRegressor(500)),\n",
    "    ]\n",
    ")"
   ]
  },
  {
   "cell_type": "code",
   "execution_count": 15,
   "metadata": {},
   "outputs": [
    {
     "name": "stdout",
     "output_type": "stream",
     "text": [
      "R^2 before one hot encoding on months= 0.08839170554918678\n",
      "RMSE= 18.64824896135032\n"
     ]
    },
    {
     "data": {
      "text/plain": [
       "Text(0, 0.5, 'predicted output')"
      ]
     },
     "execution_count": 15,
     "metadata": {},
     "output_type": "execute_result"
    },
    {
     "data": {
      "image/png": "[encoded data removed]",
      "text/plain": [
       "<Figure size 432x288 with 1 Axes>"
      ]
     },
     "metadata": {
      "needs_background": "light"
     },
     "output_type": "display_data"
    }
   ],
   "source": [
    "\n",
    "import matplotlib.pyplot as plt\n",
    "from scipy.stats import pearsonr\n",
    "import math\n",
    "import sklearn.metrics \n",
    "\n",
    "tornado_pipe.fit(X_train, y_train)\n",
    "\n",
    "# let's get the predictions\n",
    "X_train_preds = tornado_pipe.predict(X_train)\n",
    "X_test_preds = tornado_pipe.predict(X_test)\n",
    "\n",
    "print('R^2 before one hot encoding on months=',\n",
    "        pearsonr(y_test,X_test_preds)[0])\n",
    "print('RMSE=',\n",
    "        math.sqrt(sklearn.metrics.mean_squared_error(X_test_preds,y_test)))\n",
    "plt.scatter(y_test, X_test_preds);\n",
    "plt.xlabel('testing dataset')\n",
    "plt.ylabel('predicted output')"
   ]
  },
  {
   "cell_type": "code",
   "execution_count": 16,
   "metadata": {},
   "outputs": [],
   "source": [
    "from sklearn.preprocessing import OneHotEncoder\n",
    "newdf2 = newdf1.reset_index(level=[1])\n",
    "onehot_encoder = OneHotEncoder(handle_unknown='ignore')\n",
    "onehot_encoded = pd.DataFrame(onehot_encoder.fit_transform(newdf2[['mo']]).toarray(),\n",
    "                            columns=[str(i) for i in range(12)])\n",
    "onehot_encoded.index= newdf2.index"
   ]
  },
  {
   "cell_type": "code",
   "execution_count": 17,
   "metadata": {},
   "outputs": [
    {
     "data": {
      "text/html": [
       "<div>\n",
       "<style scoped>\n",
       "    .dataframe tbody tr th:only-of-type {\n",
       "        vertical-align: middle;\n",
       "    }\n",
       "\n",
       "    .dataframe tbody tr th {\n",
       "        vertical-align: top;\n",
       "    }\n",
       "\n",
       "    .dataframe thead th {\n",
       "        text-align: right;\n",
       "    }\n",
       "</style>\n",
       "<table border=\"1\" class=\"dataframe\">\n",
       "  <thead>\n",
       "    <tr style=\"text-align: right;\">\n",
       "      <th></th>\n",
       "      <th>0</th>\n",
       "      <th>1</th>\n",
       "      <th>2</th>\n",
       "      <th>3</th>\n",
       "      <th>4</th>\n",
       "      <th>5</th>\n",
       "      <th>6</th>\n",
       "      <th>7</th>\n",
       "      <th>8</th>\n",
       "      <th>9</th>\n",
       "      <th>10</th>\n",
       "      <th>11</th>\n",
       "    </tr>\n",
       "    <tr>\n",
       "      <th>yr</th>\n",
       "      <th></th>\n",
       "      <th></th>\n",
       "      <th></th>\n",
       "      <th></th>\n",
       "      <th></th>\n",
       "      <th></th>\n",
       "      <th></th>\n",
       "      <th></th>\n",
       "      <th></th>\n",
       "      <th></th>\n",
       "      <th></th>\n",
       "      <th></th>\n",
       "    </tr>\n",
       "  </thead>\n",
       "  <tbody>\n",
       "    <tr>\n",
       "      <th>1950</th>\n",
       "      <td>1.0</td>\n",
       "      <td>0.0</td>\n",
       "      <td>0.0</td>\n",
       "      <td>0.0</td>\n",
       "      <td>0.0</td>\n",
       "      <td>0.0</td>\n",
       "      <td>0.0</td>\n",
       "      <td>0.0</td>\n",
       "      <td>0.0</td>\n",
       "      <td>0.0</td>\n",
       "      <td>0.0</td>\n",
       "      <td>0.0</td>\n",
       "    </tr>\n",
       "    <tr>\n",
       "      <th>1950</th>\n",
       "      <td>0.0</td>\n",
       "      <td>1.0</td>\n",
       "      <td>0.0</td>\n",
       "      <td>0.0</td>\n",
       "      <td>0.0</td>\n",
       "      <td>0.0</td>\n",
       "      <td>0.0</td>\n",
       "      <td>0.0</td>\n",
       "      <td>0.0</td>\n",
       "      <td>0.0</td>\n",
       "      <td>0.0</td>\n",
       "      <td>0.0</td>\n",
       "    </tr>\n",
       "    <tr>\n",
       "      <th>1950</th>\n",
       "      <td>0.0</td>\n",
       "      <td>0.0</td>\n",
       "      <td>1.0</td>\n",
       "      <td>0.0</td>\n",
       "      <td>0.0</td>\n",
       "      <td>0.0</td>\n",
       "      <td>0.0</td>\n",
       "      <td>0.0</td>\n",
       "      <td>0.0</td>\n",
       "      <td>0.0</td>\n",
       "      <td>0.0</td>\n",
       "      <td>0.0</td>\n",
       "    </tr>\n",
       "    <tr>\n",
       "      <th>1950</th>\n",
       "      <td>0.0</td>\n",
       "      <td>0.0</td>\n",
       "      <td>0.0</td>\n",
       "      <td>1.0</td>\n",
       "      <td>0.0</td>\n",
       "      <td>0.0</td>\n",
       "      <td>0.0</td>\n",
       "      <td>0.0</td>\n",
       "      <td>0.0</td>\n",
       "      <td>0.0</td>\n",
       "      <td>0.0</td>\n",
       "      <td>0.0</td>\n",
       "    </tr>\n",
       "    <tr>\n",
       "      <th>1950</th>\n",
       "      <td>0.0</td>\n",
       "      <td>0.0</td>\n",
       "      <td>0.0</td>\n",
       "      <td>0.0</td>\n",
       "      <td>1.0</td>\n",
       "      <td>0.0</td>\n",
       "      <td>0.0</td>\n",
       "      <td>0.0</td>\n",
       "      <td>0.0</td>\n",
       "      <td>0.0</td>\n",
       "      <td>0.0</td>\n",
       "      <td>0.0</td>\n",
       "    </tr>\n",
       "    <tr>\n",
       "      <th>...</th>\n",
       "      <td>...</td>\n",
       "      <td>...</td>\n",
       "      <td>...</td>\n",
       "      <td>...</td>\n",
       "      <td>...</td>\n",
       "      <td>...</td>\n",
       "      <td>...</td>\n",
       "      <td>...</td>\n",
       "      <td>...</td>\n",
       "      <td>...</td>\n",
       "      <td>...</td>\n",
       "      <td>...</td>\n",
       "    </tr>\n",
       "    <tr>\n",
       "      <th>2021</th>\n",
       "      <td>0.0</td>\n",
       "      <td>0.0</td>\n",
       "      <td>0.0</td>\n",
       "      <td>0.0</td>\n",
       "      <td>0.0</td>\n",
       "      <td>0.0</td>\n",
       "      <td>1.0</td>\n",
       "      <td>0.0</td>\n",
       "      <td>0.0</td>\n",
       "      <td>0.0</td>\n",
       "      <td>0.0</td>\n",
       "      <td>0.0</td>\n",
       "    </tr>\n",
       "    <tr>\n",
       "      <th>2021</th>\n",
       "      <td>0.0</td>\n",
       "      <td>0.0</td>\n",
       "      <td>0.0</td>\n",
       "      <td>0.0</td>\n",
       "      <td>0.0</td>\n",
       "      <td>0.0</td>\n",
       "      <td>0.0</td>\n",
       "      <td>1.0</td>\n",
       "      <td>0.0</td>\n",
       "      <td>0.0</td>\n",
       "      <td>0.0</td>\n",
       "      <td>0.0</td>\n",
       "    </tr>\n",
       "    <tr>\n",
       "      <th>2021</th>\n",
       "      <td>0.0</td>\n",
       "      <td>0.0</td>\n",
       "      <td>0.0</td>\n",
       "      <td>0.0</td>\n",
       "      <td>0.0</td>\n",
       "      <td>0.0</td>\n",
       "      <td>0.0</td>\n",
       "      <td>0.0</td>\n",
       "      <td>1.0</td>\n",
       "      <td>0.0</td>\n",
       "      <td>0.0</td>\n",
       "      <td>0.0</td>\n",
       "    </tr>\n",
       "    <tr>\n",
       "      <th>2021</th>\n",
       "      <td>0.0</td>\n",
       "      <td>0.0</td>\n",
       "      <td>0.0</td>\n",
       "      <td>0.0</td>\n",
       "      <td>0.0</td>\n",
       "      <td>0.0</td>\n",
       "      <td>0.0</td>\n",
       "      <td>0.0</td>\n",
       "      <td>0.0</td>\n",
       "      <td>1.0</td>\n",
       "      <td>0.0</td>\n",
       "      <td>0.0</td>\n",
       "    </tr>\n",
       "    <tr>\n",
       "      <th>2021</th>\n",
       "      <td>0.0</td>\n",
       "      <td>0.0</td>\n",
       "      <td>0.0</td>\n",
       "      <td>0.0</td>\n",
       "      <td>0.0</td>\n",
       "      <td>0.0</td>\n",
       "      <td>0.0</td>\n",
       "      <td>0.0</td>\n",
       "      <td>0.0</td>\n",
       "      <td>0.0</td>\n",
       "      <td>0.0</td>\n",
       "      <td>1.0</td>\n",
       "    </tr>\n",
       "  </tbody>\n",
       "</table>\n",
       "<p>751 rows × 12 columns</p>\n",
       "</div>"
      ],
      "text/plain": [
       "        0    1    2    3    4    5    6    7    8    9   10   11\n",
       "yr                                                              \n",
       "1950  1.0  0.0  0.0  0.0  0.0  0.0  0.0  0.0  0.0  0.0  0.0  0.0\n",
       "1950  0.0  1.0  0.0  0.0  0.0  0.0  0.0  0.0  0.0  0.0  0.0  0.0\n",
       "1950  0.0  0.0  1.0  0.0  0.0  0.0  0.0  0.0  0.0  0.0  0.0  0.0\n",
       "1950  0.0  0.0  0.0  1.0  0.0  0.0  0.0  0.0  0.0  0.0  0.0  0.0\n",
       "1950  0.0  0.0  0.0  0.0  1.0  0.0  0.0  0.0  0.0  0.0  0.0  0.0\n",
       "...   ...  ...  ...  ...  ...  ...  ...  ...  ...  ...  ...  ...\n",
       "2021  0.0  0.0  0.0  0.0  0.0  0.0  1.0  0.0  0.0  0.0  0.0  0.0\n",
       "2021  0.0  0.0  0.0  0.0  0.0  0.0  0.0  1.0  0.0  0.0  0.0  0.0\n",
       "2021  0.0  0.0  0.0  0.0  0.0  0.0  0.0  0.0  1.0  0.0  0.0  0.0\n",
       "2021  0.0  0.0  0.0  0.0  0.0  0.0  0.0  0.0  0.0  1.0  0.0  0.0\n",
       "2021  0.0  0.0  0.0  0.0  0.0  0.0  0.0  0.0  0.0  0.0  0.0  1.0\n",
       "\n",
       "[751 rows x 12 columns]"
      ]
     },
     "execution_count": 17,
     "metadata": {},
     "output_type": "execute_result"
    }
   ],
   "source": [
    "onehot_encoded"
   ]
  },
  {
   "cell_type": "code",
   "execution_count": 31,
   "metadata": {},
   "outputs": [],
   "source": [
    "newdf3 = pd.concat([onehot_encoded,newdf2],axis=1)"
   ]
  },
  {
   "cell_type": "code",
   "execution_count": 34,
   "metadata": {},
   "outputs": [],
   "source": [
    "for i in range(12):\n",
    "    newdf3.rename(columns={str(i):'month='+str(i+1)},inplace=True)"
   ]
  },
  {
   "cell_type": "code",
   "execution_count": 36,
   "metadata": {},
   "outputs": [
    {
     "name": "stdout",
     "output_type": "stream",
     "text": [
      "R^2 after one hot encoding= 0.3973006089346705\n",
      "RMSE= 18.304430154318823\n"
     ]
    },
    {
     "data": {
      "text/plain": [
       "Text(0, 0.5, 'predicted output')"
      ]
     },
     "execution_count": 36,
     "metadata": {},
     "output_type": "execute_result"
    },
    {
     "data": {
      "image/png": "[encoded data removed]",
      "text/plain": [
       "<Figure size 432x288 with 1 Axes>"
      ]
     },
     "metadata": {
      "needs_background": "light"
     },
     "output_type": "display_data"
    }
   ],
   "source": [
    "\n",
    "X_train1, X_test1, y_train1, y_test1 = train_test_split(newdf3.drop(['count','mo'],axis=1),\n",
    "                                                        newdf3['count'],test_size=0.3, \n",
    "                                                        random_state=0)\n",
    "model2 = RandomForestRegressor()\n",
    "model2.fit(X_train1, y_train1)\n",
    "\n",
    "# let's get the predictions\n",
    "X_test_preds1 = model2.predict(X_test1)\n",
    "\n",
    "print('R^2 after one hot encoding=', \n",
    "        pearsonr(y_test1,X_test_preds1)[0])\n",
    "print('RMSE=',\n",
    "        math.sqrt(sklearn.metrics.mean_squared_error(X_test_preds1,y_test1)))\n",
    "plt.scatter(y_test1, X_test_preds1);\n",
    "plt.xlabel('testing dataset')\n",
    "plt.ylabel('predicted output')"
   ]
  },
  {
   "cell_type": "markdown",
   "metadata": {},
   "source": [
    "## R^2 comparison of model without and with feature engineering\n",
    "As evident from the printed values, model including the one hot encoded months as features along with climate indices performs better with R^2 ~0.38 whereas the model with just climate indices as features performs poor with insignificant R^2 ~ 0.09. This indicates that the temporal occurence of climate indices plays an important role in predicting the number of tornadoes in particular month."
   ]
  },
  {
   "cell_type": "code",
   "execution_count": 37,
   "metadata": {},
   "outputs": [
    {
     "data": {
      "image/png": "[encoded data removed]",
      "text/plain": [
       "<Figure size 432x288 with 1 Axes>"
      ]
     },
     "metadata": {
      "needs_background": "light"
     },
     "output_type": "display_data"
    }
   ],
   "source": [
    "importance = pd.Series(model2.feature_importances_)\n",
    "importance.index = newdf3.drop(['mo','count'],axis=1).columns\n",
    "# importance.sort_values(inplace=True, ascending=False)\n",
    "importance.plot.barh(figsize=(6,4))\n",
    "plt.show()"
   ]
  },
  {
   "cell_type": "code",
   "execution_count": 38,
   "metadata": {},
   "outputs": [
    {
     "data": {
      "image/png": "[encoded data removed]",
      "text/plain": [
       "<Figure size 432x288 with 1 Axes>"
      ]
     },
     "metadata": {
      "needs_background": "light"
     },
     "output_type": "display_data"
    }
   ],
   "source": [
    "from sklearn.inspection import permutation_importance\n",
    "\n",
    "result = permutation_importance(\n",
    "    model2, X_test1, y_test1, n_repeats=10, random_state=42, n_jobs=2\n",
    ")\n",
    "\n",
    "sorted_importances_idx = result.importances_mean.argsort()\n",
    "importances = pd.DataFrame(\n",
    "    result.importances[sorted_importances_idx].T,\n",
    "    columns= newdf3.drop(['mo','count'],axis=1).columns[sorted_importances_idx],\n",
    ")\n",
    "ax = importances.plot.box(vert=False, whis=10)\n",
    "ax.set_title(\"Permutation Importances (test set)\")\n",
    "ax.axvline(x=0, color=\"k\", linestyle=\"--\")\n",
    "ax.set_xlabel(\"Decrease in accuracy score\")\n",
    "ax.figure.tight_layout()"
   ]
  },
  {
   "cell_type": "code",
   "execution_count": 40,
   "metadata": {},
   "outputs": [
    {
     "name": "stderr",
     "output_type": "stream",
     "text": [
      "Permutation explainer: 752it [05:17,  2.22it/s]                         \n"
     ]
    }
   ],
   "source": [
    "# Fits the explainer\n",
    "import shap\n",
    "explainer = shap.Explainer(\n",
    "                model2.predict, newdf3.drop(['mo','count'],axis=1)\n",
    "            )\n",
    "# Calculates the SHAP values - It takes some time\n",
    "shap_values = explainer( newdf3.drop(['mo','count'],axis=1))"
   ]
  },
  {
   "cell_type": "code",
   "execution_count": 41,
   "metadata": {},
   "outputs": [
    {
     "data": {
      "image/png": "[encoded data removed]",
      "text/plain": [
       "<Figure size 576x568.8 with 2 Axes>"
      ]
     },
     "metadata": {
      "needs_background": "light"
     },
     "output_type": "display_data"
    }
   ],
   "source": [
    "shap.summary_plot(shap_values)"
   ]
  },
  {
   "cell_type": "code",
   "execution_count": 47,
   "metadata": {},
   "outputs": [
    {
     "data": {
      "image/png": "[encoded data removed]",
      "text/plain": [
       "<Figure size 540x360 with 2 Axes>"
      ]
     },
     "metadata": {
      "needs_background": "light"
     },
     "output_type": "display_data"
    }
   ],
   "source": [
    "shap.dependence_plot('ENSO',shap_values.values,newdf3.drop(['mo','count'],axis=1),cmap=plt.get_cmap(\"cool\"))"
   ]
  },
  {
   "cell_type": "markdown",
   "metadata": {},
   "source": [
    "## Interpretation from XAI techniques\n",
    "From various XAI techniques, in this case feature importance and shap values, NAO is the most important climate index and 6th month is most important feature according to both the techniques."
   ]
  }
 ],
 "metadata": {
  "kernelspec": {
   "display_name": "Python 3.9.12 ('env')",
   "language": "python",
   "name": "python3"
  },
  "language_info": {
   "codemirror_mode": {
    "name": "ipython",
    "version": 3
   },
   "file_extension": ".py",
   "mimetype": "text/x-python",
   "name": "python",
   "nbconvert_exporter": "python",
   "pygments_lexer": "ipython3",
   "version": "3.9.12"
  },
  "orig_nbformat": 4,
  "vscode": {
   "interpreter": {
    "hash": "b58afed2828c279b706289b30edf45f8683051fa51aeecb7b91ca6cc91b52286"
   }
  }
 },
 "nbformat": 4,
 "nbformat_minor": 2
}
